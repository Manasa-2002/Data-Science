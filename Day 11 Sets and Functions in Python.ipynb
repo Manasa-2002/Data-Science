{
 "cells": [
  {
   "cell_type": "markdown",
   "metadata": {},
   "source": [
    "### Recap\n",
    "\n",
    "- Dictionary\n",
    "- Dict Methods\n",
    "\n",
    "### Today Objectives\n",
    "\n",
    "- Set\n",
    "- Set Methods\n",
    "- Functions in Python\n",
    "    - Built-In Functions -> print(),input(),sum(),min(),max,type(),id(),len(),range(), sorted(), reversed()\n",
    "### append(), join() or split are only used on string so they are methods\n",
    "    - User Defined Functions\n",
    "    "
   ]
  },
  {
   "cell_type": "markdown",
   "metadata": {},
   "source": [
    "### Sets in Python\n",
    "\n",
    "- It is used for storing non-homogeneous group pof unique data in python\n",
    "\n",
    "\n",
    "### Properties\n",
    "\n",
    "- `{}` for storing the data in comma seperated \n",
    "- It is mutable data type (modify the data)\n",
    "- It is an unordered\n",
    "- we can't access data from set using indexing\n",
    "- It is iterable -> used in loops\n",
    "- It doesn't allow duplicated data\n",
    "    "
   ]
  },
  {
   "cell_type": "code",
   "execution_count": 2,
   "metadata": {},
   "outputs": [
    {
     "name": "stdout",
     "output_type": "stream",
     "text": [
      "<class 'set'>\n"
     ]
    }
   ],
   "source": [
    "s1 = set()\n",
    "\n",
    "print(type(s1))"
   ]
  },
  {
   "cell_type": "code",
   "execution_count": 3,
   "metadata": {},
   "outputs": [
    {
     "name": "stdout",
     "output_type": "stream",
     "text": [
      "<class 'set'>\n"
     ]
    }
   ],
   "source": [
    "s1 = {2,1,5,6,'apssdc','Python',2.55,56,0.26,0.10}\n",
    "\n",
    "print(type(s1))"
   ]
  },
  {
   "cell_type": "code",
   "execution_count": 4,
   "metadata": {},
   "outputs": [
    {
     "name": "stdout",
     "output_type": "stream",
     "text": [
      "{0.26, 1, 2, 2.55, 0.1, 5, 6, 'Python', 'apssdc', 56}\n"
     ]
    }
   ],
   "source": [
    "print(s1)"
   ]
  },
  {
   "cell_type": "code",
   "execution_count": 5,
   "metadata": {},
   "outputs": [
    {
     "name": "stdout",
     "output_type": "stream",
     "text": [
      "{1, 2, 3, 4}\n"
     ]
    }
   ],
   "source": [
    "s2 = {1,2,3,4,4,3,2,1}\n",
    "\n",
    "print(s2)"
   ]
  },
  {
   "cell_type": "code",
   "execution_count": 8,
   "metadata": {},
   "outputs": [],
   "source": [
    "st = \"\"\"Python is an interpreted high-level general-purpose programming language. Python's design philosophy emphasizes code readability with its notable use of significant indentation. Wikipedia\n",
    "Developer: Python Software Foundation\n",
    "Stable release: 3.9.5 / 3 May 2021; 19 days ago\n",
    "Preview release: 3.10.0b1 / 3 May 2021; 19 days ago\n",
    "Typing discipline: Duck, dynamic, strong typing; gradual (since 3.5, but ignored in CPython)\n",
    "First appeared: February 1991; 30 years ago\n",
    "Paradigm: Multi-paradigm: object-oriented, procedural (imperative), functional, structured, reflective\"\"\""
   ]
  },
  {
   "cell_type": "code",
   "execution_count": 9,
   "metadata": {
    "scrolled": true
   },
   "outputs": [
    {
     "name": "stdout",
     "output_type": "stream",
     "text": [
      "{'P': 6, 'y': 15, 't': 28, 'h': 10, 'o': 25, 'n': 29, ' ': 67, 'i': 39, 's': 20, 'a': 38, 'e': 48, 'r': 29, 'p': 17, 'd': 19, 'g': 18, '-': 4, 'l': 17, 'v': 5, 'u': 13, 'm': 7, '.': 7, \"'\": 1, 'z': 1, 'c': 11, 'b': 7, 'w': 3, 'f': 5, 'W': 1, 'k': 2, '\\n': 6, 'D': 2, ':': 7, 'S': 2, 'F': 3, '3': 6, '9': 5, '5': 2, '/': 2, 'M': 3, '2': 4, '0': 5, '1': 8, ';': 4, 'T': 1, ',': 7, '(': 2, 'C': 1, ')': 2, 'j': 1}\n"
     ]
    }
   ],
   "source": [
    "c = {}\n",
    "\n",
    "for char in st:\n",
    "    c[char] = st.count(char)\n",
    "    \n",
    "print(c)"
   ]
  },
  {
   "cell_type": "code",
   "execution_count": 15,
   "metadata": {},
   "outputs": [
    {
     "name": "stdout",
     "output_type": "stream",
     "text": [
      "P y t h o n   i s   a n   i n t e r p r e t e d   h i g h - l e v e l   g e n e r a l - p u r p o s e   p r o g r a m m i n g   l a n g u a g e .   P y t h o n ' s   d e s i g n   p h i l o s o p h y   e m p h a s i z e s   c o d e   r e a d a b i l i t y   w i t h   i t s   n o t a b l e   u s e   o f   s i g n i f i c a n t   i n d e n t a t i o n .   W i k i p e d i a \n",
      " D e v e l o p e r :   P y t h o n   S o f t w a r e   F o u n d a t i o n \n",
      " S t a b l e   r e l e a s e :   3 . 9 . 5   /   3   M a y   2 0 2 1 ;   1 9   d a y s   a g o \n",
      " P r e v i e w   r e l e a s e :   3 . 1 0 . 0 b 1   /   3   M a y   2 0 2 1 ;   1 9   d a y s   a g o \n",
      " T y p i n g   d i s c i p l i n e :   D u c k ,   d y n a m i c ,   s t r o n g   t y p i n g ;   g r a d u a l   ( s i n c e   3 . 5 ,   b u t   i g n o r e d   i n   C P y t h o n ) \n",
      " F i r s t   a p p e a r e d :   F e b r u a r y   1 9 9 1 ;   3 0   y e a r s   a g o \n",
      " P a r a d i g m :   M u l t i - p a r a d i g m :   o b j e c t - o r i e n t e d ,   p r o c e d u r a l   ( i m p e r a t i v e ) ,   f u n c t i o n a l ,   s t r u c t u r e d ,   r e f l e c t i v e "
     ]
    }
   ],
   "source": [
    "c = {}\n",
    "\n",
    "for char in st:\n",
    "    print(char, end=' ')\n",
    "    # c[char] = st.count(char)\n",
    "    "
   ]
  },
  {
   "cell_type": "code",
   "execution_count": 11,
   "metadata": {},
   "outputs": [
    {
     "name": "stdout",
     "output_type": "stream",
     "text": [
      "565\n"
     ]
    }
   ],
   "source": [
    "print(len(st))"
   ]
  },
  {
   "cell_type": "code",
   "execution_count": 12,
   "metadata": {},
   "outputs": [
    {
     "name": "stdout",
     "output_type": "stream",
     "text": [
      "49\n"
     ]
    }
   ],
   "source": [
    "print(len(c))  # length of keys"
   ]
  },
  {
   "cell_type": "code",
   "execution_count": 16,
   "metadata": {},
   "outputs": [
    {
     "name": "stdout",
     "output_type": "stream",
     "text": [
      "{'v', 'F', '3', '5', 'u', 'T', '2', 'k', 'd', '/', '-', 's', 't', 'b', 'P', ',', \"'\", 'r', 'i', 'j', '0', 'o', 'D', '(', '9', ' ', 'h', 'y', '1', 'z', ';', ')', 'e', ':', 'l', '\\n', 'c', 'W', 'p', 'm', 'C', 'f', 'a', 'w', 'g', '.', 'n', 'M', 'S'}\n"
     ]
    }
   ],
   "source": [
    "s3 = set(st) \n",
    "\n",
    "print(s3)"
   ]
  },
  {
   "cell_type": "code",
   "execution_count": 17,
   "metadata": {},
   "outputs": [
    {
     "name": "stdout",
     "output_type": "stream",
     "text": [
      "49\n"
     ]
    }
   ],
   "source": [
    "print(len(s3))"
   ]
  },
  {
   "cell_type": "code",
   "execution_count": null,
   "metadata": {},
   "outputs": [],
   "source": []
  }
 ],
 "metadata": {
  "kernelspec": {
   "display_name": "Python 3",
   "language": "python",
   "name": "python3"
  },
  "language_info": {
   "codemirror_mode": {
    "name": "ipython",
    "version": 3
   },
   "file_extension": ".py",
   "mimetype": "text/x-python",
   "name": "python",
   "nbconvert_exporter": "python",
   "pygments_lexer": "ipython3",
   "version": "3.7.3"
  }
 },
 "nbformat": 4,
 "nbformat_minor": 2
}
