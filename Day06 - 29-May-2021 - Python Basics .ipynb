{
 "cells": [
  {
   "cell_type": "markdown",
   "metadata": {},
   "source": [
    "# Python Basics"
   ]
  },
  {
   "cell_type": "markdown",
   "metadata": {},
   "source": [
    "# Today's Objectives\n",
    "\n",
    "- Output & Input\n",
    "- Variables in Python\n",
    "- Type COnversions in Python\n",
    "- Operators in Python\n",
    "- Condtional Statements"
   ]
  },
  {
   "cell_type": "code",
   "execution_count": 1,
   "metadata": {},
   "outputs": [
    {
     "name": "stdout",
     "output_type": "stream",
     "text": [
      "Hello World\n"
     ]
    }
   ],
   "source": [
    "print(\"Hello World\")"
   ]
  },
  {
   "cell_type": "code",
   "execution_count": 2,
   "metadata": {},
   "outputs": [
    {
     "name": "stdout",
     "output_type": "stream",
     "text": [
      "Today's date is 29\n"
     ]
    }
   ],
   "source": [
    "print(\"Today's date is\", 29)"
   ]
  },
  {
   "cell_type": "code",
   "execution_count": 3,
   "metadata": {},
   "outputs": [
    {
     "name": "stdout",
     "output_type": "stream",
     "text": [
      "Today's date is-29\n"
     ]
    }
   ],
   "source": [
    "print(\"Today's date is\",29,sep='-')"
   ]
  },
  {
   "cell_type": "code",
   "execution_count": 4,
   "metadata": {},
   "outputs": [
    {
     "name": "stdout",
     "output_type": "stream",
     "text": [
      "1\t2\t3\t4\t5\t6\n"
     ]
    }
   ],
   "source": [
    "print(1, 2, 3, 4, 5, 6, sep = '\\t')"
   ]
  },
  {
   "cell_type": "code",
   "execution_count": 5,
   "metadata": {},
   "outputs": [
    {
     "name": "stdout",
     "output_type": "stream",
     "text": [
      "1abc2abc3abc4abc5abc6\n"
     ]
    }
   ],
   "source": [
    "print(1, 2, 3, 4, 5, 6, sep = 'abc')"
   ]
  },
  {
   "cell_type": "code",
   "execution_count": 6,
   "metadata": {},
   "outputs": [
    {
     "name": "stdout",
     "output_type": "stream",
     "text": [
      "Hello World\n",
      "Hello World\n",
      "Hello World3\n"
     ]
    }
   ],
   "source": [
    "print(\"Hello World\")\n",
    "print(\"Hello World\")\n",
    "print(\"Hello World3\")"
   ]
  },
  {
   "cell_type": "code",
   "execution_count": 7,
   "metadata": {},
   "outputs": [
    {
     "name": "stdout",
     "output_type": "stream",
     "text": [
      "Hello World\tHello World\n",
      "Hello World3\n"
     ]
    }
   ],
   "source": [
    "print(\"Hello World\", end = '\\t')\n",
    "print(\"Hello World\")\n",
    "print(\"Hello World3\")"
   ]
  },
  {
   "cell_type": "markdown",
   "metadata": {},
   "source": [
    "### Variables\n",
    "\n",
    "- It is the named memory location which holds some value\n",
    "\n",
    "### Properties of declaring a variables\n",
    "\n",
    "- It can contain a-z, A-Z, 0-9, _\n",
    "- It shouldn't start with a number\n",
    "- No special characters are allowed except _\n",
    "- Keywords are not allowed\n",
    "- Case Sensitive"
   ]
  },
  {
   "cell_type": "code",
   "execution_count": 8,
   "metadata": {},
   "outputs": [],
   "source": [
    "a = 10\n",
    "A = 5"
   ]
  },
  {
   "cell_type": "code",
   "execution_count": 17,
   "metadata": {},
   "outputs": [],
   "source": [
    "a = 55\n",
    "_a = 2256\n",
    "# 1a = 66  # not allowed = invalid syntax(declaration)\n",
    "# a-b = 23+66  # not allowed = can't assign to operator\n",
    "_ = 625\n",
    "a9 = 'Python'\n",
    "a9_ = 'APSSDC'"
   ]
  },
  {
   "cell_type": "markdown",
   "metadata": {},
   "source": [
    "### Data Types in Python\n",
    "\n",
    "\n",
    "- Primary Data Types -> int, float,complex, string, boolean\n",
    "- Secondary Data Types -> Containers -> List, Tuple, Dictionary, Set"
   ]
  },
  {
   "cell_type": "code",
   "execution_count": 9,
   "metadata": {},
   "outputs": [],
   "source": [
    "a =55\n",
    "b = 55.66\n",
    "c = 5+6j\n",
    "d = True\n",
    "e = 'a+5/.,;'\n",
    "f = ['python', 65, 5+6j, 55.665]    # list\n",
    "g = ('python', 65, 5+6j,55/665) # Tuple    \n",
    "h = {'Name': 'Python'} # key and value pair\n",
    "i = {1,2,3,4} # set"
   ]
  },
  {
   "cell_type": "code",
   "execution_count": 10,
   "metadata": {},
   "outputs": [
    {
     "name": "stdout",
     "output_type": "stream",
     "text": [
      "<class 'int'>\n"
     ]
    }
   ],
   "source": [
    "print(type(a))"
   ]
  },
  {
   "cell_type": "code",
   "execution_count": 11,
   "metadata": {},
   "outputs": [
    {
     "name": "stdout",
     "output_type": "stream",
     "text": [
      "<class 'float'>\n"
     ]
    }
   ],
   "source": [
    "a = 55.66\n",
    "\n",
    "print(type(a))"
   ]
  },
  {
   "cell_type": "code",
   "execution_count": 16,
   "metadata": {},
   "outputs": [
    {
     "name": "stdout",
     "output_type": "stream",
     "text": [
      "<class 'complex'> <class 'set'>\n"
     ]
    }
   ],
   "source": [
    "print(type(c), type(i))"
   ]
  },
  {
   "cell_type": "code",
   "execution_count": 17,
   "metadata": {},
   "outputs": [
    {
     "name": "stdout",
     "output_type": "stream",
     "text": [
      "123\n"
     ]
    }
   ],
   "source": [
    "a = input()"
   ]
  },
  {
   "cell_type": "code",
   "execution_count": 19,
   "metadata": {},
   "outputs": [],
   "source": [
    "abc = 555.6"
   ]
  },
  {
   "cell_type": "markdown",
   "metadata": {},
   "source": [
    "### When ever you are storing anything by taking input from user it will store in form of string"
   ]
  },
  {
   "cell_type": "code",
   "execution_count": 20,
   "metadata": {},
   "outputs": [
    {
     "name": "stdout",
     "output_type": "stream",
     "text": [
      "<class 'str'>\n"
     ]
    }
   ],
   "source": [
    "print(type(a))"
   ]
  },
  {
   "cell_type": "code",
   "execution_count": 22,
   "metadata": {},
   "outputs": [
    {
     "name": "stdout",
     "output_type": "stream",
     "text": [
      "1,2,3\n"
     ]
    }
   ],
   "source": [
    "b = input()"
   ]
  },
  {
   "cell_type": "code",
   "execution_count": 23,
   "metadata": {},
   "outputs": [
    {
     "name": "stdout",
     "output_type": "stream",
     "text": [
      "1,2,3 <class 'str'>\n"
     ]
    }
   ],
   "source": [
    "print(b, type(b))"
   ]
  },
  {
   "cell_type": "markdown",
   "metadata": {},
   "source": [
    "## Type Conversions"
   ]
  },
  {
   "cell_type": "code",
   "execution_count": 24,
   "metadata": {},
   "outputs": [
    {
     "name": "stdout",
     "output_type": "stream",
     "text": [
      "123\n",
      "123 <class 'int'>\n"
     ]
    }
   ],
   "source": [
    "a = int(input())\n",
    "\n",
    "\n",
    "print(a, type(a))"
   ]
  },
  {
   "cell_type": "code",
   "execution_count": 27,
   "metadata": {},
   "outputs": [
    {
     "name": "stdout",
     "output_type": "stream",
     "text": [
      "235.66\n"
     ]
    },
    {
     "ename": "ValueError",
     "evalue": "invalid literal for int() with base 10: '235.66'",
     "output_type": "error",
     "traceback": [
      "\u001b[1;31m---------------------------------------------------------------------------\u001b[0m",
      "\u001b[1;31mValueError\u001b[0m                                Traceback (most recent call last)",
      "\u001b[1;32m<ipython-input-27-f4932f7a7800>\u001b[0m in \u001b[0;36m<module>\u001b[1;34m\u001b[0m\n\u001b[1;32m----> 1\u001b[1;33m \u001b[0ma\u001b[0m \u001b[1;33m=\u001b[0m \u001b[0mint\u001b[0m\u001b[1;33m(\u001b[0m\u001b[0minput\u001b[0m\u001b[1;33m(\u001b[0m\u001b[1;33m)\u001b[0m\u001b[1;33m)\u001b[0m\u001b[1;33m\u001b[0m\u001b[1;33m\u001b[0m\u001b[0m\n\u001b[0m\u001b[0;32m      2\u001b[0m \u001b[1;33m\u001b[0m\u001b[0m\n\u001b[0;32m      3\u001b[0m \u001b[1;33m\u001b[0m\u001b[0m\n\u001b[0;32m      4\u001b[0m \u001b[0mprint\u001b[0m\u001b[1;33m(\u001b[0m\u001b[0ma\u001b[0m\u001b[1;33m,\u001b[0m \u001b[0mtype\u001b[0m\u001b[1;33m(\u001b[0m\u001b[0ma\u001b[0m\u001b[1;33m)\u001b[0m\u001b[1;33m)\u001b[0m\u001b[1;33m\u001b[0m\u001b[1;33m\u001b[0m\u001b[0m\n",
      "\u001b[1;31mValueError\u001b[0m: invalid literal for int() with base 10: '235.66'"
     ]
    }
   ],
   "source": [
    "a = int(input())\n",
    "\n",
    "\n",
    "print(a, type(a))"
   ]
  },
  {
   "cell_type": "code",
   "execution_count": 29,
   "metadata": {},
   "outputs": [
    {
     "name": "stdout",
     "output_type": "stream",
     "text": [
      "125.336\n",
      "125.336 <class 'float'>\n"
     ]
    }
   ],
   "source": [
    "a = float(input())\n",
    "\n",
    "\n",
    "print(a, type(a))"
   ]
  },
  {
   "cell_type": "markdown",
   "metadata": {},
   "source": [
    "### Number System Conversion\n",
    "\n",
    "- Decimal -> 10 -> 0-9\n",
    "- Binary -> 0,1\n",
    "- Octal -> 0-7\n",
    "- Hexadecimal -> 16 ->0-F"
   ]
  },
  {
   "cell_type": "code",
   "execution_count": 31,
   "metadata": {},
   "outputs": [
    {
     "name": "stdout",
     "output_type": "stream",
     "text": [
      "0b110111 0o67 0x37\n"
     ]
    }
   ],
   "source": [
    "a = 55\n",
    "\n",
    "print(bin(a), oct(a), hex(a))"
   ]
  },
  {
   "cell_type": "code",
   "execution_count": 32,
   "metadata": {},
   "outputs": [
    {
     "name": "stdout",
     "output_type": "stream",
     "text": [
      "55 55 55\n"
     ]
    }
   ],
   "source": [
    "print(int('110111', 2), int('67', 8), int('37', 16))"
   ]
  },
  {
   "cell_type": "code",
   "execution_count": 33,
   "metadata": {},
   "outputs": [
    {
     "name": "stdout",
     "output_type": "stream",
     "text": [
      "97\n"
     ]
    }
   ],
   "source": [
    "print(ord('a'))"
   ]
  },
  {
   "cell_type": "code",
   "execution_count": 34,
   "metadata": {},
   "outputs": [
    {
     "name": "stdout",
     "output_type": "stream",
     "text": [
      "a\n"
     ]
    }
   ],
   "source": [
    "print(chr(97))"
   ]
  },
  {
   "cell_type": "markdown",
   "metadata": {},
   "source": [
    "### Operators in Python\n",
    "\n",
    "- Arthmetic Operator  -> +, -, *, /, %, //, **\n",
    "- Logical -> and, or, not\n",
    "- Comparison/Relational -> <, >, <=, >=, ==, !=\n",
    "- Bitwise Operator -> &(and), |(or), ~(Not), ^(XOR), >>(right shift), <<(left shift)\n",
    "- Assignment Operator -> +=, -=, /=, %=, //=, **=\n",
    "- Identity Operators -> is, not is\n",
    "- Membershio Operators -> in, not in"
   ]
  },
  {
   "cell_type": "code",
   "execution_count": 39,
   "metadata": {},
   "outputs": [
    {
     "name": "stdout",
     "output_type": "stream",
     "text": [
      "14->-6->40->0.4->4->0->16\n"
     ]
    }
   ],
   "source": [
    "a = 4\n",
    "b = 10\n",
    "\n",
    "print(a+b, a-b, a*b, a/b, a%b, a//b, a**2, sep = '->' )"
   ]
  },
  {
   "cell_type": "markdown",
   "metadata": {},
   "source": [
    "### and (inp1*inp2)\n",
    "\n",
    "|inp1| inp 2|inp 1 and inp2|\n",
    "|----|-----|-----|\n",
    "|T|T|T|\n",
    "|T|F|F|\n",
    "|F|T|F|\n",
    "|F|F|F|\n",
    "\n",
    "### or (inp1+inp2)\n",
    "\n",
    "|inp1| inp 2|inp 1 and inp2|\n",
    "|----|-----|-----|\n",
    "|T|T|T|\n",
    "|T|F|T|\n",
    "|F|T|T|\n",
    "|F|F|F|\n",
    "\n",
    "### not \n",
    "\n",
    "|inp1| inp 2|inp 1 and inp2|\n",
    "|----|-----|-----|\n",
    "|F|T|\n",
    "|T|F|\n"
   ]
  },
  {
   "cell_type": "code",
   "execution_count": 51,
   "metadata": {},
   "outputs": [
    {
     "name": "stdout",
     "output_type": "stream",
     "text": [
      "0->1->False->0-><class 'str'>->False\n"
     ]
    }
   ],
   "source": [
    "a = 1\n",
    "b = 0\n",
    "c = '0'   # 0 is inside the string so it is considered true in python\n",
    "\n",
    "print(a and b, a or b, not a, a and c, type(a and c), not c, sep ='->')"
   ]
  },
  {
   "cell_type": "code",
   "execution_count": 55,
   "metadata": {},
   "outputs": [
    {
     "name": "stdout",
     "output_type": "stream",
     "text": [
      "0 0 5\n"
     ]
    }
   ],
   "source": [
    "print(a and c, c and a, a or c)  # returns variable that is in second variable when first is true or if first value is false then returns false "
   ]
  },
  {
   "cell_type": "code",
   "execution_count": 56,
   "metadata": {},
   "outputs": [
    {
     "name": "stdout",
     "output_type": "stream",
     "text": [
      "6\n",
      "0 0\n"
     ]
    }
   ],
   "source": [
    "a = 5\n",
    "b = 6\n",
    "c =0\n",
    " \n",
    "print(a and b)\n",
    "print(a and c, c and a)"
   ]
  },
  {
   "cell_type": "code",
   "execution_count": 57,
   "metadata": {},
   "outputs": [
    {
     "name": "stdout",
     "output_type": "stream",
     "text": [
      "True False False\n"
     ]
    }
   ],
   "source": [
    "a = 5\n",
    "b = 6\n",
    "c =0\n",
    " \n",
    "print(a < b, a>b, a==b)"
   ]
  },
  {
   "cell_type": "markdown",
   "metadata": {},
   "source": [
    "### Bitwise Operators\n",
    "\n",
    "```\n",
    "&, |, ~, ^\n",
    "\n",
    "a = 4\n",
    "b = 10\n",
    "\n",
    "\n",
    "4 ->  0100\n",
    "10 -> 1010\n",
    "      _____\n",
    "      0000 -> 0 -> and \n",
    "      1110 -> 14 -> or\n",
    "      ______    \n",
    "      \n",
    "~a\n",
    "4 -> 0100\n",
    "     0001\n",
    "     -0101 -> 5\n",
    "     \n",
    "```\n",
    "      \n",
    "      \n",
    "   "
   ]
  },
  {
   "cell_type": "code",
   "execution_count": 59,
   "metadata": {},
   "outputs": [
    {
     "name": "stdout",
     "output_type": "stream",
     "text": [
      "0 14 -5\n"
     ]
    }
   ],
   "source": [
    "a = 4\n",
    "b = 10\n",
    "\n",
    "print(a & b , a|b, ~a)\n"
   ]
  },
  {
   "cell_type": "markdown",
   "metadata": {},
   "source": [
    "### XOR\n",
    "\n",
    "XOR -> A'B + AB'\n",
    "\n",
    "|inp1| inp 2|inp 1 and inp2|\n",
    "|----|-----|-----|\n",
    "|T|T|F|\n",
    "|T|F|T|\n",
    "|F|T|T|\n",
    "|F|F|F|"
   ]
  },
  {
   "cell_type": "markdown",
   "metadata": {},
   "source": [
    "```\n",
    "a = 4 ->  0100\n",
    "b = 10->  1010\n",
    "        ________\n",
    "          1110 -> 14\n",
    "```"
   ]
  },
  {
   "cell_type": "code",
   "execution_count": 61,
   "metadata": {},
   "outputs": [
    {
     "name": "stdout",
     "output_type": "stream",
     "text": [
      "14\n"
     ]
    }
   ],
   "source": [
    "print(a ^ b)"
   ]
  },
  {
   "cell_type": "markdown",
   "metadata": {},
   "source": [
    "### Left Shift and Right Shift\n",
    "\n",
    "a = 4 -> 0100\n",
    "\n",
    "\n",
    "a << 2 -> 010000 -> 16\n",
    "\n",
    "a << 2 -> 0001 -> 1 \n",
    "\n",
    "## left shift place that many 0's on right side and vice-versa\n"
   ]
  },
  {
   "cell_type": "code",
   "execution_count": 62,
   "metadata": {},
   "outputs": [
    {
     "name": "stdout",
     "output_type": "stream",
     "text": [
      "16 1\n"
     ]
    }
   ],
   "source": [
    "a = 4\n",
    "print(a<<2, a>>2)"
   ]
  },
  {
   "cell_type": "code",
   "execution_count": 67,
   "metadata": {},
   "outputs": [
    {
     "name": "stdout",
     "output_type": "stream",
     "text": [
      "15\n",
      "25\n",
      "20\n",
      "400\n"
     ]
    }
   ],
   "source": [
    "# assignment operators are short-hand operators in 'C'\n",
    "\n",
    "a = 5\n",
    "a = a+10\n",
    "print(a)\n",
    "a +=10\n",
    "print(a)\n",
    "a -= 5\n",
    "print(a)\n",
    "a **= 2\n",
    "print(a)"
   ]
  },
  {
   "cell_type": "markdown",
   "metadata": {},
   "source": [
    "### Membership Operators"
   ]
  },
  {
   "cell_type": "code",
   "execution_count": 70,
   "metadata": {},
   "outputs": [
    {
     "name": "stdout",
     "output_type": "stream",
     "text": [
      "False False True True\n"
     ]
    }
   ],
   "source": [
    "a = 'Python'\n",
    "b = 'Py'\n",
    "c = 'py'\n",
    "\n",
    "print(a in b, a in c, a not in c, b in a)\n"
   ]
  },
  {
   "cell_type": "markdown",
   "metadata": {},
   "source": [
    "### Identity Operators"
   ]
  },
  {
   "cell_type": "code",
   "execution_count": 79,
   "metadata": {},
   "outputs": [],
   "source": [
    "a = 5\n",
    "b =5.5\n",
    "c = 5\n",
    "d = [1,2,3]\n",
    "e =[1,2,3]\n",
    "f = d"
   ]
  },
  {
   "cell_type": "code",
   "execution_count": 90,
   "metadata": {},
   "outputs": [
    {
     "name": "stdout",
     "output_type": "stream",
     "text": [
      "[1, 2, 3, 'Python']\n"
     ]
    }
   ],
   "source": [
    "print(f)"
   ]
  },
  {
   "cell_type": "code",
   "execution_count": 91,
   "metadata": {},
   "outputs": [
    {
     "name": "stdout",
     "output_type": "stream",
     "text": [
      "True False True\n"
     ]
    }
   ],
   "source": [
    "print(a==c, d==e, d==f)"
   ]
  },
  {
   "cell_type": "code",
   "execution_count": 96,
   "metadata": {},
   "outputs": [
    {
     "name": "stdout",
     "output_type": "stream",
     "text": [
      "140729813341120\n",
      "140729813341120\n",
      "2218536370888\n",
      "2218535523144\n",
      "2218536370888\n"
     ]
    }
   ],
   "source": [
    "print(id(a))\n",
    "print(id(c))   # function which gives the memory location/address ofdata\n",
    "print(id(d))\n",
    "print(id(e))\n",
    "print(id(f))\n",
    "## when same value is stored in different variables same location they are stored for primary variables"
   ]
  },
  {
   "cell_type": "code",
   "execution_count": 97,
   "metadata": {},
   "outputs": [
    {
     "name": "stdout",
     "output_type": "stream",
     "text": [
      "[1, 2, 3, 'Python', 'Python', 'Python']\n"
     ]
    }
   ],
   "source": [
    "d.append('Python')\n",
    "\n",
    "print(d)"
   ]
  },
  {
   "cell_type": "code",
   "execution_count": 98,
   "metadata": {},
   "outputs": [
    {
     "name": "stdout",
     "output_type": "stream",
     "text": [
      "[1, 2, 3, 'Python', 'Python', 'Python']\n"
     ]
    }
   ],
   "source": [
    "print(f)   #both d and f having same memory location "
   ]
  },
  {
   "cell_type": "code",
   "execution_count": 100,
   "metadata": {},
   "outputs": [
    {
     "name": "stdout",
     "output_type": "stream",
     "text": [
      "[1, 2, 3, 'Python', 'Python', 'Python'] [1, 2, 3] [1, 2, 3, 'Python', 'Python', 'Python']\n",
      "False True False True\n"
     ]
    }
   ],
   "source": [
    "print(d,e,f)\n",
    "print(d is e, d is f, e is f, d is not e)"
   ]
  },
  {
   "cell_type": "code",
   "execution_count": null,
   "metadata": {},
   "outputs": [],
   "source": []
  },
  {
   "cell_type": "code",
   "execution_count": null,
   "metadata": {},
   "outputs": [],
   "source": []
  },
  {
   "cell_type": "code",
   "execution_count": null,
   "metadata": {},
   "outputs": [],
   "source": []
  }
 ],
 "metadata": {
  "kernelspec": {
   "display_name": "Python 3",
   "language": "python",
   "name": "python3"
  },
  "language_info": {
   "codemirror_mode": {
    "name": "ipython",
    "version": 3
   },
   "file_extension": ".py",
   "mimetype": "text/x-python",
   "name": "python",
   "nbconvert_exporter": "python",
   "pygments_lexer": "ipython3",
   "version": "3.7.3"
  }
 },
 "nbformat": 4,
 "nbformat_minor": 2
}
