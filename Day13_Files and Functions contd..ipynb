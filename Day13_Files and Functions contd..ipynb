{
 "cells": [
  {
   "cell_type": "markdown",
   "metadata": {},
   "source": [
    "   # Day 13 Packages and Modules"
   ]
  },
  {
   "cell_type": "markdown",
   "metadata": {},
   "source": [
    "### Recap\n",
    "\n",
    "\n",
    "#### Files in Python\n",
    "\n",
    "- Open\n",
    "- Do some operations\n",
    "- Close"
   ]
  },
  {
   "cell_type": "markdown",
   "metadata": {},
   "source": [
    "### Day 13 Objectives\n",
    "\n",
    "- Positional Arguments\n",
    "- Keyword Arguments\n",
    "- Default Arguments \n",
    "\n",
    "- Examples in Files\n",
    "- Variable Length Arguments -> Arbitrary Functions\n",
    "- Call By Value\n",
    "- Call By Reference\n",
    "- Examples in Files\n",
    "\n",
    "- Modules and Packages"
   ]
  },
  {
   "cell_type": "code",
   "execution_count": 1,
   "metadata": {},
   "outputs": [],
   "source": [
    "def addition(a,b):\n",
    "    return a+b"
   ]
  },
  {
   "cell_type": "code",
   "execution_count": 2,
   "metadata": {},
   "outputs": [
    {
     "name": "stdout",
     "output_type": "stream",
     "text": [
      "10\n"
     ]
    }
   ],
   "source": [
    "print(addition(5,5))"
   ]
  },
  {
   "cell_type": "markdown",
   "metadata": {},
   "source": [
    "### Variable Length Arguments"
   ]
  },
  {
   "cell_type": "code",
   "execution_count": 3,
   "metadata": {},
   "outputs": [],
   "source": [
    "def addition(a, *b):  # *args # data type of a is int and b is tuple\n",
    "    print(a)\n",
    "    print(b)\n",
    "    return "
   ]
  },
  {
   "cell_type": "code",
   "execution_count": 4,
   "metadata": {},
   "outputs": [
    {
     "name": "stdout",
     "output_type": "stream",
     "text": [
      "5\n",
      "(5,)\n",
      "None\n"
     ]
    }
   ],
   "source": [
    "print(addition(5,5))"
   ]
  },
  {
   "cell_type": "code",
   "execution_count": 5,
   "metadata": {},
   "outputs": [
    {
     "name": "stdout",
     "output_type": "stream",
     "text": [
      "5\n",
      "(8, 6, 7, 9, 3, 5, 55, 7, 5, 5)\n"
     ]
    }
   ],
   "source": [
    "addition(5,8,6,7,9,3,5,55,7,5,5)"
   ]
  },
  {
   "cell_type": "code",
   "execution_count": 7,
   "metadata": {},
   "outputs": [],
   "source": [
    "def addition(*a, b):  # we can't create multiple length variable arguments\n",
    "    print(a)\n",
    "    print(b)\n",
    "    return "
   ]
  },
  {
   "cell_type": "code",
   "execution_count": 8,
   "metadata": {},
   "outputs": [
    {
     "ename": "TypeError",
     "evalue": "addition() missing 1 required keyword-only argument: 'b'",
     "output_type": "error",
     "traceback": [
      "\u001b[1;31m---------------------------------------------------------------------------\u001b[0m",
      "\u001b[1;31mTypeError\u001b[0m                                 Traceback (most recent call last)",
      "\u001b[1;32m<ipython-input-8-6d7e01db062d>\u001b[0m in \u001b[0;36m<module>\u001b[1;34m\u001b[0m\n\u001b[1;32m----> 1\u001b[1;33m \u001b[0maddition\u001b[0m\u001b[1;33m(\u001b[0m\u001b[1;36m5\u001b[0m\u001b[1;33m,\u001b[0m\u001b[1;36m5\u001b[0m\u001b[1;33m,\u001b[0m\u001b[1;36m10\u001b[0m\u001b[1;33m,\u001b[0m\u001b[1;36m324\u001b[0m\u001b[1;33m,\u001b[0m\u001b[1;36m64\u001b[0m\u001b[1;33m,\u001b[0m\u001b[1;36m534\u001b[0m\u001b[1;33m,\u001b[0m\u001b[1;36m35\u001b[0m\u001b[1;33m)\u001b[0m\u001b[1;33m\u001b[0m\u001b[1;33m\u001b[0m\u001b[0m\n\u001b[0m",
      "\u001b[1;31mTypeError\u001b[0m: addition() missing 1 required keyword-only argument: 'b'"
     ]
    }
   ],
   "source": [
    "addition(5,5,10,324,64,534,35)"
   ]
  },
  {
   "cell_type": "code",
   "execution_count": 9,
   "metadata": {},
   "outputs": [
    {
     "name": "stdout",
     "output_type": "stream",
     "text": [
      "(5, 5, 10, 324, 64, 534, 35)\n",
      "35\n"
     ]
    }
   ],
   "source": [
    "addition(5,5,10,324,64,534,35, b= 35)"
   ]
  },
  {
   "cell_type": "code",
   "execution_count": 12,
   "metadata": {},
   "outputs": [],
   "source": [
    "def addition(*a, b):\n",
    "    s = b\n",
    "    for num in a:\n",
    "        s += num         \n",
    "    return s"
   ]
  },
  {
   "cell_type": "code",
   "execution_count": 14,
   "metadata": {},
   "outputs": [
    {
     "data": {
      "text/plain": [
       "1032"
      ]
     },
     "execution_count": 14,
     "metadata": {},
     "output_type": "execute_result"
    }
   ],
   "source": [
    "addition(5,5,10,324,64,534,35, b=55)"
   ]
  },
  {
   "cell_type": "code",
   "execution_count": 15,
   "metadata": {},
   "outputs": [],
   "source": [
    "def addition(*a, b):\n",
    "    return sum(a) + b"
   ]
  },
  {
   "cell_type": "code",
   "execution_count": 16,
   "metadata": {},
   "outputs": [
    {
     "data": {
      "text/plain": [
       "1032"
      ]
     },
     "execution_count": 16,
     "metadata": {},
     "output_type": "execute_result"
    }
   ],
   "source": [
    "addition(5,5,10,324,64,534,35, b=55)"
   ]
  },
  {
   "cell_type": "code",
   "execution_count": 17,
   "metadata": {},
   "outputs": [],
   "source": [
    "def addition(**var):   # *kwargs - taking multiple argumenys\n",
    "    return var"
   ]
  },
  {
   "cell_type": "code",
   "execution_count": 18,
   "metadata": {},
   "outputs": [
    {
     "name": "stdout",
     "output_type": "stream",
     "text": [
      "{'a': 1, 'b': 10, 'c': 25, 'd': 35, 'abc': 55}\n"
     ]
    }
   ],
   "source": [
    "print(addition(a=1, b=10, c=25, d=35, abc=55))"
   ]
  },
  {
   "cell_type": "code",
   "execution_count": 19,
   "metadata": {},
   "outputs": [
    {
     "name": "stdout",
     "output_type": "stream",
     "text": [
      "1\t5\t79\t6\t8\t68\t6\t22\t96\t3\t59\t6\t332\n"
     ]
    }
   ],
   "source": [
    "print(1,5,79,6,8,68,6,22,96,3,59,6,332, sep='\\t')"
   ]
  },
  {
   "cell_type": "code",
   "execution_count": 21,
   "metadata": {},
   "outputs": [
    {
     "name": "stdout",
     "output_type": "stream",
     "text": [
      "\n",
      "Read a comma-separated values (csv) file into DataFrame.\n",
      "\n",
      "Also supports optionally iterating or breaking of the file\n",
      "into chunks.\n",
      "\n",
      "Additional help can be found in the online docs for\n",
      "`IO Tools <http://pandas.pydata.org/pandas-docs/stable/io.html>`_.\n",
      "\n",
      "Parameters\n",
      "----------\n",
      "filepath_or_buffer : str, path object, or file-like object\n",
      "    Any valid string path is acceptable. The string could be a URL. Valid\n",
      "    URL schemes include http, ftp, s3, and file. For file URLs, a host is\n",
      "    expected. A local file could be: file://localhost/path/to/table.csv.\n",
      "\n",
      "    If you want to pass in a path object, pandas accepts either\n",
      "    ``pathlib.Path`` or ``py._path.local.LocalPath``.\n",
      "\n",
      "    By file-like object, we refer to objects with a ``read()`` method, such as\n",
      "    a file handler (e.g. via builtin ``open`` function) or ``StringIO``.\n",
      "sep : str, default ','\n",
      "    Delimiter to use. If sep is None, the C engine cannot automatically detect\n",
      "    the separator, but the Python parsing engine can, meaning the latter will\n",
      "    be used and automatically detect the separator by Python's builtin sniffer\n",
      "    tool, ``csv.Sniffer``. In addition, separators longer than 1 character and\n",
      "    different from ``'\\s+'`` will be interpreted as regular expressions and\n",
      "    will also force the use of the Python parsing engine. Note that regex\n",
      "    delimiters are prone to ignoring quoted data. Regex example: ``'\\r\\t'``.\n",
      "delimiter : str, default ``None``\n",
      "    Alias for sep.\n",
      "header : int, list of int, default 'infer'\n",
      "    Row number(s) to use as the column names, and the start of the\n",
      "    data.  Default behavior is to infer the column names: if no names\n",
      "    are passed the behavior is identical to ``header=0`` and column\n",
      "    names are inferred from the first line of the file, if column\n",
      "    names are passed explicitly then the behavior is identical to\n",
      "    ``header=None``. Explicitly pass ``header=0`` to be able to\n",
      "    replace existing names. The header can be a list of integers that\n",
      "    specify row locations for a multi-index on the columns\n",
      "    e.g. [0,1,3]. Intervening rows that are not specified will be\n",
      "    skipped (e.g. 2 in this example is skipped). Note that this\n",
      "    parameter ignores commented lines and empty lines if\n",
      "    ``skip_blank_lines=True``, so ``header=0`` denotes the first line of\n",
      "    data rather than the first line of the file.\n",
      "names : array-like, optional\n",
      "    List of column names to use. If file contains no header row, then you\n",
      "    should explicitly pass ``header=None``. Duplicates in this list will cause\n",
      "    a ``UserWarning`` to be issued.\n",
      "index_col : int, sequence or bool, optional\n",
      "    Column to use as the row labels of the DataFrame. If a sequence is given, a\n",
      "    MultiIndex is used. If you have a malformed file with delimiters at the end\n",
      "    of each line, you might consider ``index_col=False`` to force pandas to\n",
      "    not use the first column as the index (row names).\n",
      "usecols : list-like or callable, optional\n",
      "    Return a subset of the columns. If list-like, all elements must either\n",
      "    be positional (i.e. integer indices into the document columns) or strings\n",
      "    that correspond to column names provided either by the user in `names` or\n",
      "    inferred from the document header row(s). For example, a valid list-like\n",
      "    `usecols` parameter would be ``[0, 1, 2]`` or ``['foo', 'bar', 'baz']``.\n",
      "    Element order is ignored, so ``usecols=[0, 1]`` is the same as ``[1, 0]``.\n",
      "    To instantiate a DataFrame from ``data`` with element order preserved use\n",
      "    ``pd.read_csv(data, usecols=['foo', 'bar'])[['foo', 'bar']]`` for columns\n",
      "    in ``['foo', 'bar']`` order or\n",
      "    ``pd.read_csv(data, usecols=['foo', 'bar'])[['bar', 'foo']]``\n",
      "    for ``['bar', 'foo']`` order.\n",
      "\n",
      "    If callable, the callable function will be evaluated against the column\n",
      "    names, returning names where the callable function evaluates to True. An\n",
      "    example of a valid callable argument would be ``lambda x: x.upper() in\n",
      "    ['AAA', 'BBB', 'DDD']``. Using this parameter results in much faster\n",
      "    parsing time and lower memory usage.\n",
      "squeeze : bool, default False\n",
      "    If the parsed data only contains one column then return a Series.\n",
      "prefix : str, optional\n",
      "    Prefix to add to column numbers when no header, e.g. 'X' for X0, X1, ...\n",
      "mangle_dupe_cols : bool, default True\n",
      "    Duplicate columns will be specified as 'X', 'X.1', ...'X.N', rather than\n",
      "    'X'...'X'. Passing in False will cause data to be overwritten if there\n",
      "    are duplicate names in the columns.\n",
      "dtype : Type name or dict of column -> type, optional\n",
      "    Data type for data or columns. E.g. {'a': np.float64, 'b': np.int32,\n",
      "    'c': 'Int64'}\n",
      "    Use `str` or `object` together with suitable `na_values` settings\n",
      "    to preserve and not interpret dtype.\n",
      "    If converters are specified, they will be applied INSTEAD\n",
      "    of dtype conversion.\n",
      "engine : {'c', 'python'}, optional\n",
      "    Parser engine to use. The C engine is faster while the python engine is\n",
      "    currently more feature-complete.\n",
      "converters : dict, optional\n",
      "    Dict of functions for converting values in certain columns. Keys can either\n",
      "    be integers or column labels.\n",
      "true_values : list, optional\n",
      "    Values to consider as True.\n",
      "false_values : list, optional\n",
      "    Values to consider as False.\n",
      "skipinitialspace : bool, default False\n",
      "    Skip spaces after delimiter.\n",
      "skiprows : list-like, int or callable, optional\n",
      "    Line numbers to skip (0-indexed) or number of lines to skip (int)\n",
      "    at the start of the file.\n",
      "\n",
      "    If callable, the callable function will be evaluated against the row\n",
      "    indices, returning True if the row should be skipped and False otherwise.\n",
      "    An example of a valid callable argument would be ``lambda x: x in [0, 2]``.\n",
      "skipfooter : int, default 0\n",
      "    Number of lines at bottom of file to skip (Unsupported with engine='c').\n",
      "nrows : int, optional\n",
      "    Number of rows of file to read. Useful for reading pieces of large files.\n",
      "na_values : scalar, str, list-like, or dict, optional\n",
      "    Additional strings to recognize as NA/NaN. If dict passed, specific\n",
      "    per-column NA values.  By default the following values are interpreted as\n",
      "    NaN: '', '#N/A', '#N/A N/A', '#NA', '-1.#IND', '-1.#QNAN', '-NaN', '-nan',\n",
      "    '1.#IND', '1.#QNAN', 'N/A', 'NA', 'NULL', 'NaN', 'n/a', 'nan',\n",
      "    'null'.\n",
      "keep_default_na : bool, default True\n",
      "    Whether or not to include the default NaN values when parsing the data.\n",
      "    Depending on whether `na_values` is passed in, the behavior is as follows:\n",
      "\n",
      "    * If `keep_default_na` is True, and `na_values` are specified, `na_values`\n",
      "      is appended to the default NaN values used for parsing.\n",
      "    * If `keep_default_na` is True, and `na_values` are not specified, only\n",
      "      the default NaN values are used for parsing.\n",
      "    * If `keep_default_na` is False, and `na_values` are specified, only\n",
      "      the NaN values specified `na_values` are used for parsing.\n",
      "    * If `keep_default_na` is False, and `na_values` are not specified, no\n",
      "      strings will be parsed as NaN.\n",
      "\n",
      "    Note that if `na_filter` is passed in as False, the `keep_default_na` and\n",
      "    `na_values` parameters will be ignored.\n",
      "na_filter : bool, default True\n",
      "    Detect missing value markers (empty strings and the value of na_values). In\n",
      "    data without any NAs, passing na_filter=False can improve the performance\n",
      "    of reading a large file.\n",
      "verbose : bool, default False\n",
      "    Indicate number of NA values placed in non-numeric columns.\n",
      "skip_blank_lines : bool, default True\n",
      "    If True, skip over blank lines rather than interpreting as NaN values.\n",
      "parse_dates : bool or list of int or names or list of lists or dict, default False\n",
      "    The behavior is as follows:\n",
      "\n",
      "    * boolean. If True -> try parsing the index.\n",
      "    * list of int or names. e.g. If [1, 2, 3] -> try parsing columns 1, 2, 3\n",
      "      each as a separate date column.\n",
      "    * list of lists. e.g.  If [[1, 3]] -> combine columns 1 and 3 and parse as\n",
      "      a single date column.\n",
      "    * dict, e.g. {'foo' : [1, 3]} -> parse columns 1, 3 as date and call\n",
      "      result 'foo'\n",
      "\n",
      "    If a column or index cannot be represented as an array of datetimes,\n",
      "    say because of an unparseable value or a mixture of timezones, the column\n",
      "    or index will be returned unaltered as an object data type. For\n",
      "    non-standard datetime parsing, use ``pd.to_datetime`` after\n",
      "    ``pd.read_csv``. To parse an index or column with a mixture of timezones,\n",
      "    specify ``date_parser`` to be a partially-applied\n",
      "    :func:`pandas.to_datetime` with ``utc=True``. See\n",
      "    :ref:`io.csv.mixed_timezones` for more.\n",
      "\n",
      "    Note: A fast-path exists for iso8601-formatted dates.\n",
      "infer_datetime_format : bool, default False\n",
      "    If True and `parse_dates` is enabled, pandas will attempt to infer the\n",
      "    format of the datetime strings in the columns, and if it can be inferred,\n",
      "    switch to a faster method of parsing them. In some cases this can increase\n",
      "    the parsing speed by 5-10x.\n",
      "keep_date_col : bool, default False\n",
      "    If True and `parse_dates` specifies combining multiple columns then\n",
      "    keep the original columns.\n",
      "date_parser : function, optional\n",
      "    Function to use for converting a sequence of string columns to an array of\n",
      "    datetime instances. The default uses ``dateutil.parser.parser`` to do the\n",
      "    conversion. Pandas will try to call `date_parser` in three different ways,\n",
      "    advancing to the next if an exception occurs: 1) Pass one or more arrays\n",
      "    (as defined by `parse_dates`) as arguments; 2) concatenate (row-wise) the\n",
      "    string values from the columns defined by `parse_dates` into a single array\n",
      "    and pass that; and 3) call `date_parser` once for each row using one or\n",
      "    more strings (corresponding to the columns defined by `parse_dates`) as\n",
      "    arguments.\n",
      "dayfirst : bool, default False\n",
      "    DD/MM format dates, international and European format.\n",
      "iterator : bool, default False\n",
      "    Return TextFileReader object for iteration or getting chunks with\n",
      "    ``get_chunk()``.\n",
      "chunksize : int, optional\n",
      "    Return TextFileReader object for iteration.\n",
      "    See the `IO Tools docs\n",
      "    <http://pandas.pydata.org/pandas-docs/stable/io.html#io-chunking>`_\n",
      "    for more information on ``iterator`` and ``chunksize``.\n",
      "compression : {'infer', 'gzip', 'bz2', 'zip', 'xz', None}, default 'infer'\n",
      "    For on-the-fly decompression of on-disk data. If 'infer' and\n",
      "    `filepath_or_buffer` is path-like, then detect compression from the\n",
      "    following extensions: '.gz', '.bz2', '.zip', or '.xz' (otherwise no\n",
      "    decompression). If using 'zip', the ZIP file must contain only one data\n",
      "    file to be read in. Set to None for no decompression.\n",
      "\n",
      "    .. versionadded:: 0.18.1 support for 'zip' and 'xz' compression.\n",
      "\n",
      "thousands : str, optional\n",
      "    Thousands separator.\n",
      "decimal : str, default '.'\n",
      "    Character to recognize as decimal point (e.g. use ',' for European data).\n",
      "lineterminator : str (length 1), optional\n",
      "    Character to break file into lines. Only valid with C parser.\n",
      "quotechar : str (length 1), optional\n",
      "    The character used to denote the start and end of a quoted item. Quoted\n",
      "    items can include the delimiter and it will be ignored.\n",
      "quoting : int or csv.QUOTE_* instance, default 0\n",
      "    Control field quoting behavior per ``csv.QUOTE_*`` constants. Use one of\n",
      "    QUOTE_MINIMAL (0), QUOTE_ALL (1), QUOTE_NONNUMERIC (2) or QUOTE_NONE (3).\n",
      "doublequote : bool, default ``True``\n",
      "   When quotechar is specified and quoting is not ``QUOTE_NONE``, indicate\n",
      "   whether or not to interpret two consecutive quotechar elements INSIDE a\n",
      "   field as a single ``quotechar`` element.\n",
      "escapechar : str (length 1), optional\n",
      "    One-character string used to escape other characters.\n",
      "comment : str, optional\n",
      "    Indicates remainder of line should not be parsed. If found at the beginning\n",
      "    of a line, the line will be ignored altogether. This parameter must be a\n",
      "    single character. Like empty lines (as long as ``skip_blank_lines=True``),\n",
      "    fully commented lines are ignored by the parameter `header` but not by\n",
      "    `skiprows`. For example, if ``comment='#'``, parsing\n",
      "    ``#empty\\na,b,c\\n1,2,3`` with ``header=0`` will result in 'a,b,c' being\n",
      "    treated as the header.\n",
      "encoding : str, optional\n",
      "    Encoding to use for UTF when reading/writing (ex. 'utf-8'). `List of Python\n",
      "    standard encodings\n",
      "    <https://docs.python.org/3/library/codecs.html#standard-encodings>`_ .\n",
      "dialect : str or csv.Dialect, optional\n",
      "    If provided, this parameter will override values (default or not) for the\n",
      "    following parameters: `delimiter`, `doublequote`, `escapechar`,\n",
      "    `skipinitialspace`, `quotechar`, and `quoting`. If it is necessary to\n",
      "    override values, a ParserWarning will be issued. See csv.Dialect\n",
      "    documentation for more details.\n",
      "tupleize_cols : bool, default False\n",
      "    Leave a list of tuples on columns as is (default is to convert to\n",
      "    a MultiIndex on the columns).\n",
      "\n",
      "    .. deprecated:: 0.21.0\n",
      "       This argument will be removed and will always convert to MultiIndex\n",
      "\n",
      "error_bad_lines : bool, default True\n",
      "    Lines with too many fields (e.g. a csv line with too many commas) will by\n",
      "    default cause an exception to be raised, and no DataFrame will be returned.\n",
      "    If False, then these \"bad lines\" will dropped from the DataFrame that is\n",
      "    returned.\n",
      "warn_bad_lines : bool, default True\n",
      "    If error_bad_lines is False, and warn_bad_lines is True, a warning for each\n",
      "    \"bad line\" will be output.\n",
      "delim_whitespace : bool, default False\n",
      "    Specifies whether or not whitespace (e.g. ``' '`` or ``'\t'``) will be\n",
      "    used as the sep. Equivalent to setting ``sep='\\s+'``. If this option\n",
      "    is set to True, nothing should be passed in for the ``delimiter``\n",
      "    parameter.\n",
      "\n",
      "    .. versionadded:: 0.18.1 support for the Python parser.\n",
      "\n",
      "low_memory : bool, default True\n",
      "    Internally process the file in chunks, resulting in lower memory use\n",
      "    while parsing, but possibly mixed type inference.  To ensure no mixed\n",
      "    types either set False, or specify the type with the `dtype` parameter.\n",
      "    Note that the entire file is read into a single DataFrame regardless,\n",
      "    use the `chunksize` or `iterator` parameter to return the data in chunks.\n",
      "    (Only valid with C parser).\n",
      "memory_map : bool, default False\n",
      "    If a filepath is provided for `filepath_or_buffer`, map the file object\n",
      "    directly onto memory and access the data directly from there. Using this\n",
      "    option can improve performance because there is no longer any I/O overhead.\n",
      "float_precision : str, optional\n",
      "    Specifies which converter the C engine should use for floating-point\n",
      "    values. The options are `None` for the ordinary converter,\n",
      "    `high` for the high-precision converter, and `round_trip` for the\n",
      "    round-trip converter.\n",
      "\n",
      "Returns\n",
      "-------\n",
      "DataFrame or TextParser\n",
      "    A comma-separated values (csv) file is returned as two-dimensional\n",
      "    data structure with labeled axes.\n",
      "\n",
      "See Also\n",
      "--------\n",
      "to_csv : Write DataFrame to a comma-separated values (csv) file.\n",
      "read_csv : Read a comma-separated values (csv) file into DataFrame.\n",
      "read_fwf : Read a table of fixed-width formatted lines into DataFrame.\n",
      "\n",
      "Examples\n",
      "--------\n",
      ">>> pd.read_csv('data.csv')  # doctest: +SKIP\n",
      "\n"
     ]
    }
   ],
   "source": [
    "import pandas as pd\n",
    "\n",
    "\n",
    "print(pd.read_csv.__doc__)"
   ]
  },
  {
   "cell_type": "code",
   "execution_count": 35,
   "metadata": {},
   "outputs": [],
   "source": [
    "def read_csv(**args):\n",
    "    print(args)\n",
    "    print(args['a'] * args['b'])\n",
    "    print(args['c'] + args['d'])\n",
    "    print(args['d'] + args['e'])"
   ]
  },
  {
   "cell_type": "code",
   "execution_count": 36,
   "metadata": {},
   "outputs": [],
   "source": [
    "def read_csv2(a,b,c,d,e):\n",
    "    print(a * b)\n",
    "    print(c + d)\n",
    "    print(d + e)"
   ]
  },
  {
   "cell_type": "code",
   "execution_count": 37,
   "metadata": {},
   "outputs": [
    {
     "name": "stdout",
     "output_type": "stream",
     "text": [
      "{'a': 5, 'b': 25, 'c': 55, 'd': 99, 'e': 365, 'f': 255, 'm': 758}\n",
      "125\n",
      "154\n",
      "464\n"
     ]
    }
   ],
   "source": [
    "read_csv(a=5, b=25, c=55, d=99, e= 365, f=255, m=758)"
   ]
  },
  {
   "cell_type": "code",
   "execution_count": 38,
   "metadata": {},
   "outputs": [
    {
     "name": "stdout",
     "output_type": "stream",
     "text": [
      "30\n",
      "13\n",
      "10\n"
     ]
    }
   ],
   "source": [
    "read_csv2(5,6,8,5,5)"
   ]
  },
  {
   "cell_type": "code",
   "execution_count": 39,
   "metadata": {},
   "outputs": [],
   "source": [
    "def open_file(fileName):\n",
    "    s = open(fileName)\n",
    "    data = s.read()\n",
    "    s.close()\n",
    "    return data\n",
    "\n",
    "def open_file2(fileName):\n",
    "    with open(fileName, 'r') as f:\n",
    "        data = f.read()\n",
    "    return data"
   ]
  },
  {
   "cell_type": "code",
   "execution_count": 40,
   "metadata": {},
   "outputs": [
    {
     "name": "stdout",
     "output_type": "stream",
     "text": [
      "Python is an interpreted high-level general-purpose programming language. Python's design philosophy emphasizes code readability with its notable use of significant indentation. Its language constructs as well as its object-oriented approach aim to help programmers write clear, logical code for small and large-scale projects.[30]\n",
      "\n",
      "Python is dynamically-typed and garbage-collected. It supports multiple programming paradigms, including structured (particularly, procedural), object-oriented and functional programming. Python is often described as a \"batteries included\" language due to its comprehensive standard library.[31]\n",
      "\n",
      "Guido van Rossum began working on Python in the late 1980s, as a successor to the ABC programming language, and first released it in 1991 as Python 0.9.0.[32] Python 2.0 was released in 2000 and introduced new features, such as list comprehensions and a garbage collection system using reference counting. Python 3.0 was released in 2008 and was a major revision of the language that is not completely backward-compatible and much Python 2 code does not run unmodified on Python 3. Python 2 was discontinued with version 2.7.18 in 2020.[33]\n",
      "\n",
      "Python consistently ranks as one of the most popular programming languages.[34][35][36][37][38]\n",
      "\n",
      "\n",
      "Contents\n",
      "1\tHistory\n",
      "2\tDesign philosophy and features\n",
      "3\tSyntax and semantics\n",
      "3.1\tIndentation\n",
      "3.2\tStatements and control flow\n",
      "3.3\tExpressions\n",
      "3.4\tMethods\n",
      "3.5\tTyping\n",
      "3.6\tArithmetic operations\n",
      "4\tProgramming examples\n",
      "5\tLibraries\n",
      "6\tDevelopment environments\n",
      "7\tImplementations\n",
      "7.1\tReference implementation\n",
      "7.2\tOther implementations\n",
      "7.3\tUnsupported implementations\n",
      "7.4\tCross-compilers to other languages\n",
      "7.5\tPerformance\n",
      "8\tDevelopment\n",
      "9\tAPI documentation generators\n",
      "10\tNaming\n",
      "11\tUses\n",
      "12\tLanguages influenced by Python\n",
      "13\tSee also\n",
      "14\tReferences\n",
      "14.1\tSources\n",
      "15\tFurther reading\n",
      "16\tExternal links\n",
      "History\n",
      "\n",
      "Guido van Rossum at OSCON 2006\n",
      "Main article: History of Python\n",
      "Python was conceived in the late 1980s[39] by Guido van Rossum at Centrum Wiskunde & Informatica (CWI) in the Netherlands as a successor to ABC programming language, which was inspired by SETL,[40] capable of exception handling and interfacing with the Amoeba operating system.[10] Its implementation began in December 1989.[41] Van Rossum shouldered sole responsibility for the project, as the lead developer, until 12 July 2018, when he announced his \"permanent vacation\" from his responsibilities as Python's Benevolent Dictator For Life, a title the Python community bestowed upon him to reflect his long-term commitment as the project's chief decision-maker.[42] In January 2019, active Python core developers elected a 5-member \"Steering Council\" to lead the project.[43] As of 2021, the current members of this council are Barry Warsaw, Brett Cannon, Carol Willing, Thomas Wouters, and Pablo Galindo Salgado.[44]\n",
      "\n",
      "Python 2.0 was released on 16 October 2000, with many major new features, including a cycle-detecting garbage collector and support for Unicode.[45]\n",
      "\n",
      "Python 3.0 was released on 3 December 2008. It was a major revision of the language that is not completely backward-compatible.[46] Many of its major features were backported to Python 2.6.x[47] and 2.7.x version series. Releases of Python 3 include the 2to3 utility, which automates (at least partially) the translation of Python 2 code to Python 3.[48]\n",
      "\n",
      "Python 2.7's end-of-life date was initially set at 2015 then postponed to 2020 out of concern that a large body of existing code could not easily be forward-ported to Python 3.[49][50] No more security patches or other improvements will be released for it.[51][52] With Python 2's end-of-life, only Python 3.6.x[53] and later are supported.\n",
      "\n",
      "Python 3.9.2 and 3.8.8 were expedited[54] as all versions of Python (including 2.7[55]) had security issues, leading to possible remote code execution[56] and web cache poisoning.[57]\n",
      "\n",
      "Design philosophy and features\n",
      "Python is a multi-paradigm programming language. Object-oriented programming and structured programming are fully supported, and many of its features support functional programming and aspect-oriented programming (including by metaprogramming[58] and metaobjects (magic methods)).[59] Many other paradigms are supported via extensions, including design by contract[60][61] and logic programming.[62]\n",
      "\n",
      "Python uses dynamic typing and a combination of reference counting and a cycle-detecting garbage collector for memory management.[63] It also features dynamic name resolution (late binding), which binds method and variable names during program execution.\n",
      "\n",
      "Python's design offers some support for functional programming in the Lisp tradition. It has filter,mapandreduce functions; list comprehensions, dictionaries, sets, and generator expressions.[64] The standard library has two modules (itertools and functools) that implement functional tools borrowed from Haskell and Standard ML.[65]\n",
      "\n",
      "The language's core philosophy is summarized in the document The Zen of Python (PEP 20), which includes aphorisms such as:[66]\n",
      "\n",
      "Beautiful is better than ugly.\n",
      "Explicit is better than implicit.\n",
      "Simple is better than complex.\n",
      "Complex is better than complicated.\n",
      "Readability counts.\n",
      "Rather than having all of its functionality built into its core, Python was designed to be highly extensible (with modules). This compact modularity has made it particularly popular as a means of adding programmable interfaces to existing applications. Van Rossum's vision of a small core language with a large standard library and easily extensible interpreter stemmed from his frustrations with ABC, which espoused the opposite approach.[39]\n",
      "\n",
      "Python strives for a simpler, less-cluttered syntax and grammar while giving developers a choice in their coding methodology. In contrast to Perl's \"there is more than one way to do it\" motto, Python embraces a \"there should be oneâ€” and preferably only one â€”obvious way to do it\" design philosophy.[66] Alex Martelli, a Fellow at the Python Software Foundation and Python book author, writes that \"To describe something as 'clever' is not considered a compliment in the Python culture.\"[67]\n",
      "\n",
      "Python's developers strive to avoid premature optimization, and reject patches to non-critical parts of the CPython reference implementation that would offer marginal increases in speed at the cost of clarity.[68] When speed is important, a Python programmer can move time-critical functions to extension modules written in languages such as C, or use PyPy, a just-in-time compiler. Cython is also available, which translates a Python script into C and makes direct C-level API calls into the Python interpreter.\n",
      "\n",
      "An important goal of Python's developers is keeping it fun to use. This is reflected in the language's nameâ€”a tribute to the British comedy group Monty Python[69]â€”and in occasionally playful approaches to tutorials and reference materials, such as examples that refer to spam and eggs (from a famous Monty Python sketch) instead of the standard foo and bar.[70][71]\n",
      "\n",
      "A common neologism in the Python community is pythonic, which can have a wide range of meanings related to program style. To say that code is pythonic is to say that it uses Python idioms well, that it is natural or shows fluency in the language, that it conforms with Python's minimalist philosophy and emphasis on readability. In contrast, code that is difficult to understand or reads like a rough transcription from another programming language is called unpythonic.[72][73]\n",
      "\n",
      "Users and admirers of Python, especially those considered knowledgeable or experienced, are often referred to as Pythonistas.[74][75]\n"
     ]
    }
   ],
   "source": [
    "data = open_file('data_file.txt')\n",
    "\n",
    "print(data)"
   ]
  },
  {
   "cell_type": "code",
   "execution_count": 44,
   "metadata": {},
   "outputs": [],
   "source": [
    "def freq_words(data):\n",
    "    data = data.split()\n",
    "    print(len(data))\n",
    "    \n",
    "    uniq = list(set(data))\n",
    "    print(len(data))\n",
    "    \n",
    "    freq = {}\n",
    "    for word in data:\n",
    "        freq[word] = data.count(word)\n",
    "    return freq"
   ]
  },
  {
   "cell_type": "code",
   "execution_count": 45,
   "metadata": {},
   "outputs": [
    {
     "data": {
      "text/plain": [
       "['__and__',\n",
       " '__class__',\n",
       " '__contains__',\n",
       " '__delattr__',\n",
       " '__dir__',\n",
       " '__doc__',\n",
       " '__eq__',\n",
       " '__format__',\n",
       " '__ge__',\n",
       " '__getattribute__',\n",
       " '__gt__',\n",
       " '__hash__',\n",
       " '__iand__',\n",
       " '__init__',\n",
       " '__init_subclass__',\n",
       " '__ior__',\n",
       " '__isub__',\n",
       " '__iter__',\n",
       " '__ixor__',\n",
       " '__le__',\n",
       " '__len__',\n",
       " '__lt__',\n",
       " '__ne__',\n",
       " '__new__',\n",
       " '__or__',\n",
       " '__rand__',\n",
       " '__reduce__',\n",
       " '__reduce_ex__',\n",
       " '__repr__',\n",
       " '__ror__',\n",
       " '__rsub__',\n",
       " '__rxor__',\n",
       " '__setattr__',\n",
       " '__sizeof__',\n",
       " '__str__',\n",
       " '__sub__',\n",
       " '__subclasshook__',\n",
       " '__xor__',\n",
       " 'add',\n",
       " 'clear',\n",
       " 'copy',\n",
       " 'difference',\n",
       " 'difference_update',\n",
       " 'discard',\n",
       " 'intersection',\n",
       " 'intersection_update',\n",
       " 'isdisjoint',\n",
       " 'issubset',\n",
       " 'issuperset',\n",
       " 'pop',\n",
       " 'remove',\n",
       " 'symmetric_difference',\n",
       " 'symmetric_difference_update',\n",
       " 'union',\n",
       " 'update']"
      ]
     },
     "execution_count": 45,
     "metadata": {},
     "output_type": "execute_result"
    }
   ],
   "source": [
    "dir(set)"
   ]
  },
  {
   "cell_type": "code",
   "execution_count": 46,
   "metadata": {},
   "outputs": [
    {
     "name": "stdout",
     "output_type": "stream",
     "text": [
      "1110\n",
      "1110\n"
     ]
    },
    {
     "data": {
      "text/plain": [
       "{'Python': 43,\n",
       " 'is': 23,\n",
       " 'an': 1,\n",
       " 'interpreted': 1,\n",
       " 'high-level': 1,\n",
       " 'general-purpose': 1,\n",
       " 'programming': 12,\n",
       " 'language.': 2,\n",
       " \"Python's\": 6,\n",
       " 'design': 4,\n",
       " 'philosophy': 5,\n",
       " 'emphasizes': 1,\n",
       " 'code': 8,\n",
       " 'readability': 1,\n",
       " 'with': 7,\n",
       " 'its': 7,\n",
       " 'notable': 1,\n",
       " 'use': 2,\n",
       " 'of': 26,\n",
       " 'significant': 1,\n",
       " 'indentation.': 1,\n",
       " 'Its': 2,\n",
       " 'language': 6,\n",
       " 'constructs': 1,\n",
       " 'as': 17,\n",
       " 'well': 1,\n",
       " 'object-oriented': 2,\n",
       " 'approach': 1,\n",
       " 'aim': 1,\n",
       " 'to': 28,\n",
       " 'help': 1,\n",
       " 'programmers': 1,\n",
       " 'write': 1,\n",
       " 'clear,': 1,\n",
       " 'logical': 1,\n",
       " 'for': 7,\n",
       " 'small': 2,\n",
       " 'and': 41,\n",
       " 'large-scale': 1,\n",
       " 'projects.[30]': 1,\n",
       " 'dynamically-typed': 1,\n",
       " 'garbage-collected.': 1,\n",
       " 'It': 4,\n",
       " 'supports': 1,\n",
       " 'multiple': 1,\n",
       " 'paradigms,': 1,\n",
       " 'including': 3,\n",
       " 'structured': 2,\n",
       " '(particularly,': 1,\n",
       " 'procedural),': 1,\n",
       " 'functional': 4,\n",
       " 'programming.': 1,\n",
       " 'often': 2,\n",
       " 'described': 1,\n",
       " 'a': 27,\n",
       " '\"batteries': 1,\n",
       " 'included\"': 1,\n",
       " 'due': 1,\n",
       " 'comprehensive': 1,\n",
       " 'standard': 4,\n",
       " 'library.[31]': 1,\n",
       " 'Guido': 3,\n",
       " 'van': 3,\n",
       " 'Rossum': 4,\n",
       " 'began': 2,\n",
       " 'working': 1,\n",
       " 'on': 5,\n",
       " 'in': 18,\n",
       " 'the': 29,\n",
       " 'late': 2,\n",
       " '1980s,': 1,\n",
       " 'successor': 2,\n",
       " 'ABC': 2,\n",
       " 'language,': 3,\n",
       " 'first': 1,\n",
       " 'released': 6,\n",
       " 'it': 6,\n",
       " '1991': 1,\n",
       " '0.9.0.[32]': 1,\n",
       " '2.0': 2,\n",
       " 'was': 11,\n",
       " '2000': 1,\n",
       " 'introduced': 1,\n",
       " 'new': 2,\n",
       " 'features,': 2,\n",
       " 'such': 4,\n",
       " 'list': 2,\n",
       " 'comprehensions': 1,\n",
       " 'garbage': 3,\n",
       " 'collection': 1,\n",
       " 'system': 1,\n",
       " 'using': 1,\n",
       " 'reference': 4,\n",
       " 'counting.': 1,\n",
       " '3.0': 2,\n",
       " '2008': 1,\n",
       " 'major': 4,\n",
       " 'revision': 2,\n",
       " 'that': 12,\n",
       " 'not': 5,\n",
       " 'completely': 2,\n",
       " 'backward-compatible': 1,\n",
       " 'much': 1,\n",
       " '2': 4,\n",
       " 'does': 1,\n",
       " 'run': 1,\n",
       " 'unmodified': 1,\n",
       " '3.': 1,\n",
       " 'discontinued': 1,\n",
       " 'version': 2,\n",
       " '2.7.18': 1,\n",
       " '2020.[33]': 1,\n",
       " 'consistently': 1,\n",
       " 'ranks': 1,\n",
       " 'one': 3,\n",
       " 'most': 1,\n",
       " 'popular': 2,\n",
       " 'languages.[34][35][36][37][38]': 1,\n",
       " 'Contents': 1,\n",
       " '1': 1,\n",
       " 'History': 3,\n",
       " 'Design': 2,\n",
       " 'features': 5,\n",
       " '3': 3,\n",
       " 'Syntax': 1,\n",
       " 'semantics': 1,\n",
       " '3.1': 1,\n",
       " 'Indentation': 1,\n",
       " '3.2': 1,\n",
       " 'Statements': 1,\n",
       " 'control': 1,\n",
       " 'flow': 1,\n",
       " '3.3': 1,\n",
       " 'Expressions': 1,\n",
       " '3.4': 1,\n",
       " 'Methods': 1,\n",
       " '3.5': 1,\n",
       " 'Typing': 1,\n",
       " '3.6': 1,\n",
       " 'Arithmetic': 1,\n",
       " 'operations': 1,\n",
       " '4': 1,\n",
       " 'Programming': 1,\n",
       " 'examples': 2,\n",
       " '5': 1,\n",
       " 'Libraries': 1,\n",
       " '6': 1,\n",
       " 'Development': 2,\n",
       " 'environments': 1,\n",
       " '7': 1,\n",
       " 'Implementations': 1,\n",
       " '7.1': 1,\n",
       " 'Reference': 1,\n",
       " 'implementation': 3,\n",
       " '7.2': 1,\n",
       " 'Other': 1,\n",
       " 'implementations': 2,\n",
       " '7.3': 1,\n",
       " 'Unsupported': 1,\n",
       " '7.4': 1,\n",
       " 'Cross-compilers': 1,\n",
       " 'other': 3,\n",
       " 'languages': 2,\n",
       " '7.5': 1,\n",
       " 'Performance': 1,\n",
       " '8': 1,\n",
       " '9': 1,\n",
       " 'API': 2,\n",
       " 'documentation': 1,\n",
       " 'generators': 1,\n",
       " '10': 1,\n",
       " 'Naming': 1,\n",
       " '11': 1,\n",
       " 'Uses': 1,\n",
       " '12': 2,\n",
       " 'Languages': 1,\n",
       " 'influenced': 1,\n",
       " 'by': 5,\n",
       " '13': 1,\n",
       " 'See': 1,\n",
       " 'also': 3,\n",
       " '14': 1,\n",
       " 'References': 1,\n",
       " '14.1': 1,\n",
       " 'Sources': 1,\n",
       " '15': 1,\n",
       " 'Further': 1,\n",
       " 'reading': 1,\n",
       " '16': 2,\n",
       " 'External': 1,\n",
       " 'links': 1,\n",
       " 'at': 5,\n",
       " 'OSCON': 1,\n",
       " '2006': 1,\n",
       " 'Main': 1,\n",
       " 'article:': 1,\n",
       " 'conceived': 1,\n",
       " '1980s[39]': 1,\n",
       " 'Centrum': 1,\n",
       " 'Wiskunde': 1,\n",
       " '&': 1,\n",
       " 'Informatica': 1,\n",
       " '(CWI)': 1,\n",
       " 'Netherlands': 1,\n",
       " 'which': 7,\n",
       " 'inspired': 1,\n",
       " 'SETL,[40]': 1,\n",
       " 'capable': 1,\n",
       " 'exception': 1,\n",
       " 'handling': 1,\n",
       " 'interfacing': 1,\n",
       " 'Amoeba': 1,\n",
       " 'operating': 1,\n",
       " 'system.[10]': 1,\n",
       " 'December': 2,\n",
       " '1989.[41]': 1,\n",
       " 'Van': 2,\n",
       " 'shouldered': 1,\n",
       " 'sole': 1,\n",
       " 'responsibility': 1,\n",
       " 'project,': 1,\n",
       " 'lead': 2,\n",
       " 'developer,': 1,\n",
       " 'until': 1,\n",
       " 'July': 1,\n",
       " '2018,': 1,\n",
       " 'when': 1,\n",
       " 'he': 1,\n",
       " 'announced': 1,\n",
       " 'his': 4,\n",
       " '\"permanent': 1,\n",
       " 'vacation\"': 1,\n",
       " 'from': 4,\n",
       " 'responsibilities': 1,\n",
       " 'Benevolent': 1,\n",
       " 'Dictator': 1,\n",
       " 'For': 1,\n",
       " 'Life,': 1,\n",
       " 'title': 1,\n",
       " 'community': 2,\n",
       " 'bestowed': 1,\n",
       " 'upon': 1,\n",
       " 'him': 1,\n",
       " 'reflect': 1,\n",
       " 'long-term': 1,\n",
       " 'commitment': 1,\n",
       " \"project's\": 1,\n",
       " 'chief': 1,\n",
       " 'decision-maker.[42]': 1,\n",
       " 'In': 3,\n",
       " 'January': 1,\n",
       " '2019,': 1,\n",
       " 'active': 1,\n",
       " 'core': 3,\n",
       " 'developers': 4,\n",
       " 'elected': 1,\n",
       " '5-member': 1,\n",
       " '\"Steering': 1,\n",
       " 'Council\"': 1,\n",
       " 'project.[43]': 1,\n",
       " 'As': 1,\n",
       " '2021,': 1,\n",
       " 'current': 1,\n",
       " 'members': 1,\n",
       " 'this': 1,\n",
       " 'council': 1,\n",
       " 'are': 5,\n",
       " 'Barry': 1,\n",
       " 'Warsaw,': 1,\n",
       " 'Brett': 1,\n",
       " 'Cannon,': 1,\n",
       " 'Carol': 1,\n",
       " 'Willing,': 1,\n",
       " 'Thomas': 1,\n",
       " 'Wouters,': 1,\n",
       " 'Pablo': 1,\n",
       " 'Galindo': 1,\n",
       " 'Salgado.[44]': 1,\n",
       " 'October': 1,\n",
       " '2000,': 1,\n",
       " 'many': 2,\n",
       " 'cycle-detecting': 2,\n",
       " 'collector': 2,\n",
       " 'support': 3,\n",
       " 'Unicode.[45]': 1,\n",
       " '2008.': 1,\n",
       " 'backward-compatible.[46]': 1,\n",
       " 'Many': 2,\n",
       " 'were': 2,\n",
       " 'backported': 1,\n",
       " '2.6.x[47]': 1,\n",
       " '2.7.x': 1,\n",
       " 'series.': 1,\n",
       " 'Releases': 1,\n",
       " 'include': 1,\n",
       " '2to3': 1,\n",
       " 'utility,': 1,\n",
       " 'automates': 1,\n",
       " '(at': 1,\n",
       " 'least': 1,\n",
       " 'partially)': 1,\n",
       " 'translation': 1,\n",
       " '3.[48]': 1,\n",
       " \"2.7's\": 1,\n",
       " 'end-of-life': 1,\n",
       " 'date': 1,\n",
       " 'initially': 1,\n",
       " 'set': 1,\n",
       " '2015': 1,\n",
       " 'then': 1,\n",
       " 'postponed': 1,\n",
       " '2020': 1,\n",
       " 'out': 1,\n",
       " 'concern': 1,\n",
       " 'large': 2,\n",
       " 'body': 1,\n",
       " 'existing': 2,\n",
       " 'could': 1,\n",
       " 'easily': 2,\n",
       " 'be': 4,\n",
       " 'forward-ported': 1,\n",
       " '3.[49][50]': 1,\n",
       " 'No': 1,\n",
       " 'more': 2,\n",
       " 'security': 2,\n",
       " 'patches': 2,\n",
       " 'or': 5,\n",
       " 'improvements': 1,\n",
       " 'will': 1,\n",
       " 'it.[51][52]': 1,\n",
       " 'With': 1,\n",
       " \"2's\": 1,\n",
       " 'end-of-life,': 1,\n",
       " 'only': 2,\n",
       " '3.6.x[53]': 1,\n",
       " 'later': 1,\n",
       " 'supported.': 1,\n",
       " '3.9.2': 1,\n",
       " '3.8.8': 1,\n",
       " 'expedited[54]': 1,\n",
       " 'all': 2,\n",
       " 'versions': 1,\n",
       " '(including': 2,\n",
       " '2.7[55])': 1,\n",
       " 'had': 1,\n",
       " 'issues,': 1,\n",
       " 'leading': 1,\n",
       " 'possible': 1,\n",
       " 'remote': 1,\n",
       " 'execution[56]': 1,\n",
       " 'web': 1,\n",
       " 'cache': 1,\n",
       " 'poisoning.[57]': 1,\n",
       " 'multi-paradigm': 1,\n",
       " 'Object-oriented': 1,\n",
       " 'fully': 1,\n",
       " 'supported,': 1,\n",
       " 'aspect-oriented': 1,\n",
       " 'metaprogramming[58]': 1,\n",
       " 'metaobjects': 1,\n",
       " '(magic': 1,\n",
       " 'methods)).[59]': 1,\n",
       " 'paradigms': 1,\n",
       " 'supported': 1,\n",
       " 'via': 1,\n",
       " 'extensions,': 1,\n",
       " 'contract[60][61]': 1,\n",
       " 'logic': 1,\n",
       " 'programming.[62]': 1,\n",
       " 'uses': 2,\n",
       " 'dynamic': 2,\n",
       " 'typing': 1,\n",
       " 'combination': 1,\n",
       " 'counting': 1,\n",
       " 'memory': 1,\n",
       " 'management.[63]': 1,\n",
       " 'name': 1,\n",
       " 'resolution': 1,\n",
       " '(late': 1,\n",
       " 'binding),': 1,\n",
       " 'binds': 1,\n",
       " 'method': 1,\n",
       " 'variable': 1,\n",
       " 'names': 1,\n",
       " 'during': 1,\n",
       " 'program': 2,\n",
       " 'execution.': 1,\n",
       " 'offers': 1,\n",
       " 'some': 1,\n",
       " 'Lisp': 1,\n",
       " 'tradition.': 1,\n",
       " 'has': 3,\n",
       " 'filter,mapandreduce': 1,\n",
       " 'functions;': 1,\n",
       " 'comprehensions,': 1,\n",
       " 'dictionaries,': 1,\n",
       " 'sets,': 1,\n",
       " 'generator': 1,\n",
       " 'expressions.[64]': 1,\n",
       " 'The': 3,\n",
       " 'library': 2,\n",
       " 'two': 1,\n",
       " 'modules': 2,\n",
       " '(itertools': 1,\n",
       " 'functools)': 1,\n",
       " 'implement': 1,\n",
       " 'tools': 1,\n",
       " 'borrowed': 1,\n",
       " 'Haskell': 1,\n",
       " 'Standard': 1,\n",
       " 'ML.[65]': 1,\n",
       " \"language's\": 2,\n",
       " 'summarized': 1,\n",
       " 'document': 1,\n",
       " 'Zen': 1,\n",
       " '(PEP': 1,\n",
       " '20),': 1,\n",
       " 'includes': 1,\n",
       " 'aphorisms': 1,\n",
       " 'as:[66]': 1,\n",
       " 'Beautiful': 1,\n",
       " 'better': 4,\n",
       " 'than': 6,\n",
       " 'ugly.': 1,\n",
       " 'Explicit': 1,\n",
       " 'implicit.': 1,\n",
       " 'Simple': 1,\n",
       " 'complex.': 1,\n",
       " 'Complex': 1,\n",
       " 'complicated.': 1,\n",
       " 'Readability': 1,\n",
       " 'counts.': 1,\n",
       " 'Rather': 1,\n",
       " 'having': 1,\n",
       " 'functionality': 1,\n",
       " 'built': 1,\n",
       " 'into': 3,\n",
       " 'core,': 1,\n",
       " 'designed': 1,\n",
       " 'highly': 1,\n",
       " 'extensible': 2,\n",
       " '(with': 1,\n",
       " 'modules).': 1,\n",
       " 'This': 2,\n",
       " 'compact': 1,\n",
       " 'modularity': 1,\n",
       " 'made': 1,\n",
       " 'particularly': 1,\n",
       " 'means': 1,\n",
       " 'adding': 1,\n",
       " 'programmable': 1,\n",
       " 'interfaces': 1,\n",
       " 'applications.': 1,\n",
       " \"Rossum's\": 1,\n",
       " 'vision': 1,\n",
       " 'interpreter': 1,\n",
       " 'stemmed': 1,\n",
       " 'frustrations': 1,\n",
       " 'ABC,': 1,\n",
       " 'espoused': 1,\n",
       " 'opposite': 1,\n",
       " 'approach.[39]': 1,\n",
       " 'strives': 1,\n",
       " 'simpler,': 1,\n",
       " 'less-cluttered': 1,\n",
       " 'syntax': 1,\n",
       " 'grammar': 1,\n",
       " 'while': 1,\n",
       " 'giving': 1,\n",
       " 'choice': 1,\n",
       " 'their': 1,\n",
       " 'coding': 1,\n",
       " 'methodology.': 1,\n",
       " 'contrast': 1,\n",
       " \"Perl's\": 1,\n",
       " '\"there': 2,\n",
       " 'way': 2,\n",
       " 'do': 2,\n",
       " 'it\"': 2,\n",
       " 'motto,': 1,\n",
       " 'embraces': 1,\n",
       " 'should': 1,\n",
       " 'oneâ€”': 1,\n",
       " 'preferably': 1,\n",
       " 'â€”obvious': 1,\n",
       " 'philosophy.[66]': 1,\n",
       " 'Alex': 1,\n",
       " 'Martelli,': 1,\n",
       " 'Fellow': 1,\n",
       " 'Software': 1,\n",
       " 'Foundation': 1,\n",
       " 'book': 1,\n",
       " 'author,': 1,\n",
       " 'writes': 1,\n",
       " '\"To': 1,\n",
       " 'describe': 1,\n",
       " 'something': 1,\n",
       " \"'clever'\": 1,\n",
       " 'considered': 2,\n",
       " 'compliment': 1,\n",
       " 'culture.\"[67]': 1,\n",
       " 'strive': 1,\n",
       " 'avoid': 1,\n",
       " 'premature': 1,\n",
       " 'optimization,': 1,\n",
       " 'reject': 1,\n",
       " 'non-critical': 1,\n",
       " 'parts': 1,\n",
       " 'CPython': 1,\n",
       " 'would': 1,\n",
       " 'offer': 1,\n",
       " 'marginal': 1,\n",
       " 'increases': 1,\n",
       " 'speed': 2,\n",
       " 'cost': 1,\n",
       " 'clarity.[68]': 1,\n",
       " 'When': 1,\n",
       " 'important,': 1,\n",
       " 'programmer': 1,\n",
       " 'can': 2,\n",
       " 'move': 1,\n",
       " 'time-critical': 1,\n",
       " 'functions': 1,\n",
       " 'extension': 1,\n",
       " 'written': 1,\n",
       " 'C,': 1,\n",
       " 'PyPy,': 1,\n",
       " 'just-in-time': 1,\n",
       " 'compiler.': 1,\n",
       " 'Cython': 1,\n",
       " 'available,': 1,\n",
       " 'translates': 1,\n",
       " 'script': 1,\n",
       " 'C': 1,\n",
       " 'makes': 1,\n",
       " 'direct': 1,\n",
       " 'C-level': 1,\n",
       " 'calls': 1,\n",
       " 'interpreter.': 1,\n",
       " 'An': 1,\n",
       " 'important': 1,\n",
       " 'goal': 1,\n",
       " 'keeping': 1,\n",
       " 'fun': 1,\n",
       " 'use.': 1,\n",
       " 'reflected': 1,\n",
       " 'nameâ€”a': 1,\n",
       " 'tribute': 1,\n",
       " 'British': 1,\n",
       " 'comedy': 1,\n",
       " 'group': 1,\n",
       " 'Monty': 2,\n",
       " 'Python[69]â€”and': 1,\n",
       " 'occasionally': 1,\n",
       " 'playful': 1,\n",
       " 'approaches': 1,\n",
       " 'tutorials': 1,\n",
       " 'materials,': 1,\n",
       " 'refer': 1,\n",
       " 'spam': 1,\n",
       " 'eggs': 1,\n",
       " '(from': 1,\n",
       " 'famous': 1,\n",
       " 'sketch)': 1,\n",
       " 'instead': 1,\n",
       " 'foo': 1,\n",
       " 'bar.[70][71]': 1,\n",
       " 'A': 1,\n",
       " 'common': 1,\n",
       " 'neologism': 1,\n",
       " 'pythonic,': 1,\n",
       " 'have': 1,\n",
       " 'wide': 1,\n",
       " 'range': 1,\n",
       " 'meanings': 1,\n",
       " 'related': 1,\n",
       " 'style.': 1,\n",
       " 'To': 1,\n",
       " 'say': 2,\n",
       " 'pythonic': 1,\n",
       " 'idioms': 1,\n",
       " 'well,': 1,\n",
       " 'natural': 1,\n",
       " 'shows': 1,\n",
       " 'fluency': 1,\n",
       " 'conforms': 1,\n",
       " 'minimalist': 1,\n",
       " 'emphasis': 1,\n",
       " 'readability.': 1,\n",
       " 'contrast,': 1,\n",
       " 'difficult': 1,\n",
       " 'understand': 1,\n",
       " 'reads': 1,\n",
       " 'like': 1,\n",
       " 'rough': 1,\n",
       " 'transcription': 1,\n",
       " 'another': 1,\n",
       " 'called': 1,\n",
       " 'unpythonic.[72][73]': 1,\n",
       " 'Users': 1,\n",
       " 'admirers': 1,\n",
       " 'Python,': 1,\n",
       " 'especially': 1,\n",
       " 'those': 1,\n",
       " 'knowledgeable': 1,\n",
       " 'experienced,': 1,\n",
       " 'referred': 1,\n",
       " 'Pythonistas.[74][75]': 1}"
      ]
     },
     "execution_count": 46,
     "metadata": {},
     "output_type": "execute_result"
    }
   ],
   "source": [
    "freq_words(data)"
   ]
  },
  {
   "cell_type": "markdown",
   "metadata": {},
   "source": [
    "### Variable Scope and Lifetime of Variables\n",
    "\n",
    "- Global Variables -> It can be used anywhere in the program -> Lifetime will be until the execution of the program\n",
    "- Local Variables -> It can be used only inside the function ->\n",
    " Lifetime will be until the execution of the function"
   ]
  },
  {
   "cell_type": "code",
   "execution_count": 47,
   "metadata": {},
   "outputs": [
    {
     "name": "stdout",
     "output_type": "stream",
     "text": [
      "Python is an interpreted high-level general-purpose programming language. Python's design philosophy emphasizes code readability with its notable use of significant indentation. Its language constructs as well as its object-oriented approach aim to help programmers write clear, logical code for small and large-scale projects.[30]\n",
      "\n",
      "Python is dynamically-typed and garbage-collected. It supports multiple programming paradigms, including structured (particularly, procedural), object-oriented and functional programming. Python is often described as a \"batteries included\" language due to its comprehensive standard library.[31]\n",
      "\n",
      "Guido van Rossum began working on Python in the late 1980s, as a successor to the ABC programming language, and first released it in 1991 as Python 0.9.0.[32] Python 2.0 was released in 2000 and introduced new features, such as list comprehensions and a garbage collection system using reference counting. Python 3.0 was released in 2008 and was a major revision of the language that is not completely backward-compatible and much Python 2 code does not run unmodified on Python 3. Python 2 was discontinued with version 2.7.18 in 2020.[33]\n",
      "\n",
      "Python consistently ranks as one of the most popular programming languages.[34][35][36][37][38]\n",
      "\n",
      "\n",
      "Contents\n",
      "1\tHistory\n",
      "2\tDesign philosophy and features\n",
      "3\tSyntax and semantics\n",
      "3.1\tIndentation\n",
      "3.2\tStatements and control flow\n",
      "3.3\tExpressions\n",
      "3.4\tMethods\n",
      "3.5\tTyping\n",
      "3.6\tArithmetic operations\n",
      "4\tProgramming examples\n",
      "5\tLibraries\n",
      "6\tDevelopment environments\n",
      "7\tImplementations\n",
      "7.1\tReference implementation\n",
      "7.2\tOther implementations\n",
      "7.3\tUnsupported implementations\n",
      "7.4\tCross-compilers to other languages\n",
      "7.5\tPerformance\n",
      "8\tDevelopment\n",
      "9\tAPI documentation generators\n",
      "10\tNaming\n",
      "11\tUses\n",
      "12\tLanguages influenced by Python\n",
      "13\tSee also\n",
      "14\tReferences\n",
      "14.1\tSources\n",
      "15\tFurther reading\n",
      "16\tExternal links\n",
      "History\n",
      "\n",
      "Guido van Rossum at OSCON 2006\n",
      "Main article: History of Python\n",
      "Python was conceived in the late 1980s[39] by Guido van Rossum at Centrum Wiskunde & Informatica (CWI) in the Netherlands as a successor to ABC programming language, which was inspired by SETL,[40] capable of exception handling and interfacing with the Amoeba operating system.[10] Its implementation began in December 1989.[41] Van Rossum shouldered sole responsibility for the project, as the lead developer, until 12 July 2018, when he announced his \"permanent vacation\" from his responsibilities as Python's Benevolent Dictator For Life, a title the Python community bestowed upon him to reflect his long-term commitment as the project's chief decision-maker.[42] In January 2019, active Python core developers elected a 5-member \"Steering Council\" to lead the project.[43] As of 2021, the current members of this council are Barry Warsaw, Brett Cannon, Carol Willing, Thomas Wouters, and Pablo Galindo Salgado.[44]\n",
      "\n",
      "Python 2.0 was released on 16 October 2000, with many major new features, including a cycle-detecting garbage collector and support for Unicode.[45]\n",
      "\n",
      "Python 3.0 was released on 3 December 2008. It was a major revision of the language that is not completely backward-compatible.[46] Many of its major features were backported to Python 2.6.x[47] and 2.7.x version series. Releases of Python 3 include the 2to3 utility, which automates (at least partially) the translation of Python 2 code to Python 3.[48]\n",
      "\n",
      "Python 2.7's end-of-life date was initially set at 2015 then postponed to 2020 out of concern that a large body of existing code could not easily be forward-ported to Python 3.[49][50] No more security patches or other improvements will be released for it.[51][52] With Python 2's end-of-life, only Python 3.6.x[53] and later are supported.\n",
      "\n",
      "Python 3.9.2 and 3.8.8 were expedited[54] as all versions of Python (including 2.7[55]) had security issues, leading to possible remote code execution[56] and web cache poisoning.[57]\n",
      "\n",
      "Design philosophy and features\n",
      "Python is a multi-paradigm programming language. Object-oriented programming and structured programming are fully supported, and many of its features support functional programming and aspect-oriented programming (including by metaprogramming[58] and metaobjects (magic methods)).[59] Many other paradigms are supported via extensions, including design by contract[60][61] and logic programming.[62]\n",
      "\n",
      "Python uses dynamic typing and a combination of reference counting and a cycle-detecting garbage collector for memory management.[63] It also features dynamic name resolution (late binding), which binds method and variable names during program execution.\n",
      "\n",
      "Python's design offers some support for functional programming in the Lisp tradition. It has filter,mapandreduce functions; list comprehensions, dictionaries, sets, and generator expressions.[64] The standard library has two modules (itertools and functools) that implement functional tools borrowed from Haskell and Standard ML.[65]\n",
      "\n",
      "The language's core philosophy is summarized in the document The Zen of Python (PEP 20), which includes aphorisms such as:[66]\n",
      "\n",
      "Beautiful is better than ugly.\n",
      "Explicit is better than implicit.\n",
      "Simple is better than complex.\n",
      "Complex is better than complicated.\n",
      "Readability counts.\n",
      "Rather than having all of its functionality built into its core, Python was designed to be highly extensible (with modules). This compact modularity has made it particularly popular as a means of adding programmable interfaces to existing applications. Van Rossum's vision of a small core language with a large standard library and easily extensible interpreter stemmed from his frustrations with ABC, which espoused the opposite approach.[39]\n",
      "\n",
      "Python strives for a simpler, less-cluttered syntax and grammar while giving developers a choice in their coding methodology. In contrast to Perl's \"there is more than one way to do it\" motto, Python embraces a \"there should be oneâ€” and preferably only one â€”obvious way to do it\" design philosophy.[66] Alex Martelli, a Fellow at the Python Software Foundation and Python book author, writes that \"To describe something as 'clever' is not considered a compliment in the Python culture.\"[67]\n",
      "\n",
      "Python's developers strive to avoid premature optimization, and reject patches to non-critical parts of the CPython reference implementation that would offer marginal increases in speed at the cost of clarity.[68] When speed is important, a Python programmer can move time-critical functions to extension modules written in languages such as C, or use PyPy, a just-in-time compiler. Cython is also available, which translates a Python script into C and makes direct C-level API calls into the Python interpreter.\n",
      "\n",
      "An important goal of Python's developers is keeping it fun to use. This is reflected in the language's nameâ€”a tribute to the British comedy group Monty Python[69]â€”and in occasionally playful approaches to tutorials and reference materials, such as examples that refer to spam and eggs (from a famous Monty Python sketch) instead of the standard foo and bar.[70][71]\n",
      "\n",
      "A common neologism in the Python community is pythonic, which can have a wide range of meanings related to program style. To say that code is pythonic is to say that it uses Python idioms well, that it is natural or shows fluency in the language, that it conforms with Python's minimalist philosophy and emphasis on readability. In contrast, code that is difficult to understand or reads like a rough transcription from another programming language is called unpythonic.[72][73]\n",
      "\n",
      "Users and admirers of Python, especially those considered knowledgeable or experienced, are often referred to as Pythonistas.[74][75]\n"
     ]
    }
   ],
   "source": [
    "print(data)"
   ]
  },
  {
   "cell_type": "code",
   "execution_count": 48,
   "metadata": {},
   "outputs": [
    {
     "ename": "NameError",
     "evalue": "name 'uniq' is not defined",
     "output_type": "error",
     "traceback": [
      "\u001b[1;31m---------------------------------------------------------------------------\u001b[0m",
      "\u001b[1;31mNameError\u001b[0m                                 Traceback (most recent call last)",
      "\u001b[1;32m<ipython-input-48-0cdb91e3e4ae>\u001b[0m in \u001b[0;36m<module>\u001b[1;34m\u001b[0m\n\u001b[1;32m----> 1\u001b[1;33m \u001b[0mprint\u001b[0m\u001b[1;33m(\u001b[0m\u001b[0muniq\u001b[0m\u001b[1;33m)\u001b[0m\u001b[1;33m\u001b[0m\u001b[1;33m\u001b[0m\u001b[0m\n\u001b[0m",
      "\u001b[1;31mNameError\u001b[0m: name 'uniq' is not defined"
     ]
    }
   ],
   "source": [
    "print(uniq)"
   ]
  },
  {
   "cell_type": "code",
   "execution_count": 49,
   "metadata": {},
   "outputs": [
    {
     "name": "stdout",
     "output_type": "stream",
     "text": [
      "55\n",
      "55\n",
      "123\n"
     ]
    },
    {
     "ename": "NameError",
     "evalue": "name 'b' is not defined",
     "output_type": "error",
     "traceback": [
      "\u001b[1;31m---------------------------------------------------------------------------\u001b[0m",
      "\u001b[1;31mNameError\u001b[0m                                 Traceback (most recent call last)",
      "\u001b[1;32m<ipython-input-49-7a25a97ad7d7>\u001b[0m in \u001b[0;36m<module>\u001b[1;34m\u001b[0m\n\u001b[0;32m      7\u001b[0m \u001b[0mprint\u001b[0m\u001b[1;33m(\u001b[0m\u001b[0ma\u001b[0m\u001b[1;33m)\u001b[0m\u001b[1;33m\u001b[0m\u001b[1;33m\u001b[0m\u001b[0m\n\u001b[0;32m      8\u001b[0m \u001b[0mfun\u001b[0m\u001b[1;33m(\u001b[0m\u001b[1;36m123\u001b[0m\u001b[1;33m)\u001b[0m\u001b[1;33m\u001b[0m\u001b[1;33m\u001b[0m\u001b[0m\n\u001b[1;32m----> 9\u001b[1;33m \u001b[0mprint\u001b[0m\u001b[1;33m(\u001b[0m\u001b[0mb\u001b[0m\u001b[1;33m)\u001b[0m\u001b[1;33m\u001b[0m\u001b[1;33m\u001b[0m\u001b[0m\n\u001b[0m",
      "\u001b[1;31mNameError\u001b[0m: name 'b' is not defined"
     ]
    }
   ],
   "source": [
    "a = 55\n",
    "def fun(b):\n",
    "    print(a)\n",
    "    print(b)\n",
    "    \n",
    "\n",
    "print(a)\n",
    "fun(123)\n",
    "print(b)"
   ]
  },
  {
   "cell_type": "code",
   "execution_count": 50,
   "metadata": {},
   "outputs": [
    {
     "name": "stdout",
     "output_type": "stream",
     "text": [
      "55\n",
      "55\n",
      "123\n",
      "55\n",
      "123\n",
      "365\n"
     ]
    },
    {
     "ename": "NameError",
     "evalue": "name 'c' is not defined",
     "output_type": "error",
     "traceback": [
      "\u001b[1;31m---------------------------------------------------------------------------\u001b[0m",
      "\u001b[1;31mNameError\u001b[0m                                 Traceback (most recent call last)",
      "\u001b[1;32m<ipython-input-50-9b51f044a02e>\u001b[0m in \u001b[0;36m<module>\u001b[1;34m\u001b[0m\n\u001b[0;32m     12\u001b[0m \u001b[1;33m\u001b[0m\u001b[0m\n\u001b[0;32m     13\u001b[0m \u001b[0mprint\u001b[0m\u001b[1;33m(\u001b[0m\u001b[0ma\u001b[0m\u001b[1;33m)\u001b[0m\u001b[1;33m\u001b[0m\u001b[1;33m\u001b[0m\u001b[0m\n\u001b[1;32m---> 14\u001b[1;33m \u001b[0mfun\u001b[0m\u001b[1;33m(\u001b[0m\u001b[1;36m123\u001b[0m\u001b[1;33m)\u001b[0m\u001b[1;33m\u001b[0m\u001b[1;33m\u001b[0m\u001b[0m\n\u001b[0m\u001b[0;32m     15\u001b[0m \u001b[0mprint\u001b[0m\u001b[1;33m(\u001b[0m\u001b[0mb\u001b[0m\u001b[1;33m)\u001b[0m\u001b[1;33m\u001b[0m\u001b[1;33m\u001b[0m\u001b[0m\n",
      "\u001b[1;32m<ipython-input-50-9b51f044a02e>\u001b[0m in \u001b[0;36mfun\u001b[1;34m(b)\u001b[0m\n\u001b[0;32m      8\u001b[0m         \u001b[0mprint\u001b[0m\u001b[1;33m(\u001b[0m\u001b[0mc\u001b[0m\u001b[1;33m)\u001b[0m\u001b[1;33m\u001b[0m\u001b[1;33m\u001b[0m\u001b[0m\n\u001b[0;32m      9\u001b[0m     \u001b[0mfun2\u001b[0m\u001b[1;33m(\u001b[0m\u001b[1;36m365\u001b[0m\u001b[1;33m)\u001b[0m\u001b[1;33m\u001b[0m\u001b[1;33m\u001b[0m\u001b[0m\n\u001b[1;32m---> 10\u001b[1;33m     \u001b[0mprint\u001b[0m\u001b[1;33m(\u001b[0m\u001b[0mc\u001b[0m\u001b[1;33m)\u001b[0m \u001b[1;31m# -> nonLocal\u001b[0m\u001b[1;33m\u001b[0m\u001b[1;33m\u001b[0m\u001b[0m\n\u001b[0m\u001b[0;32m     11\u001b[0m \u001b[1;33m\u001b[0m\u001b[0m\n\u001b[0;32m     12\u001b[0m \u001b[1;33m\u001b[0m\u001b[0m\n",
      "\u001b[1;31mNameError\u001b[0m: name 'c' is not defined"
     ]
    }
   ],
   "source": [
    "a = 55\n",
    "def fun(b):\n",
    "    print(a) #-> globalVar\n",
    "    print(b) #-> Local\n",
    "    def fun2(c):\n",
    "        print(a) # -> globalVar\n",
    "        print(b) # -> Local Var\n",
    "        print(c)\n",
    "    fun2(365)\n",
    "    print(c) # -> nonLocal\n",
    "    \n",
    "\n",
    "print(a)\n",
    "fun(123)\n",
    "print(b)"
   ]
  },
  {
   "cell_type": "markdown",
   "metadata": {},
   "source": [
    "### Call By Value\n",
    "\n",
    "If I'm passing the immutable data type variables to the function.\n",
    "\n",
    "### Call By Reference\n",
    "\n",
    "If I'm passing the immutable data type variables to the function."
   ]
  },
  {
   "cell_type": "code",
   "execution_count": 53,
   "metadata": {},
   "outputs": [
    {
     "name": "stdout",
     "output_type": "stream",
     "text": [
      "Python is an interpreted high-level general-purpose programming language. Python's design philosophy emphasizes code readability with its notable use of significant indentation. Its language constructs as well as its object-oriented approach aim to help programmers write clear, logical code for small and large-scale projects.[30]\n",
      "\n",
      "Python is dynamically-typed and garbage-collected. It supports multiple programming paradigms, including structured (particularly, procedural), object-oriented and functional programming. Python is often described as a \"batteries included\" language due to its comprehensive standard library.[31]\n",
      "\n",
      "Guido van Rossum began working on Python in the late 1980s, as a successor to the ABC programming language, and first released it in 1991 as Python 0.9.0.[32] Python 2.0 was released in 2000 and introduced new features, such as list comprehensions and a garbage collection system using reference counting. Python 3.0 was released in 2008 and was a major revision of the language that is not completely backward-compatible and much Python 2 code does not run unmodified on Python 3. Python 2 was discontinued with version 2.7.18 in 2020.[33]\n",
      "\n",
      "Python consistently ranks as one of the most popular programming languages.[34][35][36][37][38]\n",
      "\n",
      "\n",
      "Contents\n",
      "1\tHistory\n",
      "2\tDesign philosophy and features\n",
      "3\tSyntax and semantics\n",
      "3.1\tIndentation\n",
      "3.2\tStatements and control flow\n",
      "3.3\tExpressions\n",
      "3.4\tMethods\n",
      "3.5\tTyping\n",
      "3.6\tArithmetic operations\n",
      "4\tProgramming examples\n",
      "5\tLibraries\n",
      "6\tDevelopment environments\n",
      "7\tImplementations\n",
      "7.1\tReference implementation\n",
      "7.2\tOther implementations\n",
      "7.3\tUnsupported implementations\n",
      "7.4\tCross-compilers to other languages\n",
      "7.5\tPerformance\n",
      "8\tDevelopment\n",
      "9\tAPI documentation generators\n",
      "10\tNaming\n",
      "11\tUses\n",
      "12\tLanguages influenced by Python\n",
      "13\tSee also\n",
      "14\tReferences\n",
      "14.1\tSources\n",
      "15\tFurther reading\n",
      "16\tExternal links\n",
      "History\n",
      "\n",
      "Guido van Rossum at OSCON 2006\n",
      "Main article: History of Python\n",
      "Python was conceived in the late 1980s[39] by Guido van Rossum at Centrum Wiskunde & Informatica (CWI) in the Netherlands as a successor to ABC programming language, which was inspired by SETL,[40] capable of exception handling and interfacing with the Amoeba operating system.[10] Its implementation began in December 1989.[41] Van Rossum shouldered sole responsibility for the project, as the lead developer, until 12 July 2018, when he announced his \"permanent vacation\" from his responsibilities as Python's Benevolent Dictator For Life, a title the Python community bestowed upon him to reflect his long-term commitment as the project's chief decision-maker.[42] In January 2019, active Python core developers elected a 5-member \"Steering Council\" to lead the project.[43] As of 2021, the current members of this council are Barry Warsaw, Brett Cannon, Carol Willing, Thomas Wouters, and Pablo Galindo Salgado.[44]\n",
      "\n",
      "Python 2.0 was released on 16 October 2000, with many major new features, including a cycle-detecting garbage collector and support for Unicode.[45]\n",
      "\n",
      "Python 3.0 was released on 3 December 2008. It was a major revision of the language that is not completely backward-compatible.[46] Many of its major features were backported to Python 2.6.x[47] and 2.7.x version series. Releases of Python 3 include the 2to3 utility, which automates (at least partially) the translation of Python 2 code to Python 3.[48]\n",
      "\n",
      "Python 2.7's end-of-life date was initially set at 2015 then postponed to 2020 out of concern that a large body of existing code could not easily be forward-ported to Python 3.[49][50] No more security patches or other improvements will be released for it.[51][52] With Python 2's end-of-life, only Python 3.6.x[53] and later are supported.\n",
      "\n",
      "Python 3.9.2 and 3.8.8 were expedited[54] as all versions of Python (including 2.7[55]) had security issues, leading to possible remote code execution[56] and web cache poisoning.[57]\n",
      "\n",
      "Design philosophy and features\n",
      "Python is a multi-paradigm programming language. Object-oriented programming and structured programming are fully supported, and many of its features support functional programming and aspect-oriented programming (including by metaprogramming[58] and metaobjects (magic methods)).[59] Many other paradigms are supported via extensions, including design by contract[60][61] and logic programming.[62]\n",
      "\n",
      "Python uses dynamic typing and a combination of reference counting and a cycle-detecting garbage collector for memory management.[63] It also features dynamic name resolution (late binding), which binds method and variable names during program execution.\n",
      "\n",
      "Python's design offers some support for functional programming in the Lisp tradition. It has filter,mapandreduce functions; list comprehensions, dictionaries, sets, and generator expressions.[64] The standard library has two modules (itertools and functools) that implement functional tools borrowed from Haskell and Standard ML.[65]\n",
      "\n",
      "The language's core philosophy is summarized in the document The Zen of Python (PEP 20), which includes aphorisms such as:[66]\n",
      "\n",
      "Beautiful is better than ugly.\n",
      "Explicit is better than implicit.\n",
      "Simple is better than complex.\n",
      "Complex is better than complicated.\n",
      "Readability counts.\n",
      "Rather than having all of its functionality built into its core, Python was designed to be highly extensible (with modules). This compact modularity has made it particularly popular as a means of adding programmable interfaces to existing applications. Van Rossum's vision of a small core language with a large standard library and easily extensible interpreter stemmed from his frustrations with ABC, which espoused the opposite approach.[39]\n",
      "\n",
      "Python strives for a simpler, less-cluttered syntax and grammar while giving developers a choice in their coding methodology. In contrast to Perl's \"there is more than one way to do it\" motto, Python embraces a \"there should be oneâ€” and preferably only one â€”obvious way to do it\" design philosophy.[66] Alex Martelli, a Fellow at the Python Software Foundation and Python book author, writes that \"To describe something as 'clever' is not considered a compliment in the Python culture.\"[67]\n",
      "\n",
      "Python's developers strive to avoid premature optimization, and reject patches to non-critical parts of the CPython reference implementation that would offer marginal increases in speed at the cost of clarity.[68] When speed is important, a Python programmer can move time-critical functions to extension modules written in languages such as C, or use PyPy, a just-in-time compiler. Cython is also available, which translates a Python script into C and makes direct C-level API calls into the Python interpreter.\n",
      "\n",
      "An important goal of Python's developers is keeping it fun to use. This is reflected in the language's nameâ€”a tribute to the British comedy group Monty Python[69]â€”and in occasionally playful approaches to tutorials and reference materials, such as examples that refer to spam and eggs (from a famous Monty Python sketch) instead of the standard foo and bar.[70][71]\n",
      "\n",
      "A common neologism in the Python community is pythonic, which can have a wide range of meanings related to program style. To say that code is pythonic is to say that it uses Python idioms well, that it is natural or shows fluency in the language, that it conforms with Python's minimalist philosophy and emphasis on readability. In contrast, code that is difficult to understand or reads like a rough transcription from another programming language is called unpythonic.[72][73]\n",
      "\n",
      "Users and admirers of Python, especially those considered knowledgeable or experienced, are often referred to as Pythonistas.[74][75]\n"
     ]
    }
   ],
   "source": [
    "print(data)"
   ]
  },
  {
   "cell_type": "code",
   "execution_count": null,
   "metadata": {},
   "outputs": [],
   "source": [
    "def call_value(val):\n",
    "    print(val,id(val))\n",
    "    "
   ]
  },
  {
   "cell_type": "code",
   "execution_count": 54,
   "metadata": {},
   "outputs": [
    {
     "ename": "NameError",
     "evalue": "name 'call_value' is not defined",
     "output_type": "error",
     "traceback": [
      "\u001b[1;31m---------------------------------------------------------------------------\u001b[0m",
      "\u001b[1;31mNameError\u001b[0m                                 Traceback (most recent call last)",
      "\u001b[1;32m<ipython-input-54-8a2325386482>\u001b[0m in \u001b[0;36m<module>\u001b[1;34m\u001b[0m\n\u001b[0;32m      1\u001b[0m \u001b[0ma\u001b[0m \u001b[1;33m=\u001b[0m \u001b[1;36m55\u001b[0m\u001b[1;33m\u001b[0m\u001b[1;33m\u001b[0m\u001b[0m\n\u001b[1;32m----> 2\u001b[1;33m \u001b[0mcall_value\u001b[0m\u001b[1;33m(\u001b[0m\u001b[0ma\u001b[0m\u001b[1;33m)\u001b[0m\u001b[1;33m\u001b[0m\u001b[1;33m\u001b[0m\u001b[0m\n\u001b[0m",
      "\u001b[1;31mNameError\u001b[0m: name 'call_value' is not defined"
     ]
    }
   ],
   "source": [
    "a = 55\n",
    "call_value(a)"
   ]
  },
  {
   "cell_type": "code",
   "execution_count": null,
   "metadata": {},
   "outputs": [],
   "source": [
    "val \n",
    "def call_value(val):\n",
    "    return val"
   ]
  },
  {
   "cell_type": "code",
   "execution_count": 55,
   "metadata": {},
   "outputs": [],
   "source": [
    "def call_ref(val):\n",
    "    print(val,id(val))\n",
    "    val.append(625)\n",
    "    return val, id(val)"
   ]
  },
  {
   "cell_type": "code",
   "execution_count": 57,
   "metadata": {},
   "outputs": [
    {
     "name": "stdout",
     "output_type": "stream",
     "text": [
      "2533183058760\n",
      "[1, 2, 3, 4, 5] 2533183058760\n",
      "([1, 2, 3, 4, 5, 625], 2533183058760)\n",
      "[1, 2, 3, 4, 5, 625]\n"
     ]
    }
   ],
   "source": [
    "li = [1,2,3,4,5]\n",
    "print(id(li))\n",
    "print(call_ref(li))\n",
    "\n",
    "print(li)"
   ]
  },
  {
   "cell_type": "code",
   "execution_count": 58,
   "metadata": {},
   "outputs": [
    {
     "name": "stdout",
     "output_type": "stream",
     "text": [
      "2533183492616\n",
      "[1, 2, 3, 4, 5] 2533183492616\n",
      "([1, 2, 3, 4, 5, 625], 2533183492616)\n",
      "[1, 2, 3, 4, 5, 625]\n"
     ]
    }
   ],
   "source": [
    "li = [1,2,3,4,5]\n",
    "print(id(li))\n",
    "\n",
    "print(call_ref(li))\n",
    "\n",
    "print(li)"
   ]
  },
  {
   "cell_type": "code",
   "execution_count": 59,
   "metadata": {},
   "outputs": [
    {
     "name": "stdout",
     "output_type": "stream",
     "text": [
      "2533183494216\n",
      "[1, 2, 3, 4, 5] 2533183494216\n",
      "([1, 2, 3, 4, 5, 625], 2533183494216)\n",
      "[1, 2, 3, 4, 5, 625]\n"
     ]
    }
   ],
   "source": [
    "li = [1,2,3,4,5]\n",
    "print(id(li))\n",
    "\n",
    "print(call_ref(li))\n",
    "\n",
    "print(li)"
   ]
  },
  {
   "cell_type": "code",
   "execution_count": 62,
   "metadata": {},
   "outputs": [
    {
     "name": "stdout",
     "output_type": "stream",
     "text": [
      "2533183306952\n",
      "[1, 2, 3, 4, 5] 2533183060424\n",
      "([1, 2, 3, 4, 5, 625], 2533183060424)\n",
      "[1, 2, 3, 4, 5]\n"
     ]
    }
   ],
   "source": [
    "li = [1,2,3,4,5]\n",
    "print(id(li))\n",
    "\n",
    "print(call_ref(li.copy()))   # Call ref \n",
    "\n",
    "print(li)"
   ]
  },
  {
   "cell_type": "code",
   "execution_count": 63,
   "metadata": {},
   "outputs": [
    {
     "name": "stdout",
     "output_type": "stream",
     "text": [
      "2533183256392\n"
     ]
    }
   ],
   "source": [
    "print(id(li[:]))"
   ]
  },
  {
   "cell_type": "markdown",
   "metadata": {},
   "source": [
    "### Recursive Fun"
   ]
  },
  {
   "cell_type": "markdown",
   "metadata": {},
   "source": [
    "## Modules and Packages\n",
    "- Pre-defined / Built-in Packages\n",
    "- User defined / 3rd Party Packages \n",
    "\n",
    "#### Modules\n",
    "\n",
    "single py file contains functions/attributes/classes constructed for some purpose\n",
    "\n",
    "### Packages\n",
    "\n",
    "group of py files/modules contains functions/attributes/classes constructed for some purpose\n",
    "\n",
    "#### advantages\n",
    "- reducing the complexity of applications\n",
    "- user readability\n",
    "- reusability"
   ]
  },
  {
   "cell_type": "markdown",
   "metadata": {},
   "source": [
    "### Predefined/Built-In"
   ]
  },
  {
   "cell_type": "code",
   "execution_count": 64,
   "metadata": {},
   "outputs": [],
   "source": [
    "import math"
   ]
  },
  {
   "cell_type": "code",
   "execution_count": 65,
   "metadata": {},
   "outputs": [
    {
     "name": "stdout",
     "output_type": "stream",
     "text": [
      "This module is always available.  It provides access to the\n",
      "mathematical functions defined by the C standard.\n"
     ]
    }
   ],
   "source": [
    "print(math.__doc__)"
   ]
  },
  {
   "cell_type": "code",
   "execution_count": 66,
   "metadata": {},
   "outputs": [
    {
     "data": {
      "text/plain": [
       "['__doc__',\n",
       " '__loader__',\n",
       " '__name__',\n",
       " '__package__',\n",
       " '__spec__',\n",
       " 'acos',\n",
       " 'acosh',\n",
       " 'asin',\n",
       " 'asinh',\n",
       " 'atan',\n",
       " 'atan2',\n",
       " 'atanh',\n",
       " 'ceil',\n",
       " 'copysign',\n",
       " 'cos',\n",
       " 'cosh',\n",
       " 'degrees',\n",
       " 'e',\n",
       " 'erf',\n",
       " 'erfc',\n",
       " 'exp',\n",
       " 'expm1',\n",
       " 'fabs',\n",
       " 'factorial',\n",
       " 'floor',\n",
       " 'fmod',\n",
       " 'frexp',\n",
       " 'fsum',\n",
       " 'gamma',\n",
       " 'gcd',\n",
       " 'hypot',\n",
       " 'inf',\n",
       " 'isclose',\n",
       " 'isfinite',\n",
       " 'isinf',\n",
       " 'isnan',\n",
       " 'ldexp',\n",
       " 'lgamma',\n",
       " 'log',\n",
       " 'log10',\n",
       " 'log1p',\n",
       " 'log2',\n",
       " 'modf',\n",
       " 'nan',\n",
       " 'pi',\n",
       " 'pow',\n",
       " 'radians',\n",
       " 'remainder',\n",
       " 'sin',\n",
       " 'sinh',\n",
       " 'sqrt',\n",
       " 'tan',\n",
       " 'tanh',\n",
       " 'tau',\n",
       " 'trunc']"
      ]
     },
     "execution_count": 66,
     "metadata": {},
     "output_type": "execute_result"
    }
   ],
   "source": [
    "dir(math)"
   ]
  },
  {
   "cell_type": "code",
   "execution_count": 67,
   "metadata": {},
   "outputs": [
    {
     "name": "stdout",
     "output_type": "stream",
     "text": [
      "3.141592653589793\n"
     ]
    }
   ],
   "source": [
    "print(math.pi)  #moduleName/Packagename.fun/attributeName"
   ]
  },
  {
   "cell_type": "code",
   "execution_count": 68,
   "metadata": {},
   "outputs": [
    {
     "name": "stdout",
     "output_type": "stream",
     "text": [
      "0.8939966636005579\n"
     ]
    }
   ],
   "source": [
    "print(math.sin(90))"
   ]
  },
  {
   "cell_type": "code",
   "execution_count": 69,
   "metadata": {},
   "outputs": [
    {
     "name": "stdout",
     "output_type": "stream",
     "text": [
      "120\n"
     ]
    }
   ],
   "source": [
    "print(math.factorial(5))"
   ]
  },
  {
   "cell_type": "code",
   "execution_count": 70,
   "metadata": {},
   "outputs": [
    {
     "ename": "AttributeError",
     "evalue": "module 'math' has no attribute 'dist'",
     "output_type": "error",
     "traceback": [
      "\u001b[1;31m---------------------------------------------------------------------------\u001b[0m",
      "\u001b[1;31mAttributeError\u001b[0m                            Traceback (most recent call last)",
      "\u001b[1;32m<ipython-input-70-b168a7ff54f5>\u001b[0m in \u001b[0;36m<module>\u001b[1;34m\u001b[0m\n\u001b[1;32m----> 1\u001b[1;33m \u001b[0mprint\u001b[0m\u001b[1;33m(\u001b[0m\u001b[0mmath\u001b[0m\u001b[1;33m.\u001b[0m\u001b[0mdist\u001b[0m\u001b[1;33m(\u001b[0m\u001b[1;33m(\u001b[0m\u001b[1;36m1\u001b[0m\u001b[1;33m,\u001b[0m\u001b[1;36m3\u001b[0m\u001b[1;33m)\u001b[0m\u001b[1;33m,\u001b[0m\u001b[1;33m(\u001b[0m\u001b[1;36m2\u001b[0m\u001b[1;33m,\u001b[0m\u001b[1;36m4\u001b[0m\u001b[1;33m)\u001b[0m\u001b[1;33m)\u001b[0m\u001b[1;33m)\u001b[0m\u001b[1;33m\u001b[0m\u001b[1;33m\u001b[0m\u001b[0m\n\u001b[0m",
      "\u001b[1;31mAttributeError\u001b[0m: module 'math' has no attribute 'dist'"
     ]
    }
   ],
   "source": [
    "print(math.dist((1,3),(2,4)))"
   ]
  },
  {
   "cell_type": "code",
   "execution_count": 72,
   "metadata": {},
   "outputs": [
    {
     "data": {
      "text/plain": [
       "sys.version_info(major=3, minor=7, micro=3, releaselevel='final', serial=0)"
      ]
     },
     "execution_count": 72,
     "metadata": {},
     "output_type": "execute_result"
    }
   ],
   "source": [
    "import sys\n",
    "\n",
    "sys.version_info"
   ]
  },
  {
   "cell_type": "code",
   "execution_count": null,
   "metadata": {},
   "outputs": [],
   "source": []
  }
 ],
 "metadata": {
  "kernelspec": {
   "display_name": "Python 3",
   "language": "python",
   "name": "python3"
  },
  "language_info": {
   "codemirror_mode": {
    "name": "ipython",
    "version": 3
   },
   "file_extension": ".py",
   "mimetype": "text/x-python",
   "name": "python",
   "nbconvert_exporter": "python",
   "pygments_lexer": "ipython3",
   "version": "3.7.3"
  }
 },
 "nbformat": 4,
 "nbformat_minor": 2
}
