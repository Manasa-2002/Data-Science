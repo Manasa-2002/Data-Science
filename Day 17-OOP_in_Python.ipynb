{
 "cells": [
  {
   "cell_type": "markdown",
   "metadata": {},
   "source": [
    "### Recap\n",
    "- Comprehension\n",
    "    - List\n",
    "    - Dictionary\n",
    "    - Set\n",
    "    - Tuple\n",
    "- Lambda\n",
    "- pass\n",
    "- map()\n",
    "- filter()"
   ]
  },
  {
   "cell_type": "markdown",
   "metadata": {},
   "source": [
    "### Today's Objectives\n",
    "- Iterators\n",
    "- Generators\n",
    "- Object Oriented Programming"
   ]
  },
  {
   "cell_type": "markdown",
   "metadata": {},
   "source": [
    "### Iterators\n",
    "\n",
    "\n",
    "list, string, tuple, set, dictionary"
   ]
  },
  {
   "cell_type": "markdown",
   "metadata": {},
   "source": [
    "100 lines of code\n",
    "\n",
    "string with 50 characters\n",
    "\n",
    "50 lines I need 25 character\n",
    "\n",
    "100 I need 25 char"
   ]
  },
  {
   "cell_type": "code",
   "execution_count": 4,
   "metadata": {},
   "outputs": [],
   "source": [
    "s1 = \"\"\"Python is an interpreted high-level general-purpose programming language. Python's design philosophy emphasizes code readability with its notable use of significant indentation. Wikipedia\n",
    "Developer: Python Software Foundation\n",
    "Stable release: 3.9.5 / 3 May 2021; 29 days ago\n",
    "Preview release: 3.10.0b1 / 3 May 2021; 29 days ago\n",
    "Typing discipline: Duck, dynamic, strong typing; gradual (since 3.5, but ignored in CPython)\n",
    "First appeared: February 1991; 30 years ago\n",
    "Paradigm: Multi-paradigm: object-oriented, procedural (imperative), functional, structured, reflective\"\"\""
   ]
  },
  {
   "cell_type": "code",
   "execution_count": 5,
   "metadata": {},
   "outputs": [
    {
     "name": "stdout",
     "output_type": "stream",
     "text": [
      "<str_iterator object at 0x000001599648B208>\n"
     ]
    }
   ],
   "source": [
    "it = iter(s1)\n",
    "\n",
    "print(it)"
   ]
  },
  {
   "cell_type": "code",
   "execution_count": 6,
   "metadata": {},
   "outputs": [
    {
     "data": {
      "text/plain": [
       "'P'"
      ]
     },
     "execution_count": 6,
     "metadata": {},
     "output_type": "execute_result"
    }
   ],
   "source": [
    "next(it)"
   ]
  },
  {
   "cell_type": "code",
   "execution_count": 7,
   "metadata": {},
   "outputs": [
    {
     "name": "stdout",
     "output_type": "stream",
     "text": [
      "y\n"
     ]
    }
   ],
   "source": [
    "print(next(it))"
   ]
  },
  {
   "cell_type": "code",
   "execution_count": 8,
   "metadata": {},
   "outputs": [
    {
     "name": "stdout",
     "output_type": "stream",
     "text": [
      "t\n",
      "h\n",
      "o\n",
      "n\n",
      " \n",
      "i\n",
      "s\n",
      " \n",
      "a\n",
      "n\n"
     ]
    }
   ],
   "source": [
    "for i in range(10):\n",
    "    print(next(it))"
   ]
  },
  {
   "cell_type": "code",
   "execution_count": 9,
   "metadata": {},
   "outputs": [
    {
     "data": {
      "text/plain": [
       "' '"
      ]
     },
     "execution_count": 9,
     "metadata": {},
     "output_type": "execute_result"
    }
   ],
   "source": [
    "next(it)"
   ]
  },
  {
   "cell_type": "code",
   "execution_count": 10,
   "metadata": {},
   "outputs": [
    {
     "data": {
      "text/plain": [
       "'i'"
      ]
     },
     "execution_count": 10,
     "metadata": {},
     "output_type": "execute_result"
    }
   ],
   "source": [
    "next(it)"
   ]
  },
  {
   "cell_type": "code",
   "execution_count": 11,
   "metadata": {},
   "outputs": [],
   "source": [
    "it1 = iter('Python')\n",
    "it2 = 'python'"
   ]
  },
  {
   "cell_type": "code",
   "execution_count": 12,
   "metadata": {},
   "outputs": [
    {
     "name": "stdout",
     "output_type": "stream",
     "text": [
      "P\n",
      "y\n",
      "t\n",
      "h\n",
      "o\n",
      "n\n"
     ]
    }
   ],
   "source": [
    "for i in it1:\n",
    "    print(i)"
   ]
  },
  {
   "cell_type": "code",
   "execution_count": 14,
   "metadata": {},
   "outputs": [
    {
     "ename": "StopIteration",
     "evalue": "",
     "output_type": "error",
     "traceback": [
      "\u001b[1;31m---------------------------------------------------------------------------\u001b[0m",
      "\u001b[1;31mStopIteration\u001b[0m                             Traceback (most recent call last)",
      "\u001b[1;32m<ipython-input-14-a1664e0d0ec1>\u001b[0m in \u001b[0;36m<module>\u001b[1;34m\u001b[0m\n\u001b[1;32m----> 1\u001b[1;33m \u001b[0mprint\u001b[0m\u001b[1;33m(\u001b[0m\u001b[0mnext\u001b[0m\u001b[1;33m(\u001b[0m\u001b[0mit1\u001b[0m\u001b[1;33m)\u001b[0m\u001b[1;33m)\u001b[0m\u001b[1;33m\u001b[0m\u001b[1;33m\u001b[0m\u001b[0m\n\u001b[0m",
      "\u001b[1;31mStopIteration\u001b[0m: "
     ]
    }
   ],
   "source": [
    "print(next(it1))"
   ]
  },
  {
   "cell_type": "code",
   "execution_count": 15,
   "metadata": {},
   "outputs": [],
   "source": [
    "for i in it1:\n",
    "    print(i)"
   ]
  },
  {
   "cell_type": "code",
   "execution_count": 16,
   "metadata": {},
   "outputs": [
    {
     "name": "stdout",
     "output_type": "stream",
     "text": [
      "p\n",
      "y\n",
      "t\n",
      "h\n",
      "o\n",
      "n\n"
     ]
    }
   ],
   "source": [
    "for i in it2:\n",
    "    print(i)"
   ]
  },
  {
   "cell_type": "code",
   "execution_count": 17,
   "metadata": {},
   "outputs": [],
   "source": [
    "li = [1,2,3,4,5,6]\n",
    "li2 = iter([1,2,3,4,5,6])"
   ]
  },
  {
   "cell_type": "code",
   "execution_count": 18,
   "metadata": {},
   "outputs": [
    {
     "name": "stdout",
     "output_type": "stream",
     "text": [
      "[1, 2, 3, 4, 5, 6] <list_iterator object at 0x00000159965127B8>\n"
     ]
    }
   ],
   "source": [
    "print(li, li2)"
   ]
  },
  {
   "cell_type": "code",
   "execution_count": 19,
   "metadata": {},
   "outputs": [
    {
     "data": {
      "text/plain": [
       "1"
      ]
     },
     "execution_count": 19,
     "metadata": {},
     "output_type": "execute_result"
    }
   ],
   "source": [
    "next(li2)"
   ]
  },
  {
   "cell_type": "code",
   "execution_count": 20,
   "metadata": {},
   "outputs": [
    {
     "name": "stdout",
     "output_type": "stream",
     "text": [
      "2\n"
     ]
    }
   ],
   "source": [
    "print(next(li2))"
   ]
  },
  {
   "cell_type": "code",
   "execution_count": 21,
   "metadata": {},
   "outputs": [
    {
     "data": {
      "text/plain": [
       "3"
      ]
     },
     "execution_count": 21,
     "metadata": {},
     "output_type": "execute_result"
    }
   ],
   "source": [
    "next(li2)"
   ]
  },
  {
   "cell_type": "code",
   "execution_count": 23,
   "metadata": {},
   "outputs": [
    {
     "data": {
      "text/plain": [
       "4"
      ]
     },
     "execution_count": 23,
     "metadata": {},
     "output_type": "execute_result"
    }
   ],
   "source": [
    "next(li2)"
   ]
  },
  {
   "cell_type": "code",
   "execution_count": 24,
   "metadata": {},
   "outputs": [
    {
     "data": {
      "text/plain": [
       "5"
      ]
     },
     "execution_count": 24,
     "metadata": {},
     "output_type": "execute_result"
    }
   ],
   "source": [
    "next(li2)"
   ]
  },
  {
   "cell_type": "code",
   "execution_count": 25,
   "metadata": {},
   "outputs": [
    {
     "data": {
      "text/plain": [
       "6"
      ]
     },
     "execution_count": 25,
     "metadata": {},
     "output_type": "execute_result"
    }
   ],
   "source": [
    "next(li2)"
   ]
  },
  {
   "cell_type": "code",
   "execution_count": 26,
   "metadata": {},
   "outputs": [
    {
     "ename": "StopIteration",
     "evalue": "",
     "output_type": "error",
     "traceback": [
      "\u001b[1;31m---------------------------------------------------------------------------\u001b[0m",
      "\u001b[1;31mStopIteration\u001b[0m                             Traceback (most recent call last)",
      "\u001b[1;32m<ipython-input-26-a51a8cea1203>\u001b[0m in \u001b[0;36m<module>\u001b[1;34m\u001b[0m\n\u001b[1;32m----> 1\u001b[1;33m \u001b[0mnext\u001b[0m\u001b[1;33m(\u001b[0m\u001b[0mli2\u001b[0m\u001b[1;33m)\u001b[0m\u001b[1;33m\u001b[0m\u001b[1;33m\u001b[0m\u001b[0m\n\u001b[0m",
      "\u001b[1;31mStopIteration\u001b[0m: "
     ]
    }
   ],
   "source": [
    "next(li2)"
   ]
  },
  {
   "cell_type": "code",
   "execution_count": 27,
   "metadata": {},
   "outputs": [
    {
     "name": "stdout",
     "output_type": "stream",
     "text": [
      "[1, 2, 3, 4, 5, 6]\n"
     ]
    }
   ],
   "source": [
    "print(li)"
   ]
  },
  {
   "cell_type": "code",
   "execution_count": 28,
   "metadata": {},
   "outputs": [],
   "source": [
    "li2 = iter([1,2,3,4,5,6])"
   ]
  },
  {
   "cell_type": "code",
   "execution_count": 29,
   "metadata": {},
   "outputs": [
    {
     "name": "stdout",
     "output_type": "stream",
     "text": [
      "1\n",
      "2\n",
      "3\n"
     ]
    }
   ],
   "source": [
    "for i in range(3):\n",
    "    print(next(li2))"
   ]
  },
  {
   "cell_type": "code",
   "execution_count": 30,
   "metadata": {},
   "outputs": [
    {
     "name": "stdout",
     "output_type": "stream",
     "text": [
      "4\n",
      "5\n",
      "6\n"
     ]
    }
   ],
   "source": [
    "for i in range(3):\n",
    "    print(next(li2))"
   ]
  },
  {
   "cell_type": "code",
   "execution_count": 31,
   "metadata": {},
   "outputs": [
    {
     "ename": "StopIteration",
     "evalue": "",
     "output_type": "error",
     "traceback": [
      "\u001b[1;31m---------------------------------------------------------------------------\u001b[0m",
      "\u001b[1;31mStopIteration\u001b[0m                             Traceback (most recent call last)",
      "\u001b[1;32m<ipython-input-31-9c42caeb07b7>\u001b[0m in \u001b[0;36m<module>\u001b[1;34m\u001b[0m\n\u001b[0;32m      1\u001b[0m \u001b[1;32mfor\u001b[0m \u001b[0mi\u001b[0m \u001b[1;32min\u001b[0m \u001b[0mrange\u001b[0m\u001b[1;33m(\u001b[0m\u001b[1;36m3\u001b[0m\u001b[1;33m)\u001b[0m\u001b[1;33m:\u001b[0m\u001b[1;33m\u001b[0m\u001b[1;33m\u001b[0m\u001b[0m\n\u001b[1;32m----> 2\u001b[1;33m     \u001b[0mprint\u001b[0m\u001b[1;33m(\u001b[0m\u001b[0mnext\u001b[0m\u001b[1;33m(\u001b[0m\u001b[0mli2\u001b[0m\u001b[1;33m)\u001b[0m\u001b[1;33m)\u001b[0m\u001b[1;33m\u001b[0m\u001b[1;33m\u001b[0m\u001b[0m\n\u001b[0m",
      "\u001b[1;31mStopIteration\u001b[0m: "
     ]
    }
   ],
   "source": [
    "for i in range(3):\n",
    "    print(next(li2))"
   ]
  },
  {
   "cell_type": "markdown",
   "metadata": {},
   "source": [
    "### Generator"
   ]
  },
  {
   "cell_type": "code",
   "execution_count": 32,
   "metadata": {},
   "outputs": [],
   "source": [
    "def gen():\n",
    "    a = 10\n",
    "    yield a\n",
    "    \n",
    "    a **= 5\n",
    "    yield a\n",
    "    \n",
    "    a **= 10\n",
    "    yield a"
   ]
  },
  {
   "cell_type": "code",
   "execution_count": 35,
   "metadata": {},
   "outputs": [],
   "source": [
    "g = gen()"
   ]
  },
  {
   "cell_type": "code",
   "execution_count": 36,
   "metadata": {},
   "outputs": [
    {
     "data": {
      "text/plain": [
       "10"
      ]
     },
     "execution_count": 36,
     "metadata": {},
     "output_type": "execute_result"
    }
   ],
   "source": [
    "next(g)"
   ]
  },
  {
   "cell_type": "code",
   "execution_count": 37,
   "metadata": {},
   "outputs": [
    {
     "data": {
      "text/plain": [
       "100000"
      ]
     },
     "execution_count": 37,
     "metadata": {},
     "output_type": "execute_result"
    }
   ],
   "source": [
    "next(g)"
   ]
  },
  {
   "cell_type": "code",
   "execution_count": 38,
   "metadata": {},
   "outputs": [
    {
     "data": {
      "text/plain": [
       "100000000000000000000000000000000000000000000000000"
      ]
     },
     "execution_count": 38,
     "metadata": {},
     "output_type": "execute_result"
    }
   ],
   "source": [
    "next(g)"
   ]
  },
  {
   "cell_type": "code",
   "execution_count": 39,
   "metadata": {},
   "outputs": [
    {
     "ename": "StopIteration",
     "evalue": "",
     "output_type": "error",
     "traceback": [
      "\u001b[1;31m---------------------------------------------------------------------------\u001b[0m",
      "\u001b[1;31mStopIteration\u001b[0m                             Traceback (most recent call last)",
      "\u001b[1;32m<ipython-input-39-e734f8aca5ac>\u001b[0m in \u001b[0;36m<module>\u001b[1;34m\u001b[0m\n\u001b[1;32m----> 1\u001b[1;33m \u001b[0mnext\u001b[0m\u001b[1;33m(\u001b[0m\u001b[0mg\u001b[0m\u001b[1;33m)\u001b[0m\u001b[1;33m\u001b[0m\u001b[1;33m\u001b[0m\u001b[0m\n\u001b[0m",
      "\u001b[1;31mStopIteration\u001b[0m: "
     ]
    }
   ],
   "source": [
    "next(g)"
   ]
  },
  {
   "cell_type": "code",
   "execution_count": 40,
   "metadata": {},
   "outputs": [],
   "source": [
    "t1 = (i for i in range(100))"
   ]
  },
  {
   "cell_type": "code",
   "execution_count": 41,
   "metadata": {},
   "outputs": [
    {
     "name": "stdout",
     "output_type": "stream",
     "text": [
      "<generator object <genexpr> at 0x00000159965027C8>\n"
     ]
    }
   ],
   "source": [
    "print(t1)"
   ]
  },
  {
   "cell_type": "code",
   "execution_count": 42,
   "metadata": {},
   "outputs": [
    {
     "data": {
      "text/plain": [
       "0"
      ]
     },
     "execution_count": 42,
     "metadata": {},
     "output_type": "execute_result"
    }
   ],
   "source": [
    "next(t1)"
   ]
  },
  {
   "cell_type": "code",
   "execution_count": 43,
   "metadata": {},
   "outputs": [],
   "source": [
    "li = range(0,100)"
   ]
  },
  {
   "cell_type": "code",
   "execution_count": 44,
   "metadata": {},
   "outputs": [
    {
     "name": "stdout",
     "output_type": "stream",
     "text": [
      "0\n",
      "1\n",
      "2\n",
      "3\n",
      "4\n",
      "5\n",
      "6\n",
      "7\n",
      "8\n",
      "9\n",
      "10\n"
     ]
    }
   ],
   "source": [
    "for i in li:\n",
    "    print(i)\n",
    "    if i == 10:\n",
    "        break"
   ]
  },
  {
   "cell_type": "code",
   "execution_count": 50,
   "metadata": {},
   "outputs": [
    {
     "name": "stdout",
     "output_type": "stream",
     "text": [
      "0\n",
      "1\n",
      "2\n",
      "3\n",
      "4\n",
      "5\n",
      "6\n",
      "7\n",
      "8\n",
      "9\n",
      "10\n"
     ]
    }
   ],
   "source": [
    "for i in li:\n",
    "    print(i)\n",
    "    if i == 10:\n",
    "        break"
   ]
  },
  {
   "cell_type": "code",
   "execution_count": 51,
   "metadata": {},
   "outputs": [
    {
     "name": "stdout",
     "output_type": "stream",
     "text": [
      "21\n",
      "22\n",
      "23\n",
      "24\n",
      "25\n",
      "26\n",
      "27\n",
      "28\n",
      "29\n",
      "30\n",
      "31\n",
      "32\n",
      "33\n",
      "34\n",
      "35\n",
      "36\n",
      "37\n",
      "38\n",
      "39\n",
      "40\n",
      "41\n",
      "42\n",
      "43\n",
      "44\n",
      "45\n",
      "46\n",
      "47\n",
      "48\n",
      "49\n",
      "50\n",
      "51\n",
      "52\n",
      "53\n",
      "54\n",
      "55\n",
      "56\n",
      "57\n",
      "58\n",
      "59\n",
      "60\n",
      "61\n",
      "62\n",
      "63\n",
      "64\n",
      "65\n",
      "66\n",
      "67\n",
      "68\n",
      "69\n",
      "70\n",
      "71\n",
      "72\n",
      "73\n",
      "74\n",
      "75\n",
      "76\n",
      "77\n",
      "78\n",
      "79\n",
      "80\n",
      "81\n",
      "82\n",
      "83\n",
      "84\n",
      "85\n",
      "86\n",
      "87\n",
      "88\n",
      "89\n",
      "90\n",
      "91\n",
      "92\n",
      "93\n",
      "94\n",
      "95\n",
      "96\n",
      "97\n",
      "98\n",
      "99\n"
     ]
    }
   ],
   "source": [
    "for i in t1:\n",
    "    print(i)\n",
    "    if i == 10:\n",
    "        break"
   ]
  },
  {
   "cell_type": "code",
   "execution_count": 53,
   "metadata": {},
   "outputs": [],
   "source": [
    "for i in t1:\n",
    "    print(i)\n",
    "    if i == 20:\n",
    "        break"
   ]
  },
  {
   "cell_type": "markdown",
   "metadata": {},
   "source": [
    "### Object Oriented Programming Language in Python"
   ]
  },
  {
   "cell_type": "markdown",
   "metadata": {},
   "source": [
    "- Attributes -> Variables created inside class\n",
    "- Method -> Function created inside the class\n",
    "- Class -> Blueprint for the object ->  Design of a thing\n",
    "- Object -> Instance of the class -> It occupies memory\n",
    "\n",
    "\n",
    "\n",
    "### Structure\n",
    "\n",
    "```python\n",
    "\n",
    "class ClassName:\n",
    "    \"\"\"Doc String\"\"\"\n",
    "    Atributes\n",
    "    Methods\n",
    "```\n"
   ]
  },
  {
   "cell_type": "code",
   "execution_count": 54,
   "metadata": {},
   "outputs": [],
   "source": [
    "class Student:\n",
    "    \"\"\"This is Blueprint created for student Id card\"\"\"\n",
    "    pass"
   ]
  },
  {
   "cell_type": "code",
   "execution_count": 55,
   "metadata": {},
   "outputs": [],
   "source": [
    "class Student2:\n",
    "    pass"
   ]
  },
  {
   "cell_type": "code",
   "execution_count": 56,
   "metadata": {},
   "outputs": [],
   "source": [
    "apssdc = Student()"
   ]
  },
  {
   "cell_type": "code",
   "execution_count": 57,
   "metadata": {},
   "outputs": [
    {
     "name": "stdout",
     "output_type": "stream",
     "text": [
      "<__main__.Student object at 0x000001599651B9E8>\n"
     ]
    }
   ],
   "source": [
    "print(apssdc)"
   ]
  },
  {
   "cell_type": "code",
   "execution_count": 58,
   "metadata": {},
   "outputs": [
    {
     "data": {
      "text/plain": [
       "'This is Blueprint created for student Id card'"
      ]
     },
     "execution_count": 58,
     "metadata": {},
     "output_type": "execute_result"
    }
   ],
   "source": [
    "apssdc.__doc__"
   ]
  },
  {
   "cell_type": "code",
   "execution_count": 59,
   "metadata": {},
   "outputs": [
    {
     "data": {
      "text/plain": [
       "'This is Blueprint created for student Id card'"
      ]
     },
     "execution_count": 59,
     "metadata": {},
     "output_type": "execute_result"
    }
   ],
   "source": [
    "Student.__doc__"
   ]
  },
  {
   "cell_type": "code",
   "execution_count": 60,
   "metadata": {},
   "outputs": [],
   "source": [
    "class Student:\n",
    "    \"\"\"This is Blueprint created for student Id card\"\"\"\n",
    "    college = 'APSSDC'\n",
    "    branch = 'Data Science'\n",
    "    collegeAddress = 'Tadepalli, Guntur'"
   ]
  },
  {
   "cell_type": "code",
   "execution_count": 61,
   "metadata": {},
   "outputs": [],
   "source": [
    "std1 = Student()\n",
    "std2 = Student()"
   ]
  },
  {
   "cell_type": "code",
   "execution_count": 62,
   "metadata": {},
   "outputs": [
    {
     "data": {
      "text/plain": [
       "'APSSDC'"
      ]
     },
     "execution_count": 62,
     "metadata": {},
     "output_type": "execute_result"
    }
   ],
   "source": [
    "std1.college"
   ]
  },
  {
   "cell_type": "code",
   "execution_count": 63,
   "metadata": {},
   "outputs": [
    {
     "data": {
      "text/plain": [
       "'APSSDC'"
      ]
     },
     "execution_count": 63,
     "metadata": {},
     "output_type": "execute_result"
    }
   ],
   "source": [
    "std2.college"
   ]
  },
  {
   "cell_type": "code",
   "execution_count": 64,
   "metadata": {},
   "outputs": [
    {
     "data": {
      "text/plain": [
       "'Tadepalli, Guntur'"
      ]
     },
     "execution_count": 64,
     "metadata": {},
     "output_type": "execute_result"
    }
   ],
   "source": [
    "std1.collegeAddress"
   ]
  },
  {
   "cell_type": "code",
   "execution_count": 69,
   "metadata": {},
   "outputs": [],
   "source": [
    "class Student:\n",
    "    \"\"\"This is Blueprint created for student Id card\"\"\"\n",
    "    college = 'APSSDC'\n",
    "    branch = 'Data Science'\n",
    "    collegeAddress = 'Tadepalli, Guntur'\n",
    "    def __init__(self): # dendur init, constructor, instance method, initializer\n",
    "        print(\"Student object is created\")"
   ]
  },
  {
   "cell_type": "code",
   "execution_count": 70,
   "metadata": {},
   "outputs": [
    {
     "name": "stdout",
     "output_type": "stream",
     "text": [
      "Student object is created\n",
      "Student object is created\n"
     ]
    }
   ],
   "source": [
    "std1 = Student()\n",
    "std2 = Student()"
   ]
  },
  {
   "cell_type": "code",
   "execution_count": 78,
   "metadata": {},
   "outputs": [],
   "source": [
    "class Student:\n",
    "    \"\"\"This is Blueprint created for student Id card\"\"\"\n",
    "    college = 'APSSDC'\n",
    "    branch = 'Data Science'\n",
    "    collegeAddress = 'Tadepalli, Guntur'\n",
    "    def __init__(self, name, rollNo, mobileNo): # dendur init, constructor, instance method, initializer\n",
    "        self.name = name\n",
    "        self.rollNo = rollNo\n",
    "        self.mobileNo = mobileNo\n",
    "        print(\"{} object is created\".format(self.name))"
   ]
  },
  {
   "cell_type": "code",
   "execution_count": 79,
   "metadata": {},
   "outputs": [
    {
     "name": "stdout",
     "output_type": "stream",
     "text": [
      "Python object is created\n",
      "Data object is created\n"
     ]
    }
   ],
   "source": [
    "std1 = Student('Python','123456','9876543210')\n",
    "std2 = Student('Data', '789987', '1234567890')"
   ]
  },
  {
   "cell_type": "code",
   "execution_count": 80,
   "metadata": {},
   "outputs": [
    {
     "data": {
      "text/plain": [
       "'Python'"
      ]
     },
     "execution_count": 80,
     "metadata": {},
     "output_type": "execute_result"
    }
   ],
   "source": [
    "std1.name"
   ]
  },
  {
   "cell_type": "code",
   "execution_count": 81,
   "metadata": {},
   "outputs": [
    {
     "data": {
      "text/plain": [
       "'Data'"
      ]
     },
     "execution_count": 81,
     "metadata": {},
     "output_type": "execute_result"
    }
   ],
   "source": [
    "std2.name"
   ]
  },
  {
   "cell_type": "code",
   "execution_count": 82,
   "metadata": {},
   "outputs": [
    {
     "data": {
      "text/plain": [
       "('APSSDC', 'APSSDC')"
      ]
     },
     "execution_count": 82,
     "metadata": {},
     "output_type": "execute_result"
    }
   ],
   "source": [
    "std1.college, std2.college"
   ]
  },
  {
   "cell_type": "code",
   "execution_count": 83,
   "metadata": {},
   "outputs": [
    {
     "name": "stdout",
     "output_type": "stream",
     "text": [
      "<__main__.Student object at 0x0000015996512240> <__main__.Student object at 0x0000015996512048>\n"
     ]
    }
   ],
   "source": [
    "print(std1, std2)"
   ]
  },
  {
   "cell_type": "code",
   "execution_count": 101,
   "metadata": {},
   "outputs": [],
   "source": [
    "class Student:\n",
    "    \"\"\"This is Blueprint created for student Id card\"\"\"\n",
    "    college = 'APSSDC'\n",
    "    branch = 'Data Science'\n",
    "    collegeAddress = 'Tadepalli, Guntur'\n",
    "    def __init__(self, name, rollNo, mobileNo, python, java): # dendur init, constructor, instance method, initializer\n",
    "        self.name = name\n",
    "        self.rollNo = rollNo\n",
    "        self.mobileNo = mobileNo\n",
    "        self.python = python\n",
    "        self.java = java\n",
    "        print(\"{} object is created\".format(self.name))\n",
    "   \n",
    "    def average(self):\n",
    "        avg = (self.python + self.java) / 2\n",
    "        return avg\n",
    "    \n",
    "    def py_status(self, PyaddOn):\n",
    "        self.python += PyaddOn\n",
    "        if self.python > 40:\n",
    "            print('Hooray you have passed python subject')\n",
    "        else:\n",
    "             print('Hooray you have not passed python subject')\n",
    "    \n",
    "    def java_status(self, JaaddOn):\n",
    "        self.java += JaaddOn\n",
    "        if self.java > 40:\n",
    "            print('Hooray you have passed java subject')\n",
    "        else:\n",
    "             print('Hooray you have not passed java subject')"
   ]
  },
  {
   "cell_type": "code",
   "execution_count": 112,
   "metadata": {},
   "outputs": [
    {
     "name": "stdout",
     "output_type": "stream",
     "text": [
      "Python object is created\n",
      "Data object is created\n"
     ]
    }
   ],
   "source": [
    "std1 = Student('Python','123456','9876543210', 35, 65)\n",
    "std2 = Student('Data', '789987', '1234567890', 65, 25)"
   ]
  },
  {
   "cell_type": "code",
   "execution_count": 113,
   "metadata": {},
   "outputs": [
    {
     "data": {
      "text/plain": [
       "50.0"
      ]
     },
     "execution_count": 113,
     "metadata": {},
     "output_type": "execute_result"
    }
   ],
   "source": [
    "std1.average()"
   ]
  },
  {
   "cell_type": "code",
   "execution_count": 114,
   "metadata": {},
   "outputs": [
    {
     "data": {
      "text/plain": [
       "45.0"
      ]
     },
     "execution_count": 114,
     "metadata": {},
     "output_type": "execute_result"
    }
   ],
   "source": [
    "std2.average()"
   ]
  },
  {
   "cell_type": "code",
   "execution_count": 115,
   "metadata": {},
   "outputs": [
    {
     "name": "stdout",
     "output_type": "stream",
     "text": [
      "35 65\n"
     ]
    }
   ],
   "source": [
    "print(std1.python, std2.python)"
   ]
  },
  {
   "cell_type": "code",
   "execution_count": 116,
   "metadata": {},
   "outputs": [
    {
     "name": "stdout",
     "output_type": "stream",
     "text": [
      "Hooray you have not passed python subject\n"
     ]
    }
   ],
   "source": [
    "std1.py_status(5)"
   ]
  },
  {
   "cell_type": "code",
   "execution_count": 117,
   "metadata": {},
   "outputs": [
    {
     "data": {
      "text/plain": [
       "40"
      ]
     },
     "execution_count": 117,
     "metadata": {},
     "output_type": "execute_result"
    }
   ],
   "source": [
    "std1.python"
   ]
  },
  {
   "cell_type": "code",
   "execution_count": 118,
   "metadata": {},
   "outputs": [
    {
     "ename": "AttributeError",
     "evalue": "'Student' object has no attribute 'pyaddOn'",
     "output_type": "error",
     "traceback": [
      "\u001b[1;31m---------------------------------------------------------------------------\u001b[0m",
      "\u001b[1;31mAttributeError\u001b[0m                            Traceback (most recent call last)",
      "\u001b[1;32m<ipython-input-118-d1447455e913>\u001b[0m in \u001b[0;36m<module>\u001b[1;34m\u001b[0m\n\u001b[1;32m----> 1\u001b[1;33m \u001b[0mstd1\u001b[0m\u001b[1;33m.\u001b[0m\u001b[0mpyaddOn\u001b[0m\u001b[1;33m\u001b[0m\u001b[1;33m\u001b[0m\u001b[0m\n\u001b[0m",
      "\u001b[1;31mAttributeError\u001b[0m: 'Student' object has no attribute 'pyaddOn'"
     ]
    }
   ],
   "source": [
    "std1.pyaddOn"
   ]
  },
  {
   "cell_type": "code",
   "execution_count": 120,
   "metadata": {},
   "outputs": [
    {
     "name": "stdout",
     "output_type": "stream",
     "text": [
      "Hooray you have passed python subject\n"
     ]
    }
   ],
   "source": [
    "std2.py_status(0)"
   ]
  },
  {
   "cell_type": "code",
   "execution_count": 121,
   "metadata": {},
   "outputs": [
    {
     "name": "stdout",
     "output_type": "stream",
     "text": [
      "Python object is created\n",
      "Data object is created\n"
     ]
    }
   ],
   "source": [
    "std1 = Student('Python','123456','9876543210', 35, 65)\n",
    "std2 = Student('Data', '789987', '1234567890', 65, 25)"
   ]
  },
  {
   "cell_type": "code",
   "execution_count": 122,
   "metadata": {},
   "outputs": [],
   "source": [
    "std2.name = 'Data Science'"
   ]
  },
  {
   "cell_type": "code",
   "execution_count": 123,
   "metadata": {},
   "outputs": [
    {
     "data": {
      "text/plain": [
       "'Data Science'"
      ]
     },
     "execution_count": 123,
     "metadata": {},
     "output_type": "execute_result"
    }
   ],
   "source": [
    "std2.name"
   ]
  },
  {
   "cell_type": "code",
   "execution_count": 124,
   "metadata": {},
   "outputs": [
    {
     "name": "stdout",
     "output_type": "stream",
     "text": [
      "<__main__.Student object at 0x0000015996546358> <__main__.Student object at 0x00000159965462B0>\n"
     ]
    }
   ],
   "source": [
    "print(std1, std2)"
   ]
  },
  {
   "cell_type": "code",
   "execution_count": 128,
   "metadata": {},
   "outputs": [],
   "source": [
    "class Student:\n",
    "    \"\"\"This is Blueprint created for student Id card\"\"\"\n",
    "    college = 'APSSDC'\n",
    "    branch = 'Data Science'\n",
    "    collegeAddress = 'Tadepalli, Guntur'\n",
    "    def __init__(self, name, rollNo, mobileNo, python, java): # dendur init, constructor, instance method, initializer\n",
    "        self.name = name\n",
    "        self.rollNo = rollNo\n",
    "        self.mobileNo = mobileNo\n",
    "        self.python = python\n",
    "        self.java = java\n",
    "        print(\"{} object is created\".format(self.name))\n",
    "   \n",
    "    def average(self):\n",
    "        avg = (self.python + self.java) / 2\n",
    "        return avg\n",
    "    \n",
    "    def py_status(self, PyaddOn):\n",
    "        self.python += PyaddOn\n",
    "        if self.python > 40:\n",
    "            print('Hooray you have passed python subject')\n",
    "        else:\n",
    "             print('Hooray you have not passed python subject')\n",
    "    \n",
    "    def java_status(self, JaaddOn):\n",
    "        self.java += JaaddOn\n",
    "        if self.java > 40:\n",
    "            print('Hooray you have passed java subject')\n",
    "        else:\n",
    "             print('Hooray you have not passed java subject')\n",
    "    def __str__(self):\n",
    "        return \"This class belongs to {}\",format(self.name)\n",
    "    def __del__(self): # destructor\n",
    "        print(\"{} data has deleted\".format(self.name()))\n"
   ]
  },
  {
   "cell_type": "code",
   "execution_count": 146,
   "metadata": {},
   "outputs": [],
   "source": [
    "class Student:\n",
    "    \"\"\"This is Blueprint created for student Id card\"\"\"\n",
    "    college = 'APSSDC'\n",
    "    branch = 'Data Science'\n",
    "    collegeAddress = 'Tadepalli, Guntur'\n",
    "    def __init__(self, name, rollNo, mobileNo, python, java): # dendur init, constructor, instance method, initializer\n",
    "        self.name = name\n",
    "        self.rollNo = rollNo\n",
    "        self.mobileNo = mobileNo\n",
    "        self.python = python\n",
    "        self.java = java\n",
    "        print(\"{} object is created\".format(self.name))\n",
    "   \n",
    "    def average(self):\n",
    "        avg = (self.python + self.java) / 2\n",
    "        return avg\n",
    "    \n",
    "    def py_status(self, PyaddOn):\n",
    "        self.python += PyaddOn\n",
    "        if self.python > 40:\n",
    "            print('Hooray you have passed python subject')\n",
    "        else:\n",
    "             print('Hooray you have not passed python subject')\n",
    "    \n",
    "    def java_status(self, JaaddOn):\n",
    "        self.java += JaaddOn\n",
    "        if self.java > 40:\n",
    "            print('Hooray you have passed java subject')\n",
    "        else:\n",
    "             print('Hooray you have not passed java subject')\n",
    "    def __str__(self):\n",
    "        return \"This class belongs to {}\",format(self.name)\n",
    "    def __del__(self): # destructor\n",
    "        print(\"{} data has deleted\".format(self.name))\n"
   ]
  },
  {
   "cell_type": "code",
   "execution_count": 147,
   "metadata": {},
   "outputs": [
    {
     "name": "stdout",
     "output_type": "stream",
     "text": [
      "data object is created\n",
      "Python object is created\n"
     ]
    },
    {
     "name": "stderr",
     "output_type": "stream",
     "text": [
      "Exception ignored in: <function Student.__del__ at 0x000001599644A9D8>\n",
      "Traceback (most recent call last):\n",
      "  File \"<ipython-input-142-ad37644e9205>\", line 34, in __del__\n",
      "TypeError: 'str' object is not callable\n",
      "Exception ignored in: <function Student.__del__ at 0x000001599644A9D8>\n",
      "Traceback (most recent call last):\n",
      "  File \"<ipython-input-142-ad37644e9205>\", line 34, in __del__\n",
      "TypeError: 'str' object is not callable\n"
     ]
    }
   ],
   "source": [
    "std1 = Student('data','123456','9876543210', 35, 65)\n",
    "std2 = Student('Python', '789987', '1234567890', 65, 25)"
   ]
  },
  {
   "cell_type": "code",
   "execution_count": 148,
   "metadata": {},
   "outputs": [
    {
     "name": "stdout",
     "output_type": "stream",
     "text": [
      "data object is created\n",
      "data data has deleted\n",
      "Python object is created\n",
      "Python data has deleted\n"
     ]
    }
   ],
   "source": [
    "std1 = Student('data','123456','9876543210', 35, 65)\n",
    "std2 = Student('Python', '789987', '1234567890', 65, 25)"
   ]
  },
  {
   "cell_type": "code",
   "execution_count": 149,
   "metadata": {},
   "outputs": [
    {
     "data": {
      "text/plain": [
       "<__main__.Student at 0x15996552b38>"
      ]
     },
     "execution_count": 149,
     "metadata": {},
     "output_type": "execute_result"
    }
   ],
   "source": [
    "std1"
   ]
  },
  {
   "cell_type": "markdown",
   "metadata": {},
   "source": [
    "### "
   ]
  },
  {
   "cell_type": "code",
   "execution_count": 155,
   "metadata": {},
   "outputs": [],
   "source": [
    "class Student:\n",
    "    \"\"\"This is Blueprint created for student Id card\"\"\"\n",
    "    college = 'APSSDC'\n",
    "    branch = 'Data Science'\n",
    "    collegeAddress = 'Tadepalli, Guntur'\n",
    "    def __init__(self, name, rollNo, mobileNo, python, java): # dendur init, constructor, instance method, initializer\n",
    "        self.name = name\n",
    "        self.rollNo = rollNo\n",
    "        self.mobileNo = mobileNo\n",
    "        self.python = python\n",
    "        self.java = java\n",
    "        print(\"{} object is created\".format(self.name))\n",
    "   \n",
    "    def average(self):\n",
    "        avg = (self.python + self.java) / 2\n",
    "        return avg\n",
    "    \n",
    "    def py_status(self, PyaddOn):\n",
    "        self.python += PyaddOn\n",
    "        if self.python > 40:\n",
    "            print('Hooray you have passed python subject')\n",
    "        else:\n",
    "             print('Hooray you have not passed python subject')\n",
    "    \n",
    "    def java_status(self, JaaddOn):\n",
    "        self.java += JaaddOn\n",
    "        if self.java > 40:\n",
    "            print('Hooray you have passed java subject')\n",
    "        else:\n",
    "             print('Hooray you have not passed java subject')\n",
    "    def __str__(self):\n",
    "        return \"This class belongs to {}\",format(self.name)\n",
    "    def __del__(self): # destructor\n",
    "        print(\"{} data has deleted\".format(self.name))\n",
    "\n",
    "    @staticmethod  # Decorator\n",
    "    def clgNo():\n",
    "            return 1234567890"
   ]
  },
  {
   "cell_type": "code",
   "execution_count": 156,
   "metadata": {},
   "outputs": [
    {
     "data": {
      "text/plain": [
       "1234567890"
      ]
     },
     "execution_count": 156,
     "metadata": {},
     "output_type": "execute_result"
    }
   ],
   "source": [
    "Student.clgNo()"
   ]
  },
  {
   "cell_type": "code",
   "execution_count": 157,
   "metadata": {},
   "outputs": [],
   "source": [
    "class Student:\n",
    "    \"\"\"This is Blueprint created for student Id card\"\"\"\n",
    "    college = 'APSSDC'\n",
    "    branch = 'Data Science'\n",
    "    collegeAddress = 'Tadepalli, Guntur'\n",
    "    def __init__(self, name, rollNo, mobileNo, python, java): # dendur init, constructor, instance method, initializer\n",
    "        self.name = name\n",
    "        self.rollNo = rollNo\n",
    "        self.mobileNo = mobileNo\n",
    "        self.python = python\n",
    "        self.java = java\n",
    "        print(\"{} object is created\".format(self.name))\n",
    "   \n",
    "    def average(self):\n",
    "        avg = (self.python + self.java) / 2\n",
    "        return avg\n",
    "    \n",
    "    def py_status(self, PyaddOn):\n",
    "        self.python += PyaddOn\n",
    "        if self.python > 40:\n",
    "            print('Hooray you have passed python subject')\n",
    "        else:\n",
    "             print('Hooray you have not passed python subject')\n",
    "    \n",
    "    def java_status(self, JaaddOn):\n",
    "        self.java += JaaddOn\n",
    "        if self.java > 40:\n",
    "            print('Hooray you have passed java subject')\n",
    "        else:\n",
    "             print('Hooray you have not passed java subject')\n",
    "    def __str__(self):\n",
    "        return \"This class belongs to {}\",format(self.name)\n",
    "    def __del__(self): # destructor\n",
    "        print(\"{} data has deleted\".format(self.name))\n",
    "\n",
    "    @staticmethod  # Decorator\n",
    "    def clgNo():\n",
    "            return 1234567890\n",
    "    \n",
    "    @classmethod\n",
    "    def ClgName(cls):\n",
    "        return cls.college"
   ]
  },
  {
   "cell_type": "code",
   "execution_count": 158,
   "metadata": {},
   "outputs": [
    {
     "data": {
      "text/plain": [
       "'APSSDC'"
      ]
     },
     "execution_count": 158,
     "metadata": {},
     "output_type": "execute_result"
    }
   ],
   "source": [
    "Student.ClgName()"
   ]
  },
  {
   "cell_type": "markdown",
   "metadata": {},
   "source": [
    "- Encapsulation\n",
    "- Polymorphism\n",
    "- Inheritance\n",
    "    - Types\n",
    "        - Multi Level\n",
    "        - Hybrid\n",
    "        - Multiple\n",
    "        - Hierarchy\n",
    "    - Operator Overloading\n",
    "    - Method Overloading / Overwriting\n",
    "- Abstraction"
   ]
  },
  {
   "cell_type": "markdown",
   "metadata": {},
   "source": [
    "### Today's Objectives\n",
    "\n",
    "- Iterators\n",
    "- Generators\n",
    "- Object Oriented Programming\n",
    "    - Class\n",
    "    - Object\n",
    "    - Mthod\n",
    "        Instance\n",
    "        static class\n",
    "    - Attribute"
   ]
  },
  {
   "cell_type": "code",
   "execution_count": null,
   "metadata": {},
   "outputs": [],
   "source": []
  }
 ],
 "metadata": {
  "kernelspec": {
   "display_name": "Python 3",
   "language": "python",
   "name": "python3"
  },
  "language_info": {
   "codemirror_mode": {
    "name": "ipython",
    "version": 3
   },
   "file_extension": ".py",
   "mimetype": "text/x-python",
   "name": "python",
   "nbconvert_exporter": "python",
   "pygments_lexer": "ipython3",
   "version": "3.7.3"
  }
 },
 "nbformat": 4,
 "nbformat_minor": 2
}
