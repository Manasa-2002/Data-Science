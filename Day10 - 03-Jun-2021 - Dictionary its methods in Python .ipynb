{
 "cells": [
  {
   "cell_type": "code",
   "execution_count": 1,
   "metadata": {},
   "outputs": [
    {
     "name": "stdout",
     "output_type": "stream",
     "text": [
      "{'123456789': ['APSSDC', 'Vijayawada', '01/01/2000', '9876543210'], '9876543210': ['Python', 'Earth', '01/01/1994', '0123456789'], '1234567890': ['Python', 'Earth', '01/01/1994', '0123456789']}\n"
     ]
    }
   ],
   "source": [
    "d1 = {'123456789':['APSSDC','Vijayawada','01/01/2000','9876543210'],\n",
    "      '9876543210':['Python','Earth','01/01/1994','0123456789'],\n",
    "      '1234567890':['Python','Earth','01/01/1994','0123456789']}\n",
    "\n",
    "print(d1)\n",
    "      "
   ]
  },
  {
   "cell_type": "code",
   "execution_count": null,
   "metadata": {},
   "outputs": [],
   "source": []
  }
 ],
 "metadata": {
  "kernelspec": {
   "display_name": "Python 3",
   "language": "python",
   "name": "python3"
  },
  "language_info": {
   "codemirror_mode": {
    "name": "ipython",
    "version": 3
   },
   "file_extension": ".py",
   "mimetype": "text/x-python",
   "name": "python",
   "nbconvert_exporter": "python",
   "pygments_lexer": "ipython3",
   "version": "3.7.3"
  }
 },
 "nbformat": 4,
 "nbformat_minor": 2
}
