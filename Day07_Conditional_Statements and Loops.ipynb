{
 "cells": [
  {
   "cell_type": "markdown",
   "metadata": {},
   "source": [
    "## Day Objectives\n",
    "- Conditional Statements\n",
    "    - if\n",
    "    - if-else\n",
    "    - if-elif-else\n",
    "- Loops in Python\n",
    "    - For\n",
    "    - While\n",
    "    - for as, while as\n",
    "- Strings\n",
    "    - Declaring a String\n",
    "    - Accessing the Elements from the String\n",
    "    - String Methods"
   ]
  },
  {
   "cell_type": "markdown",
   "metadata": {},
   "source": [
    "### Conditional Statements\n",
    "\n",
    "Controlling the flow of execution\n",
    "\n",
    "\n",
    "### Syntax\n",
    "\n",
    "- if\n",
    "```python\n",
    "if condition:\n",
    "    Block of Code\n",
    "```\n",
    "\n",
    "- if-else\n",
    "```python\n",
    "if condition:\n",
    "    Block of Code\n",
    "else:\n",
    "    Block of Code\n",
    "```\n",
    "\n",
    "- if-elif-else\n",
    "```python\n",
    "if condition:\n",
    "    Block of Code\n",
    "elif condition:\n",
    "    Block of Code\n",
    "else:\n",
    "    Block of Code\n",
    "```"
   ]
  },
  {
   "cell_type": "markdown",
   "metadata": {},
   "source": [
    "### Biggest of 2 numbers"
   ]
  },
  {
   "cell_type": "code",
   "execution_count": 1,
   "metadata": {},
   "outputs": [
    {
     "name": "stdout",
     "output_type": "stream",
     "text": [
      "15 is the biggest number\n"
     ]
    }
   ],
   "source": [
    "a = 5\n",
    "b = 15\n",
    "\n",
    "if (a>b):\n",
    "    print(\"a is bigger\")\n",
    "else:\n",
    "    print(b,\"is the biggest number\")"
   ]
  },
  {
   "cell_type": "code",
   "execution_count": 2,
   "metadata": {},
   "outputs": [
    {
     "name": "stdout",
     "output_type": "stream",
     "text": [
      "15 is the biggest number\n"
     ]
    }
   ],
   "source": [
    "a = 5\n",
    "b = 15\n",
    "\n",
    "if (a>b):\n",
    "    print(\"a is bigger\")\n",
    "else:\n",
    "    print(b,\"is the biggest number\")"
   ]
  },
  {
   "cell_type": "markdown",
   "metadata": {},
   "source": [
    "### Biggest of 3 numbers"
   ]
  },
  {
   "cell_type": "code",
   "execution_count": 3,
   "metadata": {},
   "outputs": [
    {
     "name": "stdout",
     "output_type": "stream",
     "text": [
      "15 is the biggest number\n"
     ]
    }
   ],
   "source": [
    "a = 5\n",
    "b = 15\n",
    "c = 8\n",
    "\n",
    "if (a>b and a>c):\n",
    "    print(a,\"is the biggest number\")\n",
    "elif b>c:\n",
    "    print(b,\"is the biggest number\")\n",
    "else:\n",
    "    print(c,\"is the biggest number\")"
   ]
  },
  {
   "cell_type": "markdown",
   "metadata": {},
   "source": [
    "### Check whether the input number is even or not"
   ]
  },
  {
   "cell_type": "code",
   "execution_count": 18,
   "metadata": {},
   "outputs": [
    {
     "name": "stdout",
     "output_type": "stream",
     "text": [
      "Enter a Number:34\n",
      "34 is the even number\n"
     ]
    }
   ],
   "source": [
    "n=int(input(\"Enter a Number:\"))\n",
    "\n",
    "if (n%2==0):\n",
    "    print(n,\"is the even number\")\n",
    "else:\n",
    "    print(n,\"is not even number\")"
   ]
  },
  {
   "cell_type": "markdown",
   "metadata": {},
   "source": [
    "### Verify given year is leap year or not\n",
    "- Year when divided by 4 leaves remainder 0\n",
    "- Year shouldn't divisible by 100\n",
    "- Didsible by 400\n"
   ]
  },
  {
   "cell_type": "code",
   "execution_count": 19,
   "metadata": {},
   "outputs": [
    {
     "name": "stdout",
     "output_type": "stream",
     "text": [
      "Enter a year: 3453\n",
      "3453 is not a leap year\n"
     ]
    }
   ],
   "source": [
    "year = int(input(\"Enter a year: \"))\n",
    "\n",
    "if (year % 400 == 0) or (year % 4 == 0 and year % 100 != 0):\n",
    "    print(year,\"is a leap year\")\n",
    "else:\n",
    "    print(year, \"is not a leap year\")"
   ]
  },
  {
   "cell_type": "markdown",
   "metadata": {},
   "source": [
    "# Calculator Application\n",
    "\n",
    "- 2 inputs\n",
    "- Arthematic Operation\n"
   ]
  },
  {
   "cell_type": "code",
   "execution_count": 20,
   "metadata": {},
   "outputs": [
    {
     "name": "stdout",
     "output_type": "stream",
     "text": [
      "Enter a number: 34\n",
      "Enter a number: 543\n",
      "What Arthematic I need to Perform: -\n",
      "-509\n",
      "577\n",
      "-509\n",
      "18462\n"
     ]
    }
   ],
   "source": [
    "a = int(input(\"Enter a number: \"))\n",
    "b = int(input(\"Enter a number: \"))\n",
    "arthe = input(\"What Arthematic I need to Perform: \")\n",
    "\n",
    "\n",
    "if arthe == '+':\n",
    "    print(a + b)\n",
    "elif arthe == '-':\n",
    "    print(a - b)\n",
    "elif arthe == '*':\n",
    "    print(a*b)\n",
    "else:\n",
    "    print(\"Given arthematic operation is invalid\")\n",
    "print(a+b)\n",
    "print(a-b)\n",
    "print(a*b)"
   ]
  },
  {
   "cell_type": "markdown",
   "metadata": {},
   "source": [
    "## Loops in Python\n",
    "\n",
    "execute the block of code for multiple times\n",
    "\n",
    "- Initialization\n",
    "- Condition\n",
    "- inc/dec\n",
    "\n",
    "#### Syntax\n",
    "- For Loop -> How many time I need to Execute the loop\n",
    "\n",
    "```python\n",
    "for IterativeVariable in SeqOfData:\n",
    "    Block of Code\n",
    "```\n",
    "- While Loop -> Based on the Condition\n",
    "\n",
    "```python\n",
    "init\n",
    "while condition:\n",
    "    Block of Code\n",
    "    inc/dec\n",
    "```\n",
    "\n",
    "\n",
    "### GroupOfNumber\n",
    "\n",
    "range(init, cond, inc/dec)\n",
    "range(start, stop, step)\n",
    "\n",
    "\n",
    "cond -> required arg\n",
    "init -> 0\n",
    "inc/dec -> +1\n",
    "\n",
    "\n"
   ]
  },
  {
   "cell_type": "code",
   "execution_count": 21,
   "metadata": {},
   "outputs": [
    {
     "name": "stdout",
     "output_type": "stream",
     "text": [
      "1\n",
      "2\n",
      "3\n",
      "4\n"
     ]
    }
   ],
   "source": [
    "print(1)\n",
    "print(2)\n",
    "print(3)\n",
    "print(4)"
   ]
  },
  {
   "cell_type": "markdown",
   "metadata": {},
   "source": [
    "#### Display 1 to 100 numbers to the users\n",
    "\n",
    "11, >101, 1"
   ]
  },
  {
   "cell_type": "code",
   "execution_count": 22,
   "metadata": {},
   "outputs": [
    {
     "name": "stdout",
     "output_type": "stream",
     "text": [
      "1\t2\t3\t4\t5\t6\t7\t8\t9\t10\t11\t12\t13\t14\t15\t16\t17\t18\t19\t20\t21\t22\t23\t24\t25\t26\t27\t28\t29\t30\t31\t32\t33\t34\t35\t36\t37\t38\t39\t40\t41\t42\t43\t44\t45\t46\t47\t48\t49\t50\t51\t52\t53\t54\t55\t56\t57\t58\t59\t60\t61\t62\t63\t64\t65\t66\t67\t68\t69\t70\t71\t72\t73\t74\t75\t76\t77\t78\t79\t80\t81\t82\t83\t84\t85\t86\t87\t88\t89\t90\t91\t92\t93\t94\t95\t96\t97\t98\t99\t"
     ]
    }
   ],
   "source": [
    "for i in range(1,100):\n",
    "    print(i, end='\\t')"
   ]
  },
  {
   "cell_type": "code",
   "execution_count": 9,
   "metadata": {},
   "outputs": [
    {
     "name": "stdout",
     "output_type": "stream",
     "text": [
      "1\t2\t3\t4\t5\t6\t7\t8\t9\t10\t11\t12\t13\t14\t15\t16\t17\t18\t19\t20\t21\t22\t23\t24\t25\t26\t27\t28\t29\t30\t31\t32\t33\t34\t35\t36\t37\t38\t39\t40\t41\t42\t43\t44\t45\t46\t47\t48\t49\t50\t51\t52\t53\t54\t55\t56\t57\t58\t59\t60\t61\t62\t63\t64\t65\t66\t67\t68\t69\t70\t71\t72\t73\t74\t75\t76\t77\t78\t79\t80\t81\t82\t83\t84\t85\t86\t87\t88\t89\t90\t91\t92\t93\t94\t95\t96\t97\t98\t99\t100\t"
     ]
    }
   ],
   "source": [
    "for i in range(1, 101, 1):\n",
    "    print(i, end='\\t')"
   ]
  },
  {
   "cell_type": "code",
   "execution_count": 23,
   "metadata": {},
   "outputs": [
    {
     "name": "stdout",
     "output_type": "stream",
     "text": [
      "0\t1\t2\t3\t4\t5\t6\t7\t8\t9\t10\t11\t12\t13\t14\t15\t16\t17\t18\t19\t20\t21\t22\t23\t24\t25\t26\t27\t28\t29\t30\t31\t32\t33\t34\t35\t36\t37\t38\t39\t40\t41\t42\t43\t44\t45\t46\t47\t48\t49\t50\t51\t52\t53\t54\t55\t56\t57\t58\t59\t60\t61\t62\t63\t64\t65\t66\t67\t68\t69\t70\t71\t72\t73\t74\t75\t76\t77\t78\t79\t80\t81\t82\t83\t84\t85\t86\t87\t88\t89\t90\t91\t92\t93\t94\t95\t96\t97\t98\t99\t100\t"
     ]
    }
   ],
   "source": [
    "for i in range(101):\n",
    "    print(i, end='\\t')"
   ]
  },
  {
   "cell_type": "code",
   "execution_count": 24,
   "metadata": {},
   "outputs": [
    {
     "name": "stdout",
     "output_type": "stream",
     "text": [
      "1\t3\t5\t7\t9\t11\t13\t15\t17\t19\t21\t23\t25\t27\t29\t31\t33\t35\t37\t39\t41\t43\t45\t47\t49\t51\t53\t55\t57\t59\t61\t63\t65\t67\t69\t71\t73\t75\t77\t79\t81\t83\t85\t87\t89\t91\t93\t95\t97\t99\t"
     ]
    }
   ],
   "source": [
    "for i in range(1, 101, 2):\n",
    "    print(i, end='\\t')"
   ]
  },
  {
   "cell_type": "markdown",
   "metadata": {},
   "source": [
    "### Even numbers from 1 to 1000"
   ]
  },
  {
   "cell_type": "code",
   "execution_count": 12,
   "metadata": {},
   "outputs": [
    {
     "name": "stdout",
     "output_type": "stream",
     "text": [
      "2\t4\t6\t8\t10\t12\t14\t16\t18\t20\t22\t24\t26\t28\t30\t32\t34\t36\t38\t40\t42\t44\t46\t48\t50\t52\t54\t56\t58\t60\t62\t64\t66\t68\t70\t72\t74\t76\t78\t80\t82\t84\t86\t88\t90\t92\t94\t96\t98\t100\t102\t104\t106\t108\t110\t112\t114\t116\t118\t120\t122\t124\t126\t128\t130\t132\t134\t136\t138\t140\t142\t144\t146\t148\t150\t152\t154\t156\t158\t160\t162\t164\t166\t168\t170\t172\t174\t176\t178\t180\t182\t184\t186\t188\t190\t192\t194\t196\t198\t200\t202\t204\t206\t208\t210\t212\t214\t216\t218\t220\t222\t224\t226\t228\t230\t232\t234\t236\t238\t240\t242\t244\t246\t248\t250\t252\t254\t256\t258\t260\t262\t264\t266\t268\t270\t272\t274\t276\t278\t280\t282\t284\t286\t288\t290\t292\t294\t296\t298\t300\t302\t304\t306\t308\t310\t312\t314\t316\t318\t320\t322\t324\t326\t328\t330\t332\t334\t336\t338\t340\t342\t344\t346\t348\t350\t352\t354\t356\t358\t360\t362\t364\t366\t368\t370\t372\t374\t376\t378\t380\t382\t384\t386\t388\t390\t392\t394\t396\t398\t400\t402\t404\t406\t408\t410\t412\t414\t416\t418\t420\t422\t424\t426\t428\t430\t432\t434\t436\t438\t440\t442\t444\t446\t448\t450\t452\t454\t456\t458\t460\t462\t464\t466\t468\t470\t472\t474\t476\t478\t480\t482\t484\t486\t488\t490\t492\t494\t496\t498\t500\t502\t504\t506\t508\t510\t512\t514\t516\t518\t520\t522\t524\t526\t528\t530\t532\t534\t536\t538\t540\t542\t544\t546\t548\t550\t552\t554\t556\t558\t560\t562\t564\t566\t568\t570\t572\t574\t576\t578\t580\t582\t584\t586\t588\t590\t592\t594\t596\t598\t600\t602\t604\t606\t608\t610\t612\t614\t616\t618\t620\t622\t624\t626\t628\t630\t632\t634\t636\t638\t640\t642\t644\t646\t648\t650\t652\t654\t656\t658\t660\t662\t664\t666\t668\t670\t672\t674\t676\t678\t680\t682\t684\t686\t688\t690\t692\t694\t696\t698\t700\t702\t704\t706\t708\t710\t712\t714\t716\t718\t720\t722\t724\t726\t728\t730\t732\t734\t736\t738\t740\t742\t744\t746\t748\t750\t752\t754\t756\t758\t760\t762\t764\t766\t768\t770\t772\t774\t776\t778\t780\t782\t784\t786\t788\t790\t792\t794\t796\t798\t800\t802\t804\t806\t808\t810\t812\t814\t816\t818\t820\t822\t824\t826\t828\t830\t832\t834\t836\t838\t840\t842\t844\t846\t848\t850\t852\t854\t856\t858\t860\t862\t864\t866\t868\t870\t872\t874\t876\t878\t880\t882\t884\t886\t888\t890\t892\t894\t896\t898\t900\t902\t904\t906\t908\t910\t912\t914\t916\t918\t920\t922\t924\t926\t928\t930\t932\t934\t936\t938\t940\t942\t944\t946\t948\t950\t952\t954\t956\t958\t960\t962\t964\t966\t968\t970\t972\t974\t976\t978\t980\t982\t984\t986\t988\t990\t992\t994\t996\t998\t1000\t"
     ]
    }
   ],
   "source": [
    "for num in range(1, 1001, 1):\n",
    "    if num%2==0:\n",
    "        print(num, end = '\\t')"
   ]
  },
  {
   "cell_type": "markdown",
   "metadata": {},
   "source": [
    "1. Get the leapYear between the given range\n",
    "    - Starting range ending range is given as input\n",
    "2. Get the prime numbers between the given range\n",
    "3. Get n number of Fibonacci Series "
   ]
  },
  {
   "cell_type": "code",
   "execution_count": null,
   "metadata": {},
   "outputs": [],
   "source": [
    "y1 = int(input(\"Enter y1\"))"
   ]
  },
  {
   "cell_type": "markdown",
   "metadata": {},
   "source": [
    "### While Loop"
   ]
  },
  {
   "cell_type": "code",
   "execution_count": 25,
   "metadata": {},
   "outputs": [
    {
     "name": "stdout",
     "output_type": "stream",
     "text": [
      "1\t2\t3\t4\t5\t6\t7\t8\t9\t10\t11\t12\t13\t14\t15\t16\t17\t18\t19\t20\t21\t22\t23\t24\t25\t26\t27\t28\t29\t30\t31\t32\t33\t34\t35\t36\t37\t38\t39\t40\t41\t42\t43\t44\t45\t46\t47\t48\t49\t50\t51\t52\t53\t54\t55\t56\t57\t58\t59\t60\t61\t62\t63\t64\t65\t66\t67\t68\t69\t70\t71\t72\t73\t74\t75\t76\t77\t78\t79\t80\t81\t82\t83\t84\t85\t86\t87\t88\t89\t90\t91\t92\t93\t94\t95\t96\t97\t98\t99\t100\t"
     ]
    }
   ],
   "source": [
    "i = 1\n",
    "while(i<101):\n",
    "    print(i, end='\\t')\n",
    "    i += 1"
   ]
  },
  {
   "cell_type": "markdown",
   "metadata": {},
   "source": [
    "- Break : To terminate the execution of the loop\n",
    "- Continue: Skip the current execution of the loop"
   ]
  },
  {
   "cell_type": "code",
   "execution_count": 26,
   "metadata": {},
   "outputs": [
    {
     "name": "stdout",
     "output_type": "stream",
     "text": [
      "1\t2\t3\t4\t5\t6\t7\t8\t9\t10\t11\t12\t13\t14\t15\t16\t17\t18\t19\t20\t21\t22\t23\t24\t25\t26\t27\t28\t29\t30\t31\t32\t33\t34\t35\t36\t37\t38\t39\t40\t41\t42\t43\t44\t45\t46\t47\t48\t49\t"
     ]
    }
   ],
   "source": [
    "for travel in range(1, 101, 1):\n",
    "    if travel == 50:\n",
    "        break\n",
    "    print(travel, end = '\\t')"
   ]
  },
  {
   "cell_type": "code",
   "execution_count": 15,
   "metadata": {},
   "outputs": [
    {
     "name": "stdout",
     "output_type": "stream",
     "text": [
      "1\t3\t5\t7\t9\t11\t13\t15\t17\t19\t21\t23\t25\t27\t29\t31\t33\t35\t37\t39\t41\t43\t45\t47\t49\t"
     ]
    }
   ],
   "source": [
    "for travel in range(1, 101, 1):\n",
    "    if travel == 50:\n",
    "        break\n",
    "    elif travel % 2 == 0:\n",
    "        continue\n",
    "    print(travel, end = '\\t')"
   ]
  },
  {
   "cell_type": "code",
   "execution_count": 27,
   "metadata": {},
   "outputs": [
    {
     "name": "stdout",
     "output_type": "stream",
     "text": [
      "cancel\n",
      "Loop Terminated\n"
     ]
    }
   ],
   "source": [
    "while True:\n",
    "    inp = input()\n",
    "    if inp == \"cancel\":\n",
    "        print(\"Loop Terminated\")\n",
    "        break\n",
    "    print(inp)"
   ]
  },
  {
   "cell_type": "markdown",
   "metadata": {},
   "source": [
    "### Strings\n",
    "\n",
    "It is a group of data enclosed between \"\", '',, \"\"\"\"\"\", '''''' are called strings in python\n",
    "\n",
    "### Properties of Strings\n",
    "\n",
    "- It is imutable data type\n",
    "- It is iterable"
   ]
  },
  {
   "cell_type": "code",
   "execution_count": 28,
   "metadata": {},
   "outputs": [],
   "source": [
    "s = 'I am a string'\n",
    "s2 = \"I am also a string\"\n",
    "s3 = '''I'm \n",
    "a \n",
    "multi \n",
    "line \n",
    "string'''"
   ]
  },
  {
   "cell_type": "code",
   "execution_count": 29,
   "metadata": {},
   "outputs": [
    {
     "name": "stdout",
     "output_type": "stream",
     "text": [
      "<class 'str'> <class 'str'>\n"
     ]
    }
   ],
   "source": [
    "print(type(s), type(s3))"
   ]
  },
  {
   "cell_type": "code",
   "execution_count": 30,
   "metadata": {},
   "outputs": [
    {
     "name": "stdout",
     "output_type": "stream",
     "text": [
      "I\t'\tm\t \t\n",
      "\ta\t \t\n",
      "\tm\tu\tl\tt\ti\t \t\n",
      "\tl\ti\tn\te\t \t\n",
      "\ts\tt\tr\ti\tn\tg\t"
     ]
    }
   ],
   "source": [
    "for char in s3:\n",
    "    print(char, end = '\\t')"
   ]
  },
  {
   "cell_type": "code",
   "execution_count": 32,
   "metadata": {},
   "outputs": [],
   "source": [
    "s = '''Running is very good for humans in many different ways.  It is a great way to get exercise, and a great way to meet new people.  There are many positives, and some negatives, it is easy, enjoyable and makes humans more social, you can do it at anytime, and it relieves stress rather than give stress.  Although there are some negatives with running, there are also many positives.  Many people run because of the health reasons.  It is good for the heart and lungs and people run in the fresh air.  Running outside rather than inside is good for you too because of the fresh air.  Running also relieves tension, by running, people can think about their problems without having to worry about anyone hearing them.  They can think about whatever…show more content…\n",
    "There can also be too much competition which happens when there are people competing for a prize.  People can also get discouraged when running because some are doing it to lose weight and some do not lose weight.  People can also “hit the wall” when running which happens when a person overdoes their exercise and can be physically harmed.  Although there are some negatives, there are more positives to running. Running is easy, enjoyable and is very social.  Many people see running as a good place to meet new people and enjoyable to do, it is also one of the easiest ways to exercise.   Running can be very fun, it is easy because you need no experience to run.  Training for races is also fun it can be done by men and women, girls and boys at any age.  You can meet new people who can be very social able, you can meet new people by either running by yourself or with a friend or spouse.  People of all sizes and races and ages can run it is a great way to meet new people and a great way to exercise. Running is a great way to exercise and you could do it anytime and anywhere.  People can run either on streets or on paths, but paths are a bit more ideal.  Running is more ideal to do on hard surfaces, but is better exercise if you do it on uneven ground'''"
   ]
  },
  {
   "cell_type": "code",
   "execution_count": 35,
   "metadata": {},
   "outputs": [
    {
     "name": "stdout",
     "output_type": "stream",
     "text": [
      "Running is very good for humans in many different ways.  It is a great way to get exercise, and a great way to meet new people.  There are many positives, and some negatives, it is easy, enjoyable and makes humans more social, you can do it at anytime, and it relieves stress rather than give stress.  Although there are some negatives with running, there are also many positives.  Many people run because of the health reasons.  It is good for the heart and lungs and people run in the fresh air.  Running outside rather than inside is good for you too because of the fresh air.  Running also relieves tension, by running, people can think about their problems without having to worry about anyone hearing them.  They can think about whatever…show more content…\n",
      "There can also be too much competition which happens when there are people competing for a prize.  People can also get discouraged when running because some are doing it to lose weight and some do not lose weight.  People can also “hit the wall” when running which happens when a person overdoes their exercise and can be physically harmed.  Although there are some negatives, there are more positives to running. Running is easy, enjoyable and is very social.  Many people see running as a good place to meet new people and enjoyable to do, it is also one of the easiest ways to exercise.   Running can be very fun, it is easy because you need no experience to run.  Training for races is also fun it can be done by men and women, girls and boys at any age.  You can meet new people who can be very social able, you can meet new people by either running by yourself or with a friend or spouse.  People of all sizes and races and ages can run it is a great way to meet new people and a great way to exercise. Running is a great way to exercise and you could do it anytime and anywhere.  People can run either on streets or on paths, but paths are a bit more ideal.  Running is more ideal to do on hard surfaces, but is better exercise if you do it on uneven ground\n"
     ]
    }
   ],
   "source": [
    "print(s)"
   ]
  },
  {
   "cell_type": "code",
   "execution_count": 33,
   "metadata": {},
   "outputs": [
    {
     "name": "stdout",
     "output_type": "stream",
     "text": [
      "R\tu\tn\tn\ti\tn\tg\t \ti\ts\t \tv\te\tr\ty\t \tg\to\to\td\t \tf\to\tr\t \th\tu\tm\ta\tn\ts\t \ti\tn\t \tm\ta\tn\ty\t \td\ti\tf\tf\te\tr\te\tn\tt\t \tw\ta\ty\ts\t.\t \t \tI\tt\t \ti\ts\t \ta\t \tg\tr\te\ta\tt\t \tw\ta\ty\t \tt\to\t \tg\te\tt\t \te\tx\te\tr\tc\ti\ts\te\t,\t \ta\tn\td\t \ta\t \tg\tr\te\ta\tt\t \tw\ta\ty\t \tt\to\t \tm\te\te\tt\t \tn\te\tw\t \tp\te\to\tp\tl\te\t.\t \t \tT\th\te\tr\te\t \ta\tr\te\t \tm\ta\tn\ty\t \tp\to\ts\ti\tt\ti\tv\te\ts\t,\t \ta\tn\td\t \ts\to\tm\te\t \tn\te\tg\ta\tt\ti\tv\te\ts\t,\t \ti\tt\t \ti\ts\t \te\ta\ts\ty\t,\t \te\tn\tj\to\ty\ta\tb\tl\te\t \ta\tn\td\t \tm\ta\tk\te\ts\t \th\tu\tm\ta\tn\ts\t \tm\to\tr\te\t \ts\to\tc\ti\ta\tl\t,\t \ty\to\tu\t \tc\ta\tn\t \td\to\t \ti\tt\t \ta\tt\t \ta\tn\ty\tt\ti\tm\te\t,\t \ta\tn\td\t \ti\tt\t \tr\te\tl\ti\te\tv\te\ts\t \ts\tt\tr\te\ts\ts\t \tr\ta\tt\th\te\tr\t \tt\th\ta\tn\t \tg\ti\tv\te\t \ts\tt\tr\te\ts\ts\t.\t \t \tA\tl\tt\th\to\tu\tg\th\t \tt\th\te\tr\te\t \ta\tr\te\t \ts\to\tm\te\t \tn\te\tg\ta\tt\ti\tv\te\ts\t \tw\ti\tt\th\t \tr\tu\tn\tn\ti\tn\tg\t,\t \tt\th\te\tr\te\t \ta\tr\te\t \ta\tl\ts\to\t \tm\ta\tn\ty\t \tp\to\ts\ti\tt\ti\tv\te\ts\t.\t \t \tM\ta\tn\ty\t \tp\te\to\tp\tl\te\t \tr\tu\tn\t \tb\te\tc\ta\tu\ts\te\t \to\tf\t \tt\th\te\t \th\te\ta\tl\tt\th\t \tr\te\ta\ts\to\tn\ts\t.\t \t \tI\tt\t \ti\ts\t \tg\to\to\td\t \tf\to\tr\t \tt\th\te\t \th\te\ta\tr\tt\t \ta\tn\td\t \tl\tu\tn\tg\ts\t \ta\tn\td\t \tp\te\to\tp\tl\te\t \tr\tu\tn\t \ti\tn\t \tt\th\te\t \tf\tr\te\ts\th\t \ta\ti\tr\t.\t \t \tR\tu\tn\tn\ti\tn\tg\t \to\tu\tt\ts\ti\td\te\t \tr\ta\tt\th\te\tr\t \tt\th\ta\tn\t \ti\tn\ts\ti\td\te\t \ti\ts\t \tg\to\to\td\t \tf\to\tr\t \ty\to\tu\t \tt\to\to\t \tb\te\tc\ta\tu\ts\te\t \to\tf\t \tt\th\te\t \tf\tr\te\ts\th\t \ta\ti\tr\t.\t \t \tR\tu\tn\tn\ti\tn\tg\t \ta\tl\ts\to\t \tr\te\tl\ti\te\tv\te\ts\t \tt\te\tn\ts\ti\to\tn\t,\t \tb\ty\t \tr\tu\tn\tn\ti\tn\tg\t,\t \tp\te\to\tp\tl\te\t \tc\ta\tn\t \tt\th\ti\tn\tk\t \ta\tb\to\tu\tt\t \tt\th\te\ti\tr\t \tp\tr\to\tb\tl\te\tm\ts\t \tw\ti\tt\th\to\tu\tt\t \th\ta\tv\ti\tn\tg\t \tt\to\t \tw\to\tr\tr\ty\t \ta\tb\to\tu\tt\t \ta\tn\ty\to\tn\te\t \th\te\ta\tr\ti\tn\tg\t \tt\th\te\tm\t.\t \t \tT\th\te\ty\t \tc\ta\tn\t \tt\th\ti\tn\tk\t \ta\tb\to\tu\tt\t \tw\th\ta\tt\te\tv\te\tr\t…\ts\th\to\tw\t \tm\to\tr\te\t \tc\to\tn\tt\te\tn\tt\t…\t\n",
      "\tT\th\te\tr\te\t \tc\ta\tn\t \ta\tl\ts\to\t \tb\te\t \tt\to\to\t \tm\tu\tc\th\t \tc\to\tm\tp\te\tt\ti\tt\ti\to\tn\t \tw\th\ti\tc\th\t \th\ta\tp\tp\te\tn\ts\t \tw\th\te\tn\t \tt\th\te\tr\te\t \ta\tr\te\t \tp\te\to\tp\tl\te\t \tc\to\tm\tp\te\tt\ti\tn\tg\t \tf\to\tr\t \ta\t \tp\tr\ti\tz\te\t.\t \t \tP\te\to\tp\tl\te\t \tc\ta\tn\t \ta\tl\ts\to\t \tg\te\tt\t \td\ti\ts\tc\to\tu\tr\ta\tg\te\td\t \tw\th\te\tn\t \tr\tu\tn\tn\ti\tn\tg\t \tb\te\tc\ta\tu\ts\te\t \ts\to\tm\te\t \ta\tr\te\t \td\to\ti\tn\tg\t \ti\tt\t \tt\to\t \tl\to\ts\te\t \tw\te\ti\tg\th\tt\t \ta\tn\td\t \ts\to\tm\te\t \td\to\t \tn\to\tt\t \tl\to\ts\te\t \tw\te\ti\tg\th\tt\t.\t \t \tP\te\to\tp\tl\te\t \tc\ta\tn\t \ta\tl\ts\to\t \t“\th\ti\tt\t \tt\th\te\t \tw\ta\tl\tl\t”\t \tw\th\te\tn\t \tr\tu\tn\tn\ti\tn\tg\t \tw\th\ti\tc\th\t \th\ta\tp\tp\te\tn\ts\t \tw\th\te\tn\t \ta\t \tp\te\tr\ts\to\tn\t \to\tv\te\tr\td\to\te\ts\t \tt\th\te\ti\tr\t \te\tx\te\tr\tc\ti\ts\te\t \ta\tn\td\t \tc\ta\tn\t \tb\te\t \tp\th\ty\ts\ti\tc\ta\tl\tl\ty\t \th\ta\tr\tm\te\td\t.\t \t \tA\tl\tt\th\to\tu\tg\th\t \tt\th\te\tr\te\t \ta\tr\te\t \ts\to\tm\te\t \tn\te\tg\ta\tt\ti\tv\te\ts\t,\t \tt\th\te\tr\te\t \ta\tr\te\t \tm\to\tr\te\t \tp\to\ts\ti\tt\ti\tv\te\ts\t \tt\to\t \tr\tu\tn\tn\ti\tn\tg\t.\t \tR\tu\tn\tn\ti\tn\tg\t \ti\ts\t \te\ta\ts\ty\t,\t \te\tn\tj\to\ty\ta\tb\tl\te\t \ta\tn\td\t \ti\ts\t \tv\te\tr\ty\t \ts\to\tc\ti\ta\tl\t.\t \t \tM\ta\tn\ty\t \tp\te\to\tp\tl\te\t \ts\te\te\t \tr\tu\tn\tn\ti\tn\tg\t \ta\ts\t \ta\t \tg\to\to\td\t \tp\tl\ta\tc\te\t \tt\to\t \tm\te\te\tt\t \tn\te\tw\t \tp\te\to\tp\tl\te\t \ta\tn\td\t \te\tn\tj\to\ty\ta\tb\tl\te\t \tt\to\t \td\to\t,\t \ti\tt\t \ti\ts\t \ta\tl\ts\to\t \to\tn\te\t \to\tf\t \tt\th\te\t \te\ta\ts\ti\te\ts\tt\t \tw\ta\ty\ts\t \tt\to\t \te\tx\te\tr\tc\ti\ts\te\t.\t \t \t \tR\tu\tn\tn\ti\tn\tg\t \tc\ta\tn\t \tb\te\t \tv\te\tr\ty\t \tf\tu\tn\t,\t \ti\tt\t \ti\ts\t \te\ta\ts\ty\t \tb\te\tc\ta\tu\ts\te\t \ty\to\tu\t \tn\te\te\td\t \tn\to\t \te\tx\tp\te\tr\ti\te\tn\tc\te\t \tt\to\t \tr\tu\tn\t.\t \t \tT\tr\ta\ti\tn\ti\tn\tg\t \tf\to\tr\t \tr\ta\tc\te\ts\t \ti\ts\t \ta\tl\ts\to\t \tf\tu\tn\t \ti\tt\t \tc\ta\tn\t \tb\te\t \td\to\tn\te\t \tb\ty\t \tm\te\tn\t \ta\tn\td\t \tw\to\tm\te\tn\t,\t \tg\ti\tr\tl\ts\t \ta\tn\td\t \tb\to\ty\ts\t \ta\tt\t \ta\tn\ty\t \ta\tg\te\t.\t \t \tY\to\tu\t \tc\ta\tn\t \tm\te\te\tt\t \tn\te\tw\t \tp\te\to\tp\tl\te\t \tw\th\to\t \tc\ta\tn\t \tb\te\t \tv\te\tr\ty\t \ts\to\tc\ti\ta\tl\t \ta\tb\tl\te\t,\t \ty\to\tu\t \tc\ta\tn\t \tm\te\te\tt\t \tn\te\tw\t \tp\te\to\tp\tl\te\t \tb\ty\t \te\ti\tt\th\te\tr\t \tr\tu\tn\tn\ti\tn\tg\t \tb\ty\t \ty\to\tu\tr\ts\te\tl\tf\t \to\tr\t \tw\ti\tt\th\t \ta\t \tf\tr\ti\te\tn\td\t \to\tr\t \ts\tp\to\tu\ts\te\t.\t \t \tP\te\to\tp\tl\te\t \to\tf\t \ta\tl\tl\t \ts\ti\tz\te\ts\t \ta\tn\td\t \tr\ta\tc\te\ts\t \ta\tn\td\t \ta\tg\te\ts\t \tc\ta\tn\t \tr\tu\tn\t \ti\tt\t \ti\ts\t \ta\t \tg\tr\te\ta\tt\t \tw\ta\ty\t \tt\to\t \tm\te\te\tt\t \tn\te\tw\t \tp\te\to\tp\tl\te\t \ta\tn\td\t \ta\t \tg\tr\te\ta\tt\t \tw\ta\ty\t \tt\to\t \te\tx\te\tr\tc\ti\ts\te\t.\t \tR\tu\tn\tn\ti\tn\tg\t \ti\ts\t \ta\t \tg\tr\te\ta\tt\t \tw\ta\ty\t \tt\to\t \te\tx\te\tr\tc\ti\ts\te\t \ta\tn\td\t \ty\to\tu\t \tc\to\tu\tl\td\t \td\to\t \ti\tt\t \ta\tn\ty\tt\ti\tm\te\t \ta\tn\td\t \ta\tn\ty\tw\th\te\tr\te\t.\t \t \tP\te\to\tp\tl\te\t \tc\ta\tn\t \tr\tu\tn\t \te\ti\tt\th\te\tr\t \to\tn\t \ts\tt\tr\te\te\tt\ts\t \to\tr\t \to\tn\t \tp\ta\tt\th\ts\t,\t \tb\tu\tt\t \tp\ta\tt\th\ts\t \ta\tr\te\t \ta\t \tb\ti\tt\t \tm\to\tr\te\t \ti\td\te\ta\tl\t.\t \t \tR\tu\tn\tn\ti\tn\tg\t \ti\ts\t \tm\to\tr\te\t \ti\td\te\ta\tl\t \tt\to\t \td\to\t \to\tn\t \th\ta\tr\td\t \ts\tu\tr\tf\ta\tc\te\ts\t,\t \tb\tu\tt\t \ti\ts\t \tb\te\tt\tt\te\tr\t \te\tx\te\tr\tc\ti\ts\te\t \ti\tf\t \ty\to\tu\t \td\to\t \ti\tt\t \to\tn\t \tu\tn\te\tv\te\tn\t \tg\tr\to\tu\tn\td\t"
     ]
    }
   ],
   "source": [
    "for char in s:\n",
    "    print(char, end = '\\t')"
   ]
  },
  {
   "cell_type": "code",
   "execution_count": 36,
   "metadata": {},
   "outputs": [
    {
     "name": "stdout",
     "output_type": "stream",
     "text": [
      "u i i e o o o u a i a i e e a i a e a a o e e e i e a a e a a o e e e e o e e e a e a o i i e a o e e a i e i i e a e o a e a a e u a o e o i a o u a o i a a i e a i e i e e e a e a i e e o u e e a e o e e a i e i u i e e a e a o a o i i e a e o e u e a u e o e e a e a o i o o o e e a a u a e o e u i e e a i u i o u i e a e a i i e i o o o o u o o e a u e o e e a i u i a o e i e e e i o u i e o e a i a o u e i o e i o u a i o o a o u a o e e a i e e a i a o u a e e o o e o e e e a a o e o o u o e i i o i a e e e e a e e o e o e i o a i e e o e a a o e i o u a e e u i e a u e o e a e o i i o o e e i a o e o o o e e i e o e a a o i e a e u i i a e e a e o o e o e e i e e i e a a e i a a e o u e e a e o e e a i e e e a e o e o i i e o u i u i i e a e o a e a i e o i a a e o e e e u i a a o o a e o e e e e o e a e o a e o o i i a o o e o e e a i e a o e e i e u i a e e u i i e a e a u e o u e e o e e i e e o u a i i o a e i a o u i a e o e e a o e i a o a a a e o u a e e e e o e o a e e o i a a e o u a e e e e o e e i e u i o u e o i a i e o o u e e o e o a i e a a e a a e a u i i a e a a o e e e e o e a a e a a o e e i e u i i a e a a o e e i e a o u o u o i a i e a a e e e o e a u e i e o e e o o a u a a e a i o e i e a u i i o e i e a o o o a u a e u i e e e e i e i o u o i o u e e o u "
     ]
    }
   ],
   "source": [
    "for char in s:\n",
    "    if(char == 'a' or char == 'e' or char == 'i' or char == 'o' or char =='u'):\n",
    "        print(char,end=' ')\n"
   ]
  },
  {
   "cell_type": "code",
   "execution_count": 40,
   "metadata": {},
   "outputs": [
    {
     "name": "stdout",
     "output_type": "stream",
     "text": [
      "4 Upper Case Ovals 653 Lower 1370 Constants\n"
     ]
    }
   ],
   "source": [
    "lo = 0\n",
    "uo = 0\n",
    "c = 0\n",
    "for char in s:\n",
    "    if char in 'aeiou':\n",
    "        lo += 1\n",
    "    elif char in 'AEIOU':  \n",
    "        uo += 1\n",
    "    else:\n",
    "        c += 1\n",
    "print(uo,\"Upper Case Ovals\", lo , \"Lower\", c, \"Constants\")"
   ]
  },
  {
   "cell_type": "markdown",
   "metadata": {},
   "source": [
    "### Accessing the characters from the string\n",
    "\n",
    "\n",
    "- Indexing\n",
    "    - +ve/Forward\n",
    "    - -ve/Reverse\n",
    "- Slicing\n",
    "    - +ve/Forward\n",
    "    - -ve/Reverse\n"
   ]
  },
  {
   "cell_type": "code",
   "execution_count": 41,
   "metadata": {},
   "outputs": [
    {
     "name": "stdout",
     "output_type": "stream",
     "text": [
      "Running is very good for humans in many different ways.  It is a great way to get exercise, and a great way to meet new people.  There are many positives, and some negatives, it is easy, enjoyable and makes humans more social, you can do it at anytime, and it relieves stress rather than give stress.  Although there are some negatives with running, there are also many positives.  Many people run because of the health reasons.  It is good for the heart and lungs and people run in the fresh air.  Running outside rather than inside is good for you too because of the fresh air.  Running also relieves tension, by running, people can think about their problems without having to worry about anyone hearing them.  They can think about whatever…show more content…\n",
      "There can also be too much competition which happens when there are people competing for a prize.  People can also get discouraged when running because some are doing it to lose weight and some do not lose weight.  People can also “hit the wall” when running which happens when a person overdoes their exercise and can be physically harmed.  Although there are some negatives, there are more positives to running. Running is easy, enjoyable and is very social.  Many people see running as a good place to meet new people and enjoyable to do, it is also one of the easiest ways to exercise.   Running can be very fun, it is easy because you need no experience to run.  Training for races is also fun it can be done by men and women, girls and boys at any age.  You can meet new people who can be very social able, you can meet new people by either running by yourself or with a friend or spouse.  People of all sizes and races and ages can run it is a great way to meet new people and a great way to exercise. Running is a great way to exercise and you could do it anytime and anywhere.  People can run either on streets or on paths, but paths are a bit more ideal.  Running is more ideal to do on hard surfaces, but is better exercise if you do it on uneven ground\n"
     ]
    }
   ],
   "source": [
    "print(s)"
   ]
  },
  {
   "cell_type": "code",
   "execution_count": 42,
   "metadata": {},
   "outputs": [
    {
     "name": "stdout",
     "output_type": "stream",
     "text": [
      "R\n"
     ]
    }
   ],
   "source": [
    "print(s[0])"
   ]
  },
  {
   "cell_type": "code",
   "execution_count": 43,
   "metadata": {},
   "outputs": [
    {
     "name": "stdout",
     "output_type": "stream",
     "text": [
      "i\n"
     ]
    }
   ],
   "source": [
    "print(s[4])"
   ]
  },
  {
   "cell_type": "code",
   "execution_count": 44,
   "metadata": {},
   "outputs": [
    {
     "name": "stdout",
     "output_type": "stream",
     "text": [
      "d\n"
     ]
    }
   ],
   "source": [
    "print(s[-1])"
   ]
  },
  {
   "cell_type": "code",
   "execution_count": 45,
   "metadata": {},
   "outputs": [
    {
     "name": "stdout",
     "output_type": "stream",
     "text": [
      "r\n"
     ]
    }
   ],
   "source": [
    "print(s[-5])"
   ]
  },
  {
   "cell_type": "code",
   "execution_count": null,
   "metadata": {},
   "outputs": [],
   "source": []
  }
 ],
 "metadata": {
  "kernelspec": {
   "display_name": "Python 3",
   "language": "python",
   "name": "python3"
  },
  "language_info": {
   "codemirror_mode": {
    "name": "ipython",
    "version": 3
   },
   "file_extension": ".py",
   "mimetype": "text/x-python",
   "name": "python",
   "nbconvert_exporter": "python",
   "pygments_lexer": "ipython3",
   "version": "3.7.3"
  }
 },
 "nbformat": 4,
 "nbformat_minor": 2
}
