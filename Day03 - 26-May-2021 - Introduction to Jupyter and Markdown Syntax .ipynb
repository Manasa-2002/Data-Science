{
 "cells": [
  {
   "cell_type": "markdown",
   "metadata": {},
   "source": [
    "# Markdown Syntax\n",
    "\n",
    "## Heading2\n",
    "### Heading3\n",
    "\n",
    "\n",
    "\n",
    "<h1>Markdown Synatx"
   ]
  },
  {
   "cell_type": "markdown",
   "metadata": {},
   "source": [
    "# Markdown Syntax\n",
    "\n",
    "## Heading2\n",
    "### Heading3\n",
    "\n",
    "\n",
    "\n",
    "<h1>Markdown Synatx"
   ]
  },
  {
   "cell_type": "markdown",
   "metadata": {},
   "source": [
    "## Shortcuts for jupyter notebook\n",
    "\n",
    "1. ShiftEnter -> For Executing the Current Cell\n",
    "2. EscA -> For inserting new cell above the current cell\n",
    "3. EscB -> For inserting new cell below the current cell\n",
    "4. ESCM -> Converting Code Cell to the Markdown Cell\n",
    "5. ESCY -> Converting Markdown cell to the code cell\n",
    "6. ESCDD -> Delete the Curent Cell\n",
    "7. ESCL -> for Toggling the Current Cell line Number\n",
    "8. ctrl+S -> Saving the Notebook"
   ]
  },
  {
   "cell_type": "markdown",
   "metadata": {},
   "source": [
    "## Shortcuts for jupyter notebook\n",
    "\n",
    "1. ShiftEnter -> For Executing the Current Cell\n",
    "2. EscA -> For inserting new cell above the current cell\n",
    "3. EscB -> For inserting new cell below the current cell\n",
    "4. ESCM -> Converting Code Cell to the Markdown Cell\n",
    "5. ESCY -> Converting Markdown cell to the code cell\n",
    "6. ESCDD -> Delete the Curent Cell\n",
    "7. ESCL -> for Toggling the Current Cell line Number\n",
    "8. ctrl+S -> Saving the Notebook"
   ]
  },
  {
   "cell_type": "markdown",
   "metadata": {},
   "source": [
    "- Python is ease to learn\n",
    "- Python is easy to write\n",
    "* Python is open source\n",
    "+ Python is high level Programming language\n",
    "    - High level means user understandable language\n",
    "      * Which is in english\n",
    "           - Sub\n",
    "              - Sub\n",
    "           - Sub 2\n",
    "             - Language-Interpeter\n",
    "- Also it is object oriented"
   ]
  },
  {
   "cell_type": "markdown",
   "metadata": {},
   "source": [
    "- Python is ease to learn\n",
    "- Python is easy to write\n",
    "* Python is open source\n",
    "+ Python is high level Programming language\n",
    "    - High level means user understandable language\n",
    "      * Which is in english\n",
    "           - Sub\n",
    "              - Sub\n",
    "           - Sub 2\n",
    "             - Language-Interpeter\n",
    "- Also it is object oriented"
   ]
  },
  {
   "cell_type": "markdown",
   "metadata": {},
   "source": [
    "### Font Styles\n",
    "\n",
    "- I'm in *Bold* font style\n",
    "- I'm also in Bold font style\n",
    "- I'm in Italitic font style\n",
    "- I'm in Italitic font style\n",
    "- I'm in  both **Italitic and Bold** font style\n",
    "- I'm in both  _Italitic and bold_ font style\n",
    "- I'm *strike offed and bold and italic*"
   ]
  },
  {
   "cell_type": "markdown",
   "metadata": {},
   "source": [
    "### Font Styles\n",
    "\n",
    "- I'm in *Bold* font style\n",
    "- I'm also in Bold font style\n",
    "- I'm in Italitic font style\n",
    "- I'm in Italitic font style\n",
    "- I'm in  both **Italitic and Bold** font style\n",
    "- I'm in both  _Italitic and bold_ font style\n",
    "- I'm *strike offed and bold and italic*"
   ]
  },
  {
   "cell_type": "markdown",
   "metadata": {},
   "source": [
    "1. Main Point\n",
    "  -  A.Sub Point"
   ]
  },
  {
   "cell_type": "markdown",
   "metadata": {},
   "source": [
    "1. Main Point\n",
    "  -  A.Sub Point"
   ]
  },
  {
   "cell_type": "markdown",
   "metadata": {},
   "source": [
    "### Insert Image\n",
    "\n",
    "\n",
    "### Syntax ![Image Description](image path)\n",
    "\n",
    "! [Python Logo](https://images.ctfassets.net/mrop88jh71hl/55rrbZfwMaURHZKAUc5oOW/9e5fe805eb03135b82e962e92169ce6d/python-programming-language.png)"
   ]
  },
  {
   "cell_type": "markdown",
   "metadata": {},
   "source": [
    "### Insert Image\n",
    "\n",
    "\n",
    "### Syntax ![Image Description](image path)\n",
    "\n",
    "! [Python Logo](https://images.ctfassets.net/mrop88jh71hl/55rrbZfwMaURHZKAUc5oOW/9e5fe805eb03135b82e962e92169ce6d/python-programming-language.png)"
   ]
  },
  {
   "cell_type": "markdown",
   "metadata": {},
   "source": [
    "#### Tabular data\n",
    "\n",
    "|Name|RollNo|EmailId|\n",
    "|----|----|------|\n",
    "|Std1|[Roll1](https://images.ctfassets.net/mrop88jh71hl/55rrbZfwMaURHZKAUc5oOW/9e5fe805eb03135b82e962e92169ce6d/python-programming-language.png)|Email1|\n",
    "|Std2|*Roll2|*Email2|"
   ]
  },
  {
   "cell_type": "markdown",
   "metadata": {},
   "source": [
    "#### Tabular data\n",
    "\n",
    "|Name|RollNo|EmailId|\n",
    "|----|----|------|\n",
    "|Std1|[Roll1]()|Email1|\n",
    "|Std2|*Roll2|*Email2|"
   ]
  },
  {
   "cell_type": "markdown",
   "metadata": {},
   "source": [
    "### inserting code\n",
    "\n",
    "### C code for hello world\n",
    "\n",
    "\n",
    "#include<stdio.h>\n",
    "\n",
    "main()\n",
    "\n",
    "{\n",
    "\n",
    "  print(\"Heloo World\")\n",
    "\n",
    "}\n",
    "\n",
    "\n",
    "#### Python for hello world\n",
    "\n",
    "python\n",
    "\n",
    "print(\"Hello World\")\n",
    "\n",
    "#### Html code\n",
    "html\n",
    "<h1>Heading</h1>\n",
    "`"
   ]
  },
  {
   "cell_type": "markdown",
   "metadata": {},
   "source": [
    "### inserting code\n",
    "\n",
    "### C code for hello world\n",
    "\n",
    "\n",
    "#include<stdio.h>\n",
    "\n",
    "main()\n",
    "\n",
    "{\n",
    "\n",
    "  print(\"Heloo World\")\n",
    "\n",
    "}\n",
    "\n",
    "\n",
    "#### Python for hello world\n",
    "\n",
    "python\n",
    "\n",
    "print(\"Hello World\")\n",
    "\n",
    "#### Html code\n",
    "html\n",
    "<h1>Heading</h1>\n",
    "`"
   ]
  },
  {
   "cell_type": "markdown",
   "metadata": {},
   "source": [
    "### Quotes\n",
    "\n",
    "Normal Data\n",
    "\n",
    "> Sun rises in the East \n",
    "\n",
    "Normal Data\n",
    "\n",
    "Python is `easy` to learn"
   ]
  },
  {
   "cell_type": "markdown",
   "metadata": {},
   "source": [
    "### Quotes\n",
    "\n",
    "Normal Data\n",
    "\n",
    "> Sun rises in the East \n",
    "\n",
    "Normal Data\n",
    "\n",
    "Python is `easy` to learn"
   ]
  },
  {
   "cell_type": "markdown",
   "metadata": {},
   "source": [
    "### Mathematical Formulae\n",
    "\n",
    "\n",
    "# $$(a + b)^2 = a^2 + 2*a*b + b^2$$\n",
    "\n",
    "\n",
    "a + b whole square formula is $(a_1 + b_1)^2 = {a_1}^2 + 2*a_1*b_1 + {b_1}^2$\n",
    "\n",
    "\n",
    "$\\alpha + \\beta + \\gamma + \\kappa + \\lambda + \\iota + \\delta$\n",
    "\n",
    "$\\frac{a}{b}$\n",
    "\n",
    "$$\\begin{pmatrix} a & b \\\\ c & d \\end{pmatrix}$$"
   ]
  },
  {
   "cell_type": "markdown",
   "metadata": {},
   "source": [
    "### Mathematical Formulae\n",
    "\n",
    "\n",
    "# $$(a + b)^2 = a^2 + 2*a*b + b^2$$\n",
    "\n",
    "\n",
    "a + b whole square formula is $(a_1 + b_1)^2 = {a_1}^2 + 2*a_1*b_1 + {b_1}^2$\n",
    "\n",
    "\n",
    "$\\alpha + \\beta + \\gamma + \\kappa + \\lambda + \\iota + \\delta$\n",
    "\n",
    "$\\frac{a}{b}$\n",
    "\n",
    "$$\\begin{pmatrix} a & b \\\\ c & d \\end{pmatrix}$$"
   ]
  },
  {
   "cell_type": "code",
   "execution_count": null,
   "metadata": {},
   "outputs": [],
   "source": []
  }
 ],
 "metadata": {
  "kernelspec": {
   "display_name": "Python 3",
   "language": "python",
   "name": "python3"
  },
  "language_info": {
   "codemirror_mode": {
    "name": "ipython",
    "version": 3
   },
   "file_extension": ".py",
   "mimetype": "text/x-python",
   "name": "python",
   "nbconvert_exporter": "python",
   "pygments_lexer": "ipython3",
   "version": "3.7.3"
  }
 },
 "nbformat": 4,
 "nbformat_minor": 2
}
